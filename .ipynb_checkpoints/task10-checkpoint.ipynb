{
 "cells": [
  {
   "cell_type": "code",
   "execution_count": 1,
   "id": "2f3e2ca5-137a-4e70-a003-d381869a5f5a",
   "metadata": {},
   "outputs": [
    {
     "name": "stdout",
     "output_type": "stream",
     "text": [
      "Python 3.11.4\n"
     ]
    }
   ],
   "source": [
    "!python --version"
   ]
  },
  {
   "cell_type": "code",
   "execution_count": 2,
   "id": "05d0f3eb-11ac-446b-88f5-5350db9d8e76",
   "metadata": {},
   "outputs": [
    {
     "name": "stdout",
     "output_type": "stream",
     "text": [
      "1.8.1+cu111\n"
     ]
    }
   ],
   "source": [
    "import torch\n",
    "print(torch.__version__)"
   ]
  },
  {
   "cell_type": "code",
   "execution_count": 3,
   "id": "1ceaa7af-4699-4fdc-b413-b99521933876",
   "metadata": {},
   "outputs": [],
   "source": [
    "import zipfile\n",
    "import os"
   ]
  },
  {
   "cell_type": "code",
   "execution_count": 5,
   "id": "dab53999-8bf0-421d-bbbb-6343237efb5c",
   "metadata": {},
   "outputs": [
    {
     "name": "stdout",
     "output_type": "stream",
     "text": [
      "/data/intern_task5/task10\n"
     ]
    }
   ],
   "source": [
    "!pwd"
   ]
  },
  {
   "cell_type": "code",
   "execution_count": 6,
   "id": "2a0bf808-880d-4309-a11b-7cec9550365e",
   "metadata": {
    "scrolled": true
   },
   "outputs": [],
   "source": [
    "zipfile.ZipFile(\"KoBertSum-master.zip\").extractall()"
   ]
  },
  {
   "cell_type": "code",
   "execution_count": null,
   "id": "f112ca15-bedf-4b83-aab5-0a9a5950bb04",
   "metadata": {},
   "outputs": [],
   "source": [
    "# 파이토치 확인"
   ]
  },
  {
   "cell_type": "code",
   "execution_count": 3,
   "id": "6c3c7951-b522-48a7-86c3-a4c33d62c003",
   "metadata": {},
   "outputs": [
    {
     "data": {
      "text/plain": [
       "True"
      ]
     },
     "execution_count": 3,
     "metadata": {},
     "output_type": "execute_result"
    }
   ],
   "source": [
    "import torch\n",
    "torch.cuda.is_available()"
   ]
  },
  {
   "cell_type": "code",
   "execution_count": null,
   "id": "8f6181aa-cd60-410f-976e-b3c75903c4fa",
   "metadata": {},
   "outputs": [],
   "source": [
    "# 텐서보드"
   ]
  },
  {
   "cell_type": "code",
   "execution_count": 7,
   "id": "f8c5b3f2-d8cc-4997-bc12-e33c2e35ed1c",
   "metadata": {},
   "outputs": [],
   "source": [
    "import torch\n",
    "from torch.utils.tensorboard import SummaryWriter\n",
    "writer = SummaryWriter(\"task10/ext/models/0803_0331\")"
   ]
  },
  {
   "cell_type": "code",
   "execution_count": 9,
   "id": "b904c39a-4f88-4833-adb6-c4701fb9c4b2",
   "metadata": {},
   "outputs": [
    {
     "name": "stdout",
     "output_type": "stream",
     "text": [
      "/data/intern_task5/task10\n"
     ]
    }
   ],
   "source": [
    "!pwd"
   ]
  },
  {
   "cell_type": "code",
   "execution_count": 11,
   "id": "14dbc86e-13fc-4421-a80a-9e027e712979",
   "metadata": {
    "scrolled": true
   },
   "outputs": [
    {
     "name": "stdout",
     "output_type": "stream",
     "text": [
      "TensorFlow installation not found - running with reduced feature set.\n",
      "/root/miniconda3/lib/python3.8/site-packages/tensorboard_data_server/bin/server: /lib/x86_64-linux-gnu/libc.so.6: version `GLIBC_2.29' not found (required by /root/miniconda3/lib/python3.8/site-packages/tensorboard_data_server/bin/server)\n",
      "/root/miniconda3/lib/python3.8/site-packages/tensorboard_data_server/bin/server: /lib/x86_64-linux-gnu/libc.so.6: version `GLIBC_2.33' not found (required by /root/miniconda3/lib/python3.8/site-packages/tensorboard_data_server/bin/server)\n",
      "/root/miniconda3/lib/python3.8/site-packages/tensorboard_data_server/bin/server: /lib/x86_64-linux-gnu/libc.so.6: version `GLIBC_2.28' not found (required by /root/miniconda3/lib/python3.8/site-packages/tensorboard_data_server/bin/server)\n",
      "/root/miniconda3/lib/python3.8/site-packages/tensorboard_data_server/bin/server: /lib/x86_64-linux-gnu/libc.so.6: version `GLIBC_2.34' not found (required by /root/miniconda3/lib/python3.8/site-packages/tensorboard_data_server/bin/server)\n",
      "/root/miniconda3/lib/python3.8/site-packages/tensorboard_data_server/bin/server: /lib/x86_64-linux-gnu/libc.so.6: version `GLIBC_2.32' not found (required by /root/miniconda3/lib/python3.8/site-packages/tensorboard_data_server/bin/server)\n",
      "Serving TensorBoard on localhost; to expose to the network, use a proxy or pass --bind_all\n",
      "TensorBoard 2.13.0 at http://localhost:6006/ (Press CTRL+C to quit)\n",
      "^C\n"
     ]
    }
   ],
   "source": [
    "!tensorboard --logdir runs"
   ]
  },
  {
   "cell_type": "code",
   "execution_count": null,
   "id": "c8f17c9a-30bb-4780-ab8a-33922b0d8425",
   "metadata": {},
   "outputs": [],
   "source": [
    "#환경설정"
   ]
  },
  {
   "cell_type": "code",
   "execution_count": 5,
   "id": "941ff522-88fe-43c0-8a52-1ef302e63e26",
   "metadata": {},
   "outputs": [],
   "source": [
    "import numpy\n",
    "import pandas"
   ]
  },
  {
   "cell_type": "code",
   "execution_count": 6,
   "id": "01b517e7-776a-4ccf-a844-d2c7cf696d06",
   "metadata": {},
   "outputs": [
    {
     "name": "stdout",
     "output_type": "stream",
     "text": [
      "Looking in indexes: https://pypi.tuna.tsinghua.edu.cn/simple\n",
      "Collecting multiprocess\n",
      "  Downloading https://pypi.tuna.tsinghua.edu.cn/packages/e7/41/96ac938770ba6e7d5ae1d8c9cafebac54b413549042c6260f0d0a6ec6622/multiprocess-0.70.15-py311-none-any.whl (135 kB)\n",
      "\u001b[2K     \u001b[90m━━━━━━━━━━━━━━━━━━━━━━━━━━━━━━━━━━━━━\u001b[0m \u001b[32m135.4/135.4 kB\u001b[0m \u001b[31m613.7 kB/s\u001b[0m eta \u001b[36m0:00:00\u001b[0ma \u001b[36m0:00:01\u001b[0m\n",
      "\u001b[?25hCollecting dill>=0.3.7 (from multiprocess)\n",
      "  Downloading https://pypi.tuna.tsinghua.edu.cn/packages/f5/3a/74a29b11cf2cdfcd6ba89c0cecd70b37cd1ba7b77978ce611eb7a146a832/dill-0.3.7-py3-none-any.whl (115 kB)\n",
      "\u001b[2K     \u001b[90m━━━━━━━━━━━━━━━━━━━━━━━━━━━━━━━━━━━━━━━\u001b[0m \u001b[32m115.3/115.3 kB\u001b[0m \u001b[31m2.3 MB/s\u001b[0m eta \u001b[36m0:00:00\u001b[0ma \u001b[36m0:00:01\u001b[0m\n",
      "\u001b[?25hInstalling collected packages: dill, multiprocess\n",
      "Successfully installed dill-0.3.7 multiprocess-0.70.15\n",
      "\u001b[33mWARNING: Running pip as the 'root' user can result in broken permissions and conflicting behaviour with the system package manager. It is recommended to use a virtual environment instead: https://pip.pypa.io/warnings/venv\u001b[0m\u001b[33m\n",
      "\u001b[0mLooking in indexes: https://pypi.tuna.tsinghua.edu.cn/simple\n",
      "Collecting pyrouge\n",
      "  Downloading https://pypi.tuna.tsinghua.edu.cn/packages/11/85/e522dd6b36880ca19dcf7f262b22365748f56edc6f455e7b6a37d0382c32/pyrouge-0.1.3.tar.gz (60 kB)\n",
      "\u001b[2K     \u001b[90m━━━━━━━━━━━━━━━━━━━━━━━━━━━━━━━━━━━━━━━\u001b[0m \u001b[32m60.5/60.5 kB\u001b[0m \u001b[31m401.4 kB/s\u001b[0m eta \u001b[36m0:00:00\u001b[0ma \u001b[36m0:00:01\u001b[0m\n",
      "\u001b[?25h  Preparing metadata (setup.py) ... \u001b[?25ldone\n",
      "\u001b[?25hBuilding wheels for collected packages: pyrouge\n",
      "  Building wheel for pyrouge (setup.py) ... \u001b[?25ldone\n",
      "\u001b[?25h  Created wheel for pyrouge: filename=pyrouge-0.1.3-py3-none-any.whl size=191603 sha256=8d5bc109748057bdab4bca8063fc5dc0ad0d2fe1d06c6a12d8d680aa6010ffdb\n",
      "  Stored in directory: /root/.cache/pip/wheels/eb/e1/96/c8b4032a054ea6ab848bd17e82fedbbad18e7deb9b57c2b0f0\n",
      "Successfully built pyrouge\n",
      "Installing collected packages: pyrouge\n",
      "Successfully installed pyrouge-0.1.3\n",
      "\u001b[33mWARNING: Running pip as the 'root' user can result in broken permissions and conflicting behaviour with the system package manager. It is recommended to use a virtual environment instead: https://pip.pypa.io/warnings/venv\u001b[0m\u001b[33m\n",
      "\u001b[0mLooking in indexes: https://pypi.tuna.tsinghua.edu.cn/simple\n",
      "Collecting transformers\n",
      "  Downloading https://pypi.tuna.tsinghua.edu.cn/packages/21/02/ae8e595f45b6c8edee07913892b3b41f5f5f273962ad98851dc6a564bbb9/transformers-4.31.0-py3-none-any.whl (7.4 MB)\n",
      "\u001b[2K     \u001b[90m━━━━━━━━━━━━━━━━━━━━━━━━━━━━━━━━━━━━━━━━\u001b[0m \u001b[32m7.4/7.4 MB\u001b[0m \u001b[31m10.1 MB/s\u001b[0m eta \u001b[36m0:00:00\u001b[0m \u001b[36m0:00:01\u001b[0m0m\n",
      "\u001b[?25hCollecting filelock (from transformers)\n",
      "  Downloading https://pypi.tuna.tsinghua.edu.cn/packages/00/45/ec3407adf6f6b5bf867a4462b2b0af27597a26bd3cd6e2534cb6ab029938/filelock-3.12.2-py3-none-any.whl (10 kB)\n",
      "Collecting huggingface-hub<1.0,>=0.14.1 (from transformers)\n",
      "  Downloading https://pypi.tuna.tsinghua.edu.cn/packages/7f/c4/adcbe9a696c135578cabcbdd7331332daad4d49b7c43688bc2d36b3a47d2/huggingface_hub-0.16.4-py3-none-any.whl (268 kB)\n",
      "\u001b[2K     \u001b[90m━━━━━━━━━━━━━━━━━━━━━━━━━━━━━━━━━━━━━━\u001b[0m \u001b[32m268.8/268.8 kB\u001b[0m \u001b[31m52.8 MB/s\u001b[0m eta \u001b[36m0:00:00\u001b[0m\n",
      "\u001b[?25hCollecting numpy>=1.17 (from transformers)\n",
      "  Downloading https://pypi.tuna.tsinghua.edu.cn/packages/32/6a/65dbc57a89078af9ff8bfcd4c0761a50172d90192eaeb1b6f56e5fbf1c3d/numpy-1.25.2-cp311-cp311-manylinux_2_17_x86_64.manylinux2014_x86_64.whl (18.2 MB)\n",
      "\u001b[2K     \u001b[90m━━━━━━━━━━━━━━━━━━━━━━━━━━━━━━━━━━━━━━━━\u001b[0m \u001b[32m18.2/18.2 MB\u001b[0m \u001b[31m26.1 MB/s\u001b[0m eta \u001b[36m0:00:00\u001b[0m00:01\u001b[0m00:01\u001b[0m\n",
      "\u001b[?25hRequirement already satisfied: packaging>=20.0 in /root/miniconda3/lib/python3.11/site-packages (from transformers) (23.0)\n",
      "Collecting pyyaml>=5.1 (from transformers)\n",
      "  Downloading https://pypi.tuna.tsinghua.edu.cn/packages/7b/5e/efd033ab7199a0b2044dab3b9f7a4f6670e6a52c089de572e928d2873b06/PyYAML-6.0.1-cp311-cp311-manylinux_2_17_x86_64.manylinux2014_x86_64.whl (757 kB)\n",
      "\u001b[2K     \u001b[90m━━━━━━━━━━━━━━━━━━━━━━━━━━━━━━━━━━━━━━\u001b[0m \u001b[32m757.7/757.7 kB\u001b[0m \u001b[31m82.7 MB/s\u001b[0m eta \u001b[36m0:00:00\u001b[0m\n",
      "\u001b[?25hCollecting regex!=2019.12.17 (from transformers)\n",
      "  Downloading https://pypi.tuna.tsinghua.edu.cn/packages/ac/e1/5647cd9d8131d2d8b39cf02ded3799b21ab17434d1764fc2df9523ea3ad1/regex-2023.6.3-cp311-cp311-manylinux_2_17_x86_64.manylinux2014_x86_64.whl (781 kB)\n",
      "\u001b[2K     \u001b[90m━━━━━━━━━━━━━━━━━━━━━━━━━━━━━━━━━━━━━━\u001b[0m \u001b[32m781.9/781.9 kB\u001b[0m \u001b[31m73.6 MB/s\u001b[0m eta \u001b[36m0:00:00\u001b[0m\n",
      "\u001b[?25hRequirement already satisfied: requests in /root/miniconda3/lib/python3.11/site-packages (from transformers) (2.29.0)\n",
      "Collecting tokenizers!=0.11.3,<0.14,>=0.11.1 (from transformers)\n",
      "  Downloading https://pypi.tuna.tsinghua.edu.cn/packages/e9/d9/660f08ecd88bed54df9f85cab44e01184733c8e42d79b583fb985f1dc412/tokenizers-0.13.3-cp311-cp311-manylinux_2_17_x86_64.manylinux2014_x86_64.whl (7.8 MB)\n",
      "\u001b[2K     \u001b[90m━━━━━━━━━━━━━━━━━━━━━━━━━━━━━━━━━━━━━━━━\u001b[0m \u001b[32m7.8/7.8 MB\u001b[0m \u001b[31m24.0 MB/s\u001b[0m eta \u001b[36m0:00:00\u001b[0m00:01\u001b[0m00:01\u001b[0mm\n",
      "\u001b[?25hCollecting safetensors>=0.3.1 (from transformers)\n",
      "  Downloading https://pypi.tuna.tsinghua.edu.cn/packages/a9/3e/28bd47b8d0f709b680d9e5d5ff715df187adb1f806fde72478049d691873/safetensors-0.3.1-cp311-cp311-manylinux_2_17_x86_64.manylinux2014_x86_64.whl (1.3 MB)\n",
      "\u001b[2K     \u001b[90m━━━━━━━━━━━━━━━━━━━━━━━━━━━━━━━━━━━━━━━━\u001b[0m \u001b[32m1.3/1.3 MB\u001b[0m \u001b[31m79.5 MB/s\u001b[0m eta \u001b[36m0:00:00\u001b[0m\n",
      "\u001b[?25hRequirement already satisfied: tqdm>=4.27 in /root/miniconda3/lib/python3.11/site-packages (from transformers) (4.65.0)\n",
      "Collecting fsspec (from huggingface-hub<1.0,>=0.14.1->transformers)\n",
      "  Downloading https://pypi.tuna.tsinghua.edu.cn/packages/e3/bd/4c0a4619494188a9db5d77e2100ab7d544a42e76b2447869d8e124e981d8/fsspec-2023.6.0-py3-none-any.whl (163 kB)\n",
      "\u001b[2K     \u001b[90m━━━━━━━━━━━━━━━━━━━━━━━━━━━━━━━━━━━━━━\u001b[0m \u001b[32m163.8/163.8 kB\u001b[0m \u001b[31m54.3 MB/s\u001b[0m eta \u001b[36m0:00:00\u001b[0m\n",
      "\u001b[?25hCollecting typing-extensions>=3.7.4.3 (from huggingface-hub<1.0,>=0.14.1->transformers)\n",
      "  Downloading https://pypi.tuna.tsinghua.edu.cn/packages/ec/6b/63cc3df74987c36fe26157ee12e09e8f9db4de771e0f3404263117e75b95/typing_extensions-4.7.1-py3-none-any.whl (33 kB)\n",
      "Requirement already satisfied: charset-normalizer<4,>=2 in /root/miniconda3/lib/python3.11/site-packages (from requests->transformers) (2.0.4)\n",
      "Requirement already satisfied: idna<4,>=2.5 in /root/miniconda3/lib/python3.11/site-packages (from requests->transformers) (3.4)\n",
      "Requirement already satisfied: urllib3<1.27,>=1.21.1 in /root/miniconda3/lib/python3.11/site-packages (from requests->transformers) (1.26.16)\n",
      "Requirement already satisfied: certifi>=2017.4.17 in /root/miniconda3/lib/python3.11/site-packages (from requests->transformers) (2023.5.7)\n",
      "Installing collected packages: tokenizers, safetensors, typing-extensions, regex, pyyaml, numpy, fsspec, filelock, huggingface-hub, transformers\n",
      "Successfully installed filelock-3.12.2 fsspec-2023.6.0 huggingface-hub-0.16.4 numpy-1.25.2 pyyaml-6.0.1 regex-2023.6.3 safetensors-0.3.1 tokenizers-0.13.3 transformers-4.31.0 typing-extensions-4.7.1\n",
      "\u001b[33mWARNING: Running pip as the 'root' user can result in broken permissions and conflicting behaviour with the system package manager. It is recommended to use a virtual environment instead: https://pip.pypa.io/warnings/venv\u001b[0m\u001b[33m\n",
      "\u001b[0mLooking in indexes: https://pypi.tuna.tsinghua.edu.cn/simple\n",
      "Collecting tensorboardX\n",
      "  Downloading https://pypi.tuna.tsinghua.edu.cn/packages/44/7b/eee50dcadcee4c674353ca207fdcd53a5b1f382021af1ed1797f9c0c45d2/tensorboardX-2.6.2-py2.py3-none-any.whl (101 kB)\n",
      "\u001b[2K     \u001b[90m━━━━━━━━━━━━━━━━━━━━━━━━━━━━━━━━━━━━━\u001b[0m \u001b[32m101.6/101.6 kB\u001b[0m \u001b[31m504.4 kB/s\u001b[0m eta \u001b[36m0:00:00\u001b[0ma \u001b[36m0:00:01\u001b[0m\n",
      "\u001b[?25hRequirement already satisfied: numpy in /root/miniconda3/lib/python3.11/site-packages (from tensorboardX) (1.25.2)\n",
      "Requirement already satisfied: packaging in /root/miniconda3/lib/python3.11/site-packages (from tensorboardX) (23.0)\n",
      "Collecting protobuf (from tensorboardX)\n",
      "  Downloading https://pypi.tuna.tsinghua.edu.cn/packages/01/cb/445b3e465abdb8042a41957dc8f60c54620dc7540dbcf9b458a921531ca2/protobuf-4.23.4-cp37-abi3-manylinux2014_x86_64.whl (304 kB)\n",
      "\u001b[2K     \u001b[90m━━━━━━━━━━━━━━━━━━━━━━━━━━━━━━━━━━━━━━━\u001b[0m \u001b[32m304.5/304.5 kB\u001b[0m \u001b[31m2.9 MB/s\u001b[0m eta \u001b[36m0:00:00\u001b[0ma \u001b[36m0:00:01\u001b[0m\n",
      "\u001b[?25hInstalling collected packages: protobuf, tensorboardX\n",
      "Successfully installed protobuf-4.23.4 tensorboardX-2.6.2\n",
      "\u001b[33mWARNING: Running pip as the 'root' user can result in broken permissions and conflicting behaviour with the system package manager. It is recommended to use a virtual environment instead: https://pip.pypa.io/warnings/venv\u001b[0m\u001b[33m\n",
      "\u001b[0mLooking in indexes: https://pypi.tuna.tsinghua.edu.cn/simple\n",
      "Collecting kss\n",
      "  Downloading https://pypi.tuna.tsinghua.edu.cn/packages/28/f6/294e63b8a0f4f5297b5cf64e40d8eaa89551aedb60eb49ac55b3e3384f9b/kss-4.5.4.tar.gz (79 kB)\n",
      "\u001b[2K     \u001b[90m━━━━━━━━━━━━━━━━━━━━━━━━━━━━━━━━━━━━━━━\u001b[0m \u001b[32m79.1/79.1 kB\u001b[0m \u001b[31m455.7 kB/s\u001b[0m eta \u001b[36m0:00:00\u001b[0ma \u001b[36m0:00:01\u001b[0m\n",
      "\u001b[?25h  Preparing metadata (setup.py) ... \u001b[?25ldone\n",
      "\u001b[?25hCollecting emoji==1.2.0 (from kss)\n",
      "  Downloading https://pypi.tuna.tsinghua.edu.cn/packages/24/fa/b3368f41b95a286f8d300e323449ab4e86b85334c2e0b477e94422b8ed0f/emoji-1.2.0-py3-none-any.whl (131 kB)\n",
      "\u001b[2K     \u001b[90m━━━━━━━━━━━━━━━━━━━━━━━━━━━━━━━━━━━━━━━\u001b[0m \u001b[32m131.3/131.3 kB\u001b[0m \u001b[31m1.3 MB/s\u001b[0m eta \u001b[36m0:00:00\u001b[0ma \u001b[36m0:00:01\u001b[0m\n",
      "\u001b[?25hRequirement already satisfied: regex in /root/miniconda3/lib/python3.11/site-packages (from kss) (2023.6.3)\n",
      "Collecting pecab (from kss)\n",
      "  Downloading https://pypi.tuna.tsinghua.edu.cn/packages/05/94/8d1d43b66728d987d2bcdf98654338c0425720431726a5def43697c0b479/pecab-1.0.8.tar.gz (26.4 MB)\n",
      "\u001b[2K     \u001b[90m━━━━━━━━━━━━━━━━━━━━━━━━━━━━━━━━━━━━━━━━\u001b[0m \u001b[32m26.4/26.4 MB\u001b[0m \u001b[31m28.0 MB/s\u001b[0m eta \u001b[36m0:00:00\u001b[0m00:01\u001b[0m00:01\u001b[0m\n",
      "\u001b[?25h  Preparing metadata (setup.py) ... \u001b[?25ldone\n",
      "\u001b[?25hCollecting networkx (from kss)\n",
      "  Downloading https://pypi.tuna.tsinghua.edu.cn/packages/a8/05/9d4f9b78ead6b2661d6e8ea772e111fc4a9fbd866ad0c81906c11206b55e/networkx-3.1-py3-none-any.whl (2.1 MB)\n",
      "\u001b[2K     \u001b[90m━━━━━━━━━━━━━━━━━━━━━━━━━━━━━━━━━━━━━━━━\u001b[0m \u001b[32m2.1/2.1 MB\u001b[0m \u001b[31m33.0 MB/s\u001b[0m eta \u001b[36m0:00:00\u001b[0m:00:01\u001b[0m\n",
      "\u001b[?25hRequirement already satisfied: numpy in /root/miniconda3/lib/python3.11/site-packages (from pecab->kss) (1.25.2)\n",
      "Collecting pyarrow (from pecab->kss)\n",
      "  Downloading https://pypi.tuna.tsinghua.edu.cn/packages/c5/52/19832487e6834164c523386a1b047dd5539fcbb876196b6f5619dfdab465/pyarrow-12.0.1-cp311-cp311-manylinux_2_17_x86_64.manylinux2014_x86_64.whl (38.9 MB)\n",
      "\u001b[2K     \u001b[90m━━━━━━━━━━━━━━━━━━━━━━━━━━━━━━━━━━━━━━━━\u001b[0m \u001b[32m38.9/38.9 MB\u001b[0m \u001b[31m19.7 MB/s\u001b[0m eta \u001b[36m0:00:00\u001b[0m00:01\u001b[0m00:01\u001b[0m\n",
      "\u001b[?25hCollecting pytest (from pecab->kss)\n",
      "  Downloading https://pypi.tuna.tsinghua.edu.cn/packages/33/b2/741130cbcf2bbfa852ed95a60dc311c9e232c7ed25bac3d9b8880a8df4ae/pytest-7.4.0-py3-none-any.whl (323 kB)\n",
      "\u001b[2K     \u001b[90m━━━━━━━━━━━━━━━━━━━━━━━━━━━━━━━━━━━━━━\u001b[0m \u001b[32m323.6/323.6 kB\u001b[0m \u001b[31m77.0 MB/s\u001b[0m eta \u001b[36m0:00:00\u001b[0m\n",
      "\u001b[?25hCollecting iniconfig (from pytest->pecab->kss)\n",
      "  Downloading https://pypi.tuna.tsinghua.edu.cn/packages/ef/a6/62565a6e1cf69e10f5727360368e451d4b7f58beeac6173dc9db836a5b46/iniconfig-2.0.0-py3-none-any.whl (5.9 kB)\n",
      "Requirement already satisfied: packaging in /root/miniconda3/lib/python3.11/site-packages (from pytest->pecab->kss) (23.0)\n",
      "Requirement already satisfied: pluggy<2.0,>=0.12 in /root/miniconda3/lib/python3.11/site-packages (from pytest->pecab->kss) (1.0.0)\n",
      "Building wheels for collected packages: kss, pecab\n",
      "  Building wheel for kss (setup.py) ... \u001b[?25ldone\n",
      "\u001b[?25h  Created wheel for kss: filename=kss-4.5.4-py3-none-any.whl size=54467 sha256=033579e27767ab9099478265787a70715502fbb1f96ccc7795ca6b52efbe5817\n",
      "  Stored in directory: /root/.cache/pip/wheels/07/0a/ea/aadfe92238681fbf594507bce32909dd2ff0c41a3729ea9e92\n",
      "  Building wheel for pecab (setup.py) ... \u001b[?25ldone\n",
      "\u001b[?25h  Created wheel for pecab: filename=pecab-1.0.8-py3-none-any.whl size=26646665 sha256=a7bbe4267b81d6ab305f1e91e2f619f2a0da84042562c2fca112836a2f90792b\n",
      "  Stored in directory: /root/.cache/pip/wheels/75/71/b1/70a447fb315b9750d618309d00911ec229ceb8fc7875de4f7c\n",
      "Successfully built kss pecab\n",
      "Installing collected packages: emoji, pyarrow, networkx, iniconfig, pytest, pecab, kss\n",
      "Successfully installed emoji-1.2.0 iniconfig-2.0.0 kss-4.5.4 networkx-3.1 pecab-1.0.8 pyarrow-12.0.1 pytest-7.4.0\n",
      "\u001b[33mWARNING: Running pip as the 'root' user can result in broken permissions and conflicting behaviour with the system package manager. It is recommended to use a virtual environment instead: https://pip.pypa.io/warnings/venv\u001b[0m\u001b[33m\n",
      "\u001b[0mLooking in indexes: https://pypi.tuna.tsinghua.edu.cn/simple\n",
      "Collecting bs4\n",
      "  Downloading https://pypi.tuna.tsinghua.edu.cn/packages/10/ed/7e8b97591f6f456174139ec089c769f89a94a1a4025fe967691de971f314/bs4-0.0.1.tar.gz (1.1 kB)\n",
      "  Preparing metadata (setup.py) ... \u001b[?25ldone\n",
      "\u001b[?25hCollecting beautifulsoup4 (from bs4)\n",
      "  Downloading https://pypi.tuna.tsinghua.edu.cn/packages/57/f4/a69c20ee4f660081a7dedb1ac57f29be9378e04edfcb90c526b923d4bebc/beautifulsoup4-4.12.2-py3-none-any.whl (142 kB)\n",
      "\u001b[2K     \u001b[90m━━━━━━━━━━━━━━━━━━━━━━━━━━━━━━━━━━━━━\u001b[0m \u001b[32m143.0/143.0 kB\u001b[0m \u001b[31m612.0 kB/s\u001b[0m eta \u001b[36m0:00:00\u001b[0ma \u001b[36m0:00:01\u001b[0m\n",
      "\u001b[?25hCollecting soupsieve>1.2 (from beautifulsoup4->bs4)\n",
      "  Downloading https://pypi.tuna.tsinghua.edu.cn/packages/49/37/673d6490efc51ec46d198c75903d99de59baffdd47aea3d071b80a9e4e89/soupsieve-2.4.1-py3-none-any.whl (36 kB)\n",
      "Building wheels for collected packages: bs4\n",
      "  Building wheel for bs4 (setup.py) ... \u001b[?25ldone\n",
      "\u001b[?25h  Created wheel for bs4: filename=bs4-0.0.1-py3-none-any.whl size=1256 sha256=0d7a76a571a0f463870ce21960c95254929a0c93820a1c4bfd4ea9e7b038fcfd\n",
      "  Stored in directory: /root/.cache/pip/wheels/00/56/6d/09f183d37e4504cee64019b7fef2c7e432397df557cf943bf9\n",
      "Successfully built bs4\n",
      "Installing collected packages: soupsieve, beautifulsoup4, bs4\n",
      "Successfully installed beautifulsoup4-4.12.2 bs4-0.0.1 soupsieve-2.4.1\n",
      "\u001b[33mWARNING: Running pip as the 'root' user can result in broken permissions and conflicting behaviour with the system package manager. It is recommended to use a virtual environment instead: https://pip.pypa.io/warnings/venv\u001b[0m\u001b[33m\n",
      "\u001b[0mLooking in indexes: https://pypi.tuna.tsinghua.edu.cn/simple\n",
      "Collecting pandas\n",
      "  Downloading https://pypi.tuna.tsinghua.edu.cn/packages/d0/28/88b81881c056376254618fad622a5e94b5126db8c61157ea1910cd1c040a/pandas-2.0.3-cp311-cp311-manylinux_2_17_x86_64.manylinux2014_x86_64.whl (12.2 MB)\n",
      "\u001b[2K     \u001b[90m━━━━━━━━━━━━━━━━━━━━━━━━━━━━━━━━━━━━━━━━\u001b[0m \u001b[32m12.2/12.2 MB\u001b[0m \u001b[31m28.7 MB/s\u001b[0m eta \u001b[36m0:00:00\u001b[0m00:01\u001b[0m00:01\u001b[0m\n",
      "\u001b[?25hCollecting python-dateutil>=2.8.2 (from pandas)\n",
      "  Downloading https://pypi.tuna.tsinghua.edu.cn/packages/36/7a/87837f39d0296e723bb9b62bbb257d0355c7f6128853c78955f57342a56d/python_dateutil-2.8.2-py2.py3-none-any.whl (247 kB)\n",
      "\u001b[2K     \u001b[90m━━━━━━━━━━━━━━━━━━━━━━━━━━━━━━━━━━━━━━\u001b[0m \u001b[32m247.7/247.7 kB\u001b[0m \u001b[31m49.9 MB/s\u001b[0m eta \u001b[36m0:00:00\u001b[0m\n",
      "\u001b[?25hCollecting pytz>=2020.1 (from pandas)\n",
      "  Downloading https://pypi.tuna.tsinghua.edu.cn/packages/7f/99/ad6bd37e748257dd70d6f85d916cafe79c0b0f5e2e95b11f7fbc82bf3110/pytz-2023.3-py2.py3-none-any.whl (502 kB)\n",
      "\u001b[2K     \u001b[90m━━━━━━━━━━━━━━━━━━━━━━━━━━━━━━━━━━━━━━\u001b[0m \u001b[32m502.3/502.3 kB\u001b[0m \u001b[31m46.7 MB/s\u001b[0m eta \u001b[36m0:00:00\u001b[0m\n",
      "\u001b[?25hCollecting tzdata>=2022.1 (from pandas)\n",
      "  Downloading https://pypi.tuna.tsinghua.edu.cn/packages/d5/fb/a79efcab32b8a1f1ddca7f35109a50e4a80d42ac1c9187ab46522b2407d7/tzdata-2023.3-py2.py3-none-any.whl (341 kB)\n",
      "\u001b[2K     \u001b[90m━━━━━━━━━━━━━━━━━━━━━━━━━━━━━━━━━━━━━━\u001b[0m \u001b[32m341.8/341.8 kB\u001b[0m \u001b[31m75.0 MB/s\u001b[0m eta \u001b[36m0:00:00\u001b[0m\n",
      "\u001b[?25hRequirement already satisfied: numpy>=1.21.0 in /root/miniconda3/lib/python3.11/site-packages (from pandas) (1.25.2)\n",
      "Requirement already satisfied: six>=1.5 in /root/miniconda3/lib/python3.11/site-packages (from python-dateutil>=2.8.2->pandas) (1.16.0)\n",
      "Installing collected packages: pytz, tzdata, python-dateutil, pandas\n",
      "Successfully installed pandas-2.0.3 python-dateutil-2.8.2 pytz-2023.3 tzdata-2023.3\n",
      "\u001b[33mWARNING: Running pip as the 'root' user can result in broken permissions and conflicting behaviour with the system package manager. It is recommended to use a virtual environment instead: https://pip.pypa.io/warnings/venv\u001b[0m\u001b[33m\n",
      "\u001b[0m"
     ]
    }
   ],
   "source": [
    "!pip install multiprocess\n",
    "!pip install pyrouge\n",
    "!pip install transformers\n",
    "!pip install tensorboardX\n",
    "!pip install kss\n",
    "!pip install bs4\n",
    "!pip install pandas"
   ]
  },
  {
   "cell_type": "code",
   "execution_count": null,
   "id": "84b43a70-2e2d-4d6a-bb9f-36ec81fb6ccc",
   "metadata": {},
   "outputs": [],
   "source": [
    "# gold 파일 열어보기"
   ]
  },
  {
   "cell_type": "code",
   "execution_count": 28,
   "id": "5c61e9e1-35a4-4237-80da-b11c05d27bf0",
   "metadata": {},
   "outputs": [
    {
     "name": "stdout",
     "output_type": "stream",
     "text": [
      "/data/intern_task5\n"
     ]
    }
   ],
   "source": [
    "!pwd"
   ]
  },
  {
   "cell_type": "code",
   "execution_count": 66,
   "id": "446321a3-5982-4e43-be4c-ab040b78999a",
   "metadata": {},
   "outputs": [
    {
     "data": {
      "text/plain": [
       "['[\\'더불어민주당 이해찬 대표가 30 일 오후 국회에서 기자간담회를 열고 조국 전 법무부 장관 사태와 관련해 \"국민 여러분께 매우 송구하다\"고 밝혔다.\\', \\'민생을 외면하며 낡은 이념과 진영 싸움에 매몰된 구시대 인물들을 과감히 물갈이하라는 게 국민의 요구다.\\', \\'이 대표는 \"검찰 개혁이란 대의에 집중하다 보니, 국민 특히 청년이 느꼈을 불공정에 대한 상대적 박탈감, 좌절감을 깊이 있게 헤아리지 못했다\"며 \"여당 대표로서 무거운 책임감을 느낀다\"고 머리를 숙였다.\\', \\'무조건 물러나는 게 능사는 아니지만 국정 혼선을 초래한 데 대해 당 지도부가 겸허하게 책임지는 모습을 보이는 게 쇄신의 출발점이 돼야 한다는 지적도 있다.\\', \\'이 대표는 \"민주당의 가치를 공유하는 참신한 인물을 영입해 준비된 정책과 인물로 승부하겠다\"고 다짐했다.\\', \\'뒤늦게나마 이 대표가 자성의 목소리를 내긴 했으나 당 안팎의 쇄신 요구에 어떻게 응할지 구체적 플랜을 제시하지 못해 여전히 안이하다는 지적도 나온다.\\', \"청와대와 여당은 \\'조국 정국\\'을 거치며 분출된 \\'공정\\'과 \\'정의\\'의 민심을 받들어 검찰 개혁에 매진하겠다면서도 두 달간 극심한 분열과 갈등을 초래한데 대해선 진지하게 성찰하는 모습을 보이지 않았다.\", \\'선거는 대중의 이해와 요구를 잘 대표하는 정치인을 뽑는 행위다.\\', \\'하지만 당 일각에선 \"총선기획단장을 비롯한 당직 인선부터 쇄신 의지를 보여야 한다\"는 비판의 목소리가 나온다.\\', \\'이 대표는 28 일 윤호중 사무총장을 단장으로 하는 총선기획단을 발족했고 조만간 인재영입위원회도 출범시킬 계획이라고 밝혔다.\\', \\'그나마 초선인 이철희 의원이 \"당이 대통령 뒤에 비겁하게 숨어 있었다\"고 비판했고, 표창원 의원은 \"책임을 느끼는 분들이 각자 형태로 그 책임감을 행동으로 옮겨야 할 때\"라고 지적했다.\\']\\n',\n",
       " '[\\'탈원전 정책에서 비롯된 한국전력의 경영 부담이 결국 전기료 인상을 초래하게 됐다.\\', \\'김종갑 한전 사장은 언론 인터뷰에서 \"정부 정책에 따라 도입된 각종 전기료 특례할인을 모두 폐지하고 전기요금 원가공개 방안을 정부와 협의하겠다\"고 밝혔다.\\', \\'\"탈원전으로 전기료 인상은 없다\"고 공언하며 한전을 망가뜨린 것도 모자라 한전 돈으로 생색내기에 나선 모양새다.\\', \\'한전의 앞날과 더 늘어날 국민 부담을 고민한다면 정부는 이제라도 탈원전 속도를 조절하면서 무엇이 옳은지 냉정히 따져야 한다.\\', \\'이 제도가 없어지면 부담은 고스란히 국민에게 돌아가게 된다.\\', \\'s&p가 한전의 주요 재무지표에 대해 앞으로 1~2 년간 개선되기 어렵다고 밝힌 점으로 미뤄 신용등급의 추가 하향 조정 가능성도 배제하기 어렵다.\\', \\'이런 상황에서도 정부는 다음달부터 연말까지 전력효율이 높은 가전제품을 사면 구입가의 10%를 환급해 준다며 한전 출연금을 재원의 일부로 사용하기로 했다.\\', \\'원전 가동을 줄이고 발전 단가가 높은 민간 발전사의 전기 구매를 늘린 탓에 한전의 발전 원가는 2016 년 25 조원 수준에서 2018 년 38 조원 수준으로 급등했다.\\', \\'전기료 인상은 예견됐던 것이나 마찬가지다.\\', \\'적자는 올해 상반기 9285 억원으로 더 불어났다.\\', \\'한전의 추락은 국제신용평가사들의 평가에도 그대로 적용된다.\\', \\'탈원전 정책의 충격이 커지면서 재무 부담이 가중되고 있다는 게 하향 조정 이유다.\\', \\'영업이익이 같은 기간 12 조 16 억원 흑자에서 2080 억원 적자로 급반전한 것은 필연적인 결과다.\\', \\'문재인 정부 출범 이후 탈원전 정책이 가속화되면서 한전 경영이 악화일로를 달려왔기 때문이다.\\', \"표면적으로는 \\'재무 부담\\'이란 용어를 사용했지만 한전의 기초체력이 급속히 악화되고 있다는 경고와 다를 바 없다.\", \\'우량회사가 2 년여 만에 적자의 수렁에 처박힌 꼴이다.\\', \\'s&p는 그제 한전의 신용등급을 기존 bbb에서 bbb-로 내렸다.\\', \\'특례할인은 여름철 누진제, 주택용 절전 및 전기차 충전 등의 명목으로 전기료를 깎아주는 제도로서, 작년 1 조 1434 억원에 달했다.\\']\\n',\n",
       " '[\"북한이 그제 금강산국제관광국 명의로 통일부와 현대아산에 통지문을 보내 금강산관광 시설 철거와 관련해 기존 \\'문서 교환\\' 방식의 협의를 거듭 주장했다.\", \\'남북관계를 훼손하는 북한의 안하무인 억지 처사는 어제오늘 일이 아니다.\\', \\'단절된 남북대화 재개의 기회를 걷어차는 어리석은 몽니가 아닐 수 없다.\\', \\'대화 복원을 위한 적극적인 의지로 이해되지만 일방적인 요구에 끌려만 다녀서는 안 될 것이다.\\', \\'정부는 북측에 대면 협의를 다시 요청하는 방안을 검토할 것이라고 한다.\\', \\'꽉 막혀 있는 남북관계를 풀려는 고육책이라고 하지만 저자세로 양보만 하려 한다는 비판을 피하기 어렵다.\\', \\'어떤 형태로든 남북 당국자 간 직접 대화를 하지 않겠다는 의도다.\\', \\'애초 금강패밀리비치호텔, 해금강호텔 등 수천억원이 투자된 민간기업 재산권이 걸려 있는 금강산 내 남측 시설을 \"싹 들어내라\"는 것부터가 상식 밖이다.\\', \"일방적으로 \\'철거 운운\\'한 것은 사실상 공갈·협박이나 다름없다.\", \"전날 우리 정부의 \\'대면 실무회담\\' 제안을 단 하루 만에 거절한 것이다.\", \"사정이 이런데도 정부는 금강산관광 재개를 위한 \\'창의적 해법\\'을 모색 중이라고 한다.\", \\'더구나 현대아산의 금강산관광지구 독점사업권은 유효기간이 50 년이므로, 아직 30 년 가까이 남아 있는 상황이다.\\', \"말이 \\'창의적 해법\\'이지 실상은 개별관광 허용이나 관광대금 현물 납부, 제3 국 계좌에 관광대금을 예치하는 \\'에스크로 계좌\\' 방식 등 유엔 제재를 피할 우회로를 찾겠다는 것이다.\", \\'금강산관광 재개를 위해 우리 정부가 방안을 마련해야 한다는 압박용으로 이해한다 해도 지나치다.\\', \\'문서 교환으로는 풀기 어려운 다각도의 협의가 필요한 사안이라는 얘기다.\\', \\'시설 철거와 관련한 복잡한 업무를 문서 교환으로 해결하자는 주장도 황당하다.\\', \\'자신들 입맛대로 처리하려는 속셈이라는 의구심을 지울 수 없다.\\', \\'게다가 금강산관광 재개 여부는 남북만의 문제가 아닌 유엔 제재 사항이다.\\']\\n',\n",
       " '[\\'지난달 한국의 소비자물가상승률이 경제협력개발기구(oecd) 회원국 중 가장 낮았다.\\', \\'oecd가 집계한 국가별 소비자물가 통계에서 9 월 한국 상승률은 전년 동월 대비 -0.4%로, oecd 회원국과 가입예정국 40 개 나라 가운데 최저로 나타났다.\\', \\'물가하락과 수요위축에 따른 생산 및 투자 감퇴, 소득 감소, 경제성장률 추락의 악순환으로 이어지는 디플레에 대한 경고에 다름없다.\\', \\'그러나 경제활력이 떨어지면서 민간소비와 기업투자가 줄고, 이 같은 수요측 물가상승 압력이 낮아지는 현상을 우려했다.\\', \\'kdi는 앞으로 물가가 계속 떨어질 가능성이 높지 않다는 점에서 현 상황을 디플레로 보기는 어렵다고 했다.\\', \\'수요위축에 따른 물가하락은 디플레이션의 징후다.\\', \\'8 월에는 0%, 9 월 -0.4%까지 뒷걸음쳤다.\\', \\'정부가 과거 높았던 물가상승률에 따른 기저효과와 유가하락, 무상복지 확대 등 공급측면만 강조하면서 마이너스 물가를 설명한 것과 배치된다.\\', \\'한국 물가상승률이 주요국에 비해 훨씬 빠른 속도로 떨어지고 있다.\\', \\'그러나 올 들어 계속 하락하는 추세다.\\', \\'1965 년 통계가 작성된 이래 54 년 만에 가장 낮은 수치다.\\', \\'민간투자 감소에 따른 소비 둔화와 농산물가격 하락이 마이너스 물가상승률의 주된 원인으로 지적된다.\\', \\'이 같은 저물가가 공급측면보다 수요의 위축에서 비롯되고 있다는 점이 심각하다.\\', \\'kdi는 \"특정 품목이 주도했다기보다 다수 품목에서 광범위하게 물가가 낮아지고 있다\"고 진단했다.\\', \"국책연구기관인 한국개발연구원(kdi)은 28 일 내놓은 \\'물가상승률 하락에 대한 평가와 시사점\\' 보고서에서 저물가의 주된 원인을 수요감퇴로 꼽았다.\", \\'작년 9 월에는 2.1%로 oecd 평균 2.9%, 미국 2.3%보다 낮았지만, 유로존과 같고 일본(1.2%)보다 높았다.\\', \\'반면 미국은 1.7%, 유로존 0.8%, 일본 0.2%였다.\\']\\n',\n",
       " '[\\'김종갑 한국전력 사장이 1 조1 천억원이 넘는 각종 전기료 특례 할인을 모두 폐지하고 전기요금 원가를 공개하는 방안 등을 정부와 협의를 거쳐 추진하겠다고 밝혔다.\\', \\'문재인 정부의 탈원전 정책에 따른 부담을 한전이 더는 감내하기 어렵자 사실상의 전기료 인상을 들고나온 것이다.\\', \\'한전은 국민에게 전기료 부담을 전가하지 말고 원전 비중을 올려서 재무구조를 개선해야 한다.\\', \\'한전이 더는 버티기 어려운 한계에 달했고 결국 전기료 인상이 눈앞에 닥쳐왔다.\\', \\'해법은 나와 있다.\\', \"탈원전을 강행할 때부터 한전의 부실, 그에 따른 전기료 인상은 \\'예고된 재앙\\'이었다.\", \\'지난해 6 년 만에 1 조1 천700 억원에 이르는 영업적자를 냈고 올 상반기엔 영업적자 9 천285 억원을 기록했다.\\', \\'문재인 정부의 약속이 식언(食言)이 될 우려가 커진 것이다.\\', \\'문 정부는 탈원전을 추진하면서 \"전기료 인상은 없다\"고 공언했다.\\', \\'정부는 한전의 적자가 탈원전과 무관하다고 주장하지만 한전이 발전단가가 싼 원전 대신 고가의 액화천연가스(lng), 재생에너지 비중을 높인 영향이 크다는 게 중론이다.\\', \\'연간 수조원이 넘는 흑자를 내던 한전은 탈원전 이후 적자의 늪에 빠졌다.\\', \"이 탓에 스탠더드앤드푸어스(s＆p)는 한전의 신용 등급을 \\'bbb\\'에서 투자 적격 등급 10 개 중 가장 낮은 등급 \\'bbb-\\'로 하향 조정했다.\", \\'그러나 탈원전으로 적자 확대 등 한전의 경영이 악화함에 따라 전기료 인상이 불가피한 상황으로 내몰리게 됐다.\\', \\'전기료 특례 할인은 필수 사용량 보장 공제, 여름철 누진제 할인, 주택용 절전 할인, 에너지저장장치(ess) 충전 할인, 신재생에너지 할인, 전기차 충전 할인 등으로 작년 1 조1 천434 억원에 달했는데 한전 비용으로 전가됐다.\\']\\n',\n",
       " '[\\'서울시가 내년부터 3 천300 억원의 예산으로 청년수당 확대 지급을 발표하자 권영진 대구시장이 발끈하고 나섰다.\\', \"박원순 서울시장의 무분별한 \\'현금 복지\\'가 지방 청년에게 위화감을 조성하고 청년인구 유출에도 심각한 영향을 줄 것이라는 우려 때문이다.\", \\'물론 당장 일자리가 없어 생계가 곤란한 청년들에게 현금 복지가 취업의 마중물이 될 수 있고 또한 생활에 일정 부분 도움이 될 수는 있다.\\', \\'하지만 그만한 규모의 예산이라면 벤처기업 지원을 통한 일자리 창출 등 다양한 방안을 찾을 수 있다는 점에서 서울시의 정책 재검토 등 신중한 결정이 필요하다.\\', \"최근 서울시는 \\'2020 서울시 청년출발지원정책\\'을 발표했다.\", \\'서울 거주 청년과 어렵기는 매한가지인 지방 청년들이 서울시의 사례를 지켜보고 어떤 감정을 가질지는 말하지 않아도 뻔하다.\\', \\'서울시의 이 같은 현금 복지는 그럴 형편이 못 되는 다른 지자체나 우리 사회 전체에 크고 작은 영향 등 부작용을 초래할 수 있다.\\', \\'재정 형편이 넉넉한 서울특별시가 일자리난으로 어려움을 겪는 청년들을 위해 현금 지원 정책을 펴는 것에 대해 굳이 날을 세워 비판하고 깎아내릴 이유는 없다.\\', \\'내년 지급 대상자 3 만 명 등 3 년간 총 10 만 명의 미취업 청년에게 별도의 심사 없이 요건만 맞으면 바로 수당을 지급한다는 것이다.\\', \\'대구시도 현재 월 50 만원씩 3 개월간 청년수당을 주고 있으나 대상자가 1 천466 명에 불과하고 전체 예산이라고 해봐야 고작 10 억원이 전부다.\\', \\'하지만 서울과 지방 간의 형평성 등 문제가 그리 간단치 않다는 점에서 서울시의 보다 신중한 정책 판단을 바라는 것이다.\\', \\'연평균 예산 규모로 따지면 1 천100 억원이다.\\', \\'현재 만 19~34 세 중위소득 150% 미만 미취업 청년 6 천500 명에게 매달 50 만원씩 6 개월간 지급하는 청년수당을 내년부터 크게 확대한다는 내용이다.\\']\\n',\n",
       " '[\\'부산경남(pk) 정치권이 또 대구경북 통합신공항 이전에 트집을 잡고 나섰다.\\', \\'경남 김해가 지역구인 더불어민주당 김정호 국회의원이 28 일 열린 국회 예산결산특별위원회 전체회의에서 뜬금없이 대구공항 통합이전 문제를 들고나온 것이다.\\', \\'내우외환에 휘둘려서는 안 된다.\\', \\'김 의원은 정경두 국방부 장관에게 \"대구공항 통합이전이 전적으로 대구시 의견에 따라 진행됐다\"며 졸속 추진 의혹을 제기했다.\\', \\'그럴수록 지역 민심과 여론을 한곳으로 모아야 한다.\\', \\'군위군수에 대한 경찰의 압수수색과 피의자 신분 조사를 둘러싸고 통합신공항 이전 추진에 악재로 작용하지 않을까 우려하는 목소리도 많다.\\', \\'김 의원은 또한 국방부 검토 보고서에 대구공항 통합이전 후보지의 절토 공사비가 조금씩 다르게 산출된 것을 지적하고 나섰다.\\', \\'현재 대구경북 통합신공항 선정 기준을 두고 대구시와 경북도가 최종 절충 방안을 제시한 가운데 연내 이전지 확정이라는 배수진을 치고 있는 상황이다.\\', \\'그러면서 대구공항 통합이전과 관련한 타당성 용역보고서 제출을 요구한 것이다.\\', \\'김해신공항을 무산시키고 가덕도 신공항을 추진하려는 부울경 정치권과 현 정권의 복심을 대변하는 것이다.\\', \\'검토보고서 또한 여러 가지 방안을 놓고 산출한 것이기 때문에 산정 기준에 따라 통상적으로 오차가 나타나기 마련이다.\\', \\'대구시의 통합신공항 이전 건의서는 국방부가 이미 타당성 검토를 했고 이에 대한 적정 통보를 한 사안이다.\\', \\'대구지역 국회의원들도 반격에 나섰다.\\', \\'자유한국당 대구시당위원장인 정종섭 의원과 정태옥 의원은 \"국가 정책과 법적 절차에 의해 결정된 신공항 사업에 문제를 제기하는 것은 불순한 의도의 정치 공세\"라고 반박했다.\\', \\'부산경남 정치권의 신공항 딴죽걸기는 어제오늘의 일이 아니다.\\', \\'이들의 저의는 뻔하다.\\', \\'지난 11 일에도 오거돈 부산시장이 \"김해신공항 관련, 5 개 광역단체장의 합의 약속을 먼저 어긴 것은 대구경북\"이라는 억지 주장을 내놓았다.\\']\\n',\n",
       " '[\"이주노동자들에게 적용되는 \\'출국 후 퇴직금 수령제도\\'로 인해 이주노동자들이 퇴직금을 받는데 어려움을 겪고 있다.\", \"불법체류를 막기 위해 이주노동자가 출국한 뒤 퇴직금을 받도록 한 \\'출국만기보험 제도\\'가 퇴직금 미지급자를 양산하고 있는 것이다.\", \\'취지는 좋지만 보험금을 간편하게 지급하지 못해 찾아주기사업까지 진행하는 데서 행정 낭비가 발생한다.\\', \"소멸시효 3 년이 지날 때까지 이주노동자가 찾아가지 않은 미지급금이 많다보니 한국산업인력공단에서는 \\'휴면보험금 찾아주기\\' 사업을 펼치고 있다.\", \"그런데도 이주노동자에게만 그 시점을 \\'출국\\'으로 다르게 적용하는 것은 기본권 침해라는 지적도 나오고 있다.\", \"근로기준법은 사업주가 \\'퇴직\\' 후 14 일 이내에 퇴직금을 지불해야 한다고 규정하고 있다.\", \\'이주노동자가 퇴직금을 받으려면 구비서류가 많은데다 퇴직금을 수령받는 절차도 복잡하다.\\', \\'이주노동자 관련 단체에서는 정부가 법을 개정한 취지가 불법체류자를 줄이기 위한 것이었으나 불법체류자 감소에 큰 효과를 내지 못하는 만큼 출국 후 퇴직금 수령제도를 철폐해야 한다고 주장하고 있다.\\', \\'이때문에 미지급된 출국만기보험금은 81 억원에 이른다.\\', \\'하지만 상당수 이주노동자들이 퇴직금 받는 방법을 제대로 모르고 있다.\\', \\'최근 이주노동자를 대상으로한 한 설문조사에 따르면, 출국만기보험금 수령절차를 알고 있는 응답자는 절반도 되지 않았다.\\', \\'보험금을 빼고 남은 잔액인 잔여퇴직금을 회사에 청구해 받아야 하는데 이를 모르는 이가 50%가 넘었다.\\', \\'퇴직금 제도가 까다로운데도 이와 관련한 홍보나 교육이 부족했기 때문이다.\\', \\'이만이 아니다.\\', \\'사업주가 매달 통상임금의 8.3%를 보험회사에 적립한 것으로, 노동자가 퇴직 후 출국할 때 공항에서 받을 수 있다.\\', \\'출국만기보험이란 사업주가 퇴직금을 지급하기 위해 노동자를 피보험자로 해 가입하는 보험이다.\\']\\n',\n",
       " '[\"법무부가 제정한 훈령 \\'형사사건 공개 금지 등에 관한 규정\\'을 둘러싼 논란이 뜨겁다.\", \\'당장 국민의 알권리와 정면 충돌하고 있다는 지적이 비등하고 있다.\\', \\'법무부의 훈령은 사건 관계인의 인권보호를 위해 검찰의 수사 상황을 전면 비공개하고, 오보 언론에 대한 처벌 수단을 마련하겠다는 게 그 요지다.\\', \"언론의 감시 기능이 무력화되면 \\'깜깜이 수사\\'니 \\'봐주기 수사\\'니 하는 과거 적폐가 되살아 날 수도 있다.\", \\'설령 오보를 하더라도 정정보도와 기사 삭제 등 언론중재법에 의한 권리 구제가 얼마든지 가능하다.\\', \\'단지 이를 이유로 출입을 차단하고 받아쓰기만 강요한다면 더 이상 언론은 그 기능을 유지하기 어렵다.\\', \\'정부가 특정 사건을 은폐 축소하더라도 이를 견제할 방법도 없다.\\', \\'다만 공보 담당자와는 만날 수 있다. 한마디로 기자는 알려주는 내용만 받아쓰라는 것이다.\\', \\'무엇보다 기자의 브리핑 참석과 출입 제한은 받아들이기 어려운 사안이다.\\', \"정보 접근이 어렵거나 취재원의 한정과 시간상 제약 등으로 의도치 않은 \\'오보\\'는 보도는 과정에서 필연적일 수밖에 없다.\", \\'이 규정을 만든 것은 지나친 피의사실 공개로 피의자 인권이 침해당하는 폐해를 막기 위한 조치라는 게 법무부 설명이다.\\', \\'언론 자유의 침해가 심각하게 우려되는 조치가 아닐 수 없다.\\', \\'실제 그동안 검찰이 피의사실을 흘려 망신을 주고, 사실상 여론재판이 이뤄지는 바람에 공정한 재판을 받을 피의자의 권리가 심각하게 훼손되는 경우가 다반사였다.\\', \\'하지만 그 제한이 과도하다는 게 문제다.\\', \\'당초 취지와도 맞지 않는다.\\', \\'특히 삼성 등 기업 관련 수사는 미확인 내용이 사실처럼 무차별 유포되면서 기업의 국제신인도가 추락하는 부작용을 낳기도 했다.\\', \\'전혀 틀린 얘기는 아니다.\\', \"노무현 전 대통령에 대한 \\'논두렁 시계\\' 사건 등이 대표적 사례다.\", \\'이런 폐단을 검찰 개혁 차원에서 없자는 취지는 백번 공감이 간다.\\', \\'또 검찰수사와 관련해 오보를 내면 해당 언론사는 브리핑은 물론 검찰청 출입 자체가 제한된다.\\', \\'구체적으로는 검사와 수사관 등 관계자가 기자와 개별적으로 만날 수 없도록 했다.\\']\\n',\n",
       " '[\\'5 개월만에 생산·소비·투자 등 경제 활동 3 대 지표가 모두 상승하며 희망을 줬던 산업활동동향(8 월)이 다시 한숨 속 위기감으로 빠져드는데는 한달이면 충분했다.\\', \\'딱 한달이다.\\', \"통계청이 31 일 발표한 \\'9 월 산업활동 동향\\'에서 지난달 전(全)산업 생산지수(계절조정계열)는 108.0 으로, 전월보다 0.4% 감소했다.\", \\'수출이나 대외 여건이 개선되지 않은 상황에서 확실한 상승세로 보기는 어려웠을 것이다.\\', \\'물론 통계청은 지난 8 월 경제 지표에도 호들갑을 떨며 큰 의미를 부여하지는 않았다.\\', \\'두달도 이어가지 못했다.\\', \\'소매판매는 음식료품과 의복 판매가 감소하면서 전월보다 2.2%줄어들었다.\\', \\'그건 해당 부처의 몫이다.\\', \\'통계를 기초로 정책대안을 제시하라는 것도 아니다.\\', \\'감소폭은 2017 년 12 월(-2.4%) 이후 가장 컸다.\\', \\'이제는 익숙해져 그러려니 하지만 통계청의 설명은 여지없이 기저효과와 날씨 때문이란 설명으로 일관한다.\\', \\'광공업 생산은 증가했지만, 도소매와 금융·보험업을 중심으로 서비스업 생산이 줄어든 것이 영향을 미쳤다.\\', \\'올해 추석이 이른 9 월이어서 소비가 전달인 8 월으로 분산됐고 9 월엔 잦은 태풍과 장마 등으로 야외활동이 줄어들면서 숙박·음식업과 운수·창고업, 예술·스포츠·여가업 등 서비스업 생산이 감소했다는 것이다.\\', \\'그 와중에 9 월이 예년비해 기상이 고온이어서 환절기 의류 소비도 감소했다는 설명도 한다.\\', \\'통계청이 경제정책을 입안하고 집행하는 곳은 아니다.\\', \\'2~3 년전 반도체장비투자가 워낙 많이 이뤄졌는데 지금은 그 기저효과가 사라져서 소폭이지만 증가하고 있다고 설명한다.\\', \\'통신에서도 8 월엔 핸드폰 신제품 출시가 많았고 10 월에 주요 기종 출시 예정된 대기 수요로 9 월 소비는 감소했다고 봤다.\\', \\'심지어 유일하게 증가한 설비투자도 마찬가지다.\\', \\'이번엔 역기저효과다.\\']\\n',\n",
       " '[\\'2018 년 여름 한 국책연구기관에서 수행한 미세먼지에 대한 국민인식조사 결과는 국민에게 효과적으로 정보를 전달하는 것이 중요하다는 사실을 보여주었다.\\', \\'2016 년 경 부터 심각하게 인식되고 있는 미세먼지는 건강상 피해에 대한 불안감과 일상생활에서 불편함으로 인해 불만을 가중시키고 있다.\\', \\'옛 구로공단 지역인 서울디지털산업단지 경계를 숲으로 둘러 미세먼지를 차단하고, 관악산·북한산의 신선한 공기를 도심내부로 유입시킨다.\\', \\'230 억 원의 예산을 투입해 총 40 만㎥ 면적에 차단숲·바람길숲·저감숲을 조성한다는 계획이다.\\', \\'또한, 대다수 국민이 미세먼지 예·경보제를 적극 활용하고 야외활동·마스크 착용여부를 결정하는데 정부의 발표를 따르고 있어 정보의 신뢰성 유지가 중요하다는 점에 주목할 필요가 있다.\\', \\'중앙정부만 바라보고 있을 것이 아니라 지자체들도 뭔가를 해야 할 때다.\\', \\'정부가 제공하는 정보의 한계성을 보여주는 대목이다.\\', \\'이런 시점에 서울시가 최근 내놓은 미세먼지 대책은 숲이다.\\', \\'다만, 미세먼지 발생원에 대한 정확한 정보제공과 국내적 노력으로도 미세먼지 피해를 줄일 수 있다는 공감대 형성이 필요하다.\\', \\'미세먼지 정보는 주로 tv와 라디오, 인터넷 포털 사이트로 부터 얻고 있어 정보제공 수단의 다변화가 필요함을 시사하고 있다.\\', \\'많은 국민이 미세먼지 발생원인을 국내적 요인보다는 국외적 요인에 돌리고 있으며 정부의 미세먼지 대책에 크게 만족하지 못하고 있다는 사실도 중요하다.\\', \\'그러나 국민도 미세먼지 해결을 위해 참여의지가 높다는 사실은 희망적이다.\\', \"많은 변수들을 동시에 고려해야 한다는 어려움이 있다고 하지만, 여전히 정부가 내놓고 있는 미세먼지 대책이라는 것들이 근원적 해결방법이라기 보다는 \\'급한 불끄기\\' 식으로 보인다.\", \\'또한, 건강상 피해의식과 외부활동 자제와 시각적 불편함, 심리적 불쾌감 등을 문제로 꼽고 있다.\\', \\'설문조사 대상 중 90%가 넘는 대다수는 10 년 전과 비교해 미세먼지 농도가 크게 증가했다고 생각하고 있다.\\']\\n',\n",
       " '[\"\\'구글세\\'로 불리는 디지털세가 발등의 불로 떨어졌다.\", \"구글·페이스북과 같은 다국적 인터넷 기업 문제로만 생각했던 디지털세와 관련해 \\'복병\\'이 나타났다.\", \\'애꿎은 국내 수출 기업이 피해를 보는 일은 막아야 한다.\\', \\'자칫 남의 일처럼 수수방관할 상황이 아니다.\\', \\'국제 관계는 물론 국내 기업 득실 유무를 정확하게 따져 명확한 입장을 수립해야 한다.\\', \\'그러나 새 제안대로 해외에서 활동하는 국내 기업에 심각한 피해가 발생한다면 디지털세를 수면 위로 공론화해야 한다.\\', \\'사무국이 제안한 통합접근법은 디지털세를 인터넷 외에 모든 소비자 대상 기업으로 확대하는 방안이다.\\', \\'디지털세를 도입해도 우리에게 불리하지 않을 것이라는 암묵적 판단 때문이었다.\\', \\'디지털세는 구글이나 페이스북처럼 지역 거점을 두지않고 국경을 초월해 사업하는 인터넷 기업이 세금을 회피하고 있다는 배경에서 출발했다.\\', \\'유럽이 주도하는 디지털세가 구글 등 미국 기업을 주로 겨냥하면서 미국 정부가 반대의사를 표시했고 논의 범위가 디지털경제 전반으로 확대됐다는 것이다.\\', \\'주요 외신은 미국 입김이 크게 작용한 것으로 분석했다.\\', \\'기재부 측은 \"어떤 기준을 갖고 과세할 지는 결과를 봐야 하지만, 국내 기업이 과세대상에 포함될 가능성이 크다\"고 말했다.\\', \\'주로 국내에서 사업을 벌이는 외국 인터넷기업을 대상으로 과세 수위와 범위 등을 논의하는 수준이었다.\\', \\'세부 기업 범위는 매출 기준으로 검토하는 것으로 전해졌다.\\', \\'oecd를 포함해서 국제 사회에 적극 의견을 개진하기 보다는 관망하는 상태였다.\\', \\'경제협력개발기구(oecd)는 기존 디지털 기업 외에 가전·자동차·스마트폰 등 제조 기반 기업도 디지털세 적용 대상으로 검토하자고 제안했다.\\', \\'정부는 그동안 디지털세와 관련한 명확한 입장을 유보했다.\\', \\'oecd는 의견 취합 등을 거쳐 내년 초에 디지털세 기준을 발표한다.\\', \\'자칫 사무국 주장대로 가이드라인이 확정된다면 삼성전자·lg전자·현대자동차 등 국내 간판기업도 영향권에 포함될 전망이다.\\']\\n',\n",
       " '[\"2002 년 16 대 대선 이래 17 년 동안 각종 선거에서 뜨겁게 이슈화한 것이 \\'세종시\\'였다.\", \\'번번이 정치적 흥정거리나 정략적 논리에 휘둘렸기 때문이다.\\', \\'지역민들은 다시 한 번 소상히 밝혀주길 원한다.\\', \"과거 행정수도 이전 반대와 세종시 수정안의 연장선상이면 새삼스럽게 \\'네 탓\\' 공방을 벌일 가치조차 없다.\", \\'물론 대통령집무실 등에서 진전을 보였다면 초당적 협력 수위가 달라졌을 수도 있겠지만 그게 본질은 아니다.\\', \"결정타는 자유한국당이 \\'2020 년 100 대 문제사업\\'에 세종의사당을 포함시킨 일이다.\", \\'가장 나쁜 태도는 필요에 따라 입장을 바꾸는 이중 플레이다.\\', \\'행정수도에 한 발 다가선다는 거창한 의미는 그만두고, 정부 기능의 70% 이상이 세종시에 집중된 현실을 완전히 외면했다.\\', \\'2 년 반 전쯤 대선 후보가 \"대한민국 수도는 서울, 행정도시는 세종으로 헌법에 명시하겠다\"고 했던 정당이 맞는지 묻지 않을 수 없다.\\', \\'31 일 정치권에서는 세종의사당 예산 삭감을 \"일방적 폭력으로 규정한다\"는 목소리까지 튀어나왔다.\\', \\'다른 한쪽은 법적 근거가 될 개정안이 국회 운영위 등에서 3 년 넘게 잠잔다며 상대정당을 비난한다.\\', \\'순항하나 했더니 또 암초를 만났다.\\', \\'세종의사당이 난기류에 빠진 핵심 이유는 정치권 일각의 반대 행보에 있다.\\', \\'행정도시 수정안 파동 당시와 흡사한 상황으로 흐르지 않아야 한다.\\', \\'지역사회 반응도 격앙돼 있다.\\', \\'2004 년 헌법재판소 위헌 결정까지 소환하는 정당에서 취할 입장은 아닌 듯하다.\\', \\'내년 4·15 총선을 반년도 안 남긴 시점에 세종의사당이 정치 문제로 비화한 것도 예감이 좋지 않다.\\', \\'세종시 건설에 재를 뿌리지 말라며 오는 6 일 결의대회를 예고했다.\\', \\'한 달 전만 해도 예결위·상임위 10 개나 13 개, 또는 예결위·전 상임위냐를 놓고 저울질하던 세종의사당이었다.\\']\\n',\n",
       " '[\\'위기가 아닌 현실이 된 저출산 문제 해결을 위한 약발이 전혀 먹히지 않고 있다.\\', \\'저출산 극복이 나라의 명운을 짊어졌다는 것은 더는 허튼소리가 아니다.\\', \\'저출산 극복은 국운(國運)이 걸린 만큼 시대적 명제로 접근해야 한다.\\', \\'우리의 저출산 문제가 사회경제적 양극화와 불평등에 따른 요인이 크다는 실증 분석대로 이에 따른 원인별 맞춤형 지원 대책이 나와야 한다는 얘기다.\\', \\'그간의 대책이 약발을 받지 못한 데는 그만한 이유가 있는 것이다.\\', \\'그때그때 시류에 편승한 대처가 아닌 저출산에 대한 근원적인 대책이 급해 보인다.\\', \\'출생아 수와 혼인 건수가 역대 최저치를 보였다.\\', \\'저출산 극복 방안으로 지난 6 월 국회 입법조사처와 한국노동사회연구소가 내놓은 자료를 눈여겨볼 필요가 있다.\\', \\'관련 통계 작성 이후 가장 낮은 수치다.\\', \\'돈도 대책도 백약이 무효한 상황이다.\\', \\'최근에는 지자체별로 신혼부부용 주택을 제공하는 등 다양한 저출산 극복 방안이 나오고 있다.\\', \"통계청이 엊그제 발표한 \\'8 월 인구동향\\'은 저출산 극복을 위한 대처가 여전히 겉돌고 있다는 사실을 확인시켜 주고 있다.\", \\'지난해 같은 달에 비해 신생아 수가 3000 명 가까이 줄었다.\\', \\'그렇지만 현실은 이런 식의 대처로는 저출산 위기를 극복하기 어렵다는 사실만 확인할 뿐이다.\\', \\'8 월 기준으로 인구 1000 명당 출생아 수는 5.6 명으로 역시 통계 작성 이래 처음이다.\\', \\'저출산 위기 경보에 따른 정부의 대책이 속속 나오고 있지만, 그야말로 백약이 무효해 보인다.\\', \\'그뿐만 아니다.\\', \"오래전부터 아이 낳기 캠페인은 물론 출산장려금을 지원해도 \\'출산율 0 명 시대\\'는 꿈적도 않는다.\", \\'여기에 혼인 건수도 1 년 전보다 1000 건 이상 줄어들었다.\\', \\'몇 년째 신생아 울음소리가 뚝 끊긴 마을은 소멸의 길을 걷고 있다.\\', \\'아이들이 없다 보니 농산어촌에서만 있는 줄 알았던 전교생 100 명 이하의 소규모 학교가 도시 곳곳에서도 손쉽게 찾아볼 수 있다.\\']\\n',\n",
       " '[\\'미국 트럼프 정부가 최근 주한미군 방위비 분담금을 대폭 인상한 협상안을 제시했다.\\', \\'이로 인해 정부 외교안보팀의 발등에 불이 떨어진 분위기다.\\', \\'우리의 안보를 지키는 데 한·미 동맹이 차지하는 비중만큼 분담금을 증액하는 것은 불가피하겠지만, 과도한 요구에는 미리 분명하게 선을 그을 필요가 있다고 본다.\\', \\'동맹이 가치와 이익을 공유하는 국가 간의 결속이라면 이를 단단하게 다질 책임은 한·미 양쪽에 있음을 유념할 때다.\\', \\'한·미 동맹이 우리 안보의 근간이지만 미국 측의 도 넘은 요구에는 합리적 논리로 단호히 대응해야 할 이유다.\\', \\'특히 트럼프 정부가 주한미군뿐만 아니라 가족에 대한 지원비까지 주문한다면 미군을 용병으로 전락시키는 격일 것이다.\\', \\'중국을 견제하는 미국의 인도·태평양 전략과도 맞닿아 있다면 작전비용을 우리가 떠안아야 할 근거는 약한 셈이다.\\', \"무엇보다 걱정스러운 건 한국에 대한 \\'안보청구서\\'에 도널드 트럼프 대통령 특유의 \\'비즈니스 마인드\\'가 개재돼 있다는 점이다.\", \\'그는 취임 초부터 \"한국 등 동맹국이 우리를 벗겨 먹는다\"는 식으로 말해 왔다고 최근 제임스 매티스 전 국방장관의 비서관이 폭로했다.\\', \\'이수혁 신임 주미대사는 30 일(현지시간) \"지금 나온 숫자만으로도 어마어마한 숫자\"라며 \"협상하면서 미국의 진의를 파악해봐야 할 것\"이라고 말했다.\\', \\'지난주 방위비협상에서 미국 측이 한국에 50 억달러(6 조원) 수준의 분담금을 요구했다는 소식이다.\\', \\'동맹의 가치조차 상업적 거래로 환원하는 방식이다.\\', \\'전략자산 전개비용 분담을 요구했다는 보도가 사실이라면 그렇다.\\', \"이른바 \\'트럼프 리스크\\'가 가시화하고 있는 꼴이다.\", \\'그의 책에서 트럼프는 \"한국이 연 70 조원을 내야 괜찮은 거래\"라고 했다고 한다.\\', \\'간헐적으로 출격하는 b-1b기 등은 북한의 도발 억지에만 초점을 맞추고 있는 게 아니다.\\', \\'올해 1 조389 억원보다 5 배나 많은 액수다.\\', \\'늘어난 분담금 총액보다 미국 측이 신설을 요구했다는 세부항목이 정부 입장에선 더 당혹스러울 듯싶다.\\']\\n',\n",
       " '[\\'남강댐 치수능력 증대사업이 지난 7 월부터 다시 재개된 것으로 알려졌다.\\', \\'사업 추진과정과 완공 후에 지역주민에게 피해가 없게 해야 하는 것이 가장 중요했고, 지역과의 합의 후에 추진해야 했음에도 이를 무시하고 강행했다.\\', \\'환경부가 지역사회의 갈등과 반발이 많은 만큼 재개여부는 사회적 합의에 따라 진행하겠다고 밝히며 중단을 선언한 이유이기도 하다.\\', \\'주민 피해도 줄이고, 댐의 안정성도 확보하는 상생방안이 도출되고, 사회적 합의가 이뤄진 후에 추진되어야 할 것이다.\\', \\'종전 처럼 재추진될 경우 지역의 갈등과 반발이 재연될 것은 불을 보듯 뻔하다.\\', \\'결국 지역민의 거센 반발과 반대를 불러 와 중단될 수 밖에 없었다.\\', \\'당초 이 사업은 지난해 5 월 이전까지 추진되다가 지역의 거센 반발과 반대에 부딪쳐 중단됐던 사업이다.\\', \\'수자원공사가 \"지역의견을 수렴해 추진하겠다\"고 밝혔다.\\', \\'그런 만큼 주민 생존권을 침해하면서까지 추진하지는 않을 것이라고 믿는다.\\', \\'남강댐은 현재 200 년에 한번 정도 발생할 수 있는 대홍수를 가정해 최대유입 홍수량을 초당 1 만5800t을 산정, 계획방류를 실시하고 있다.\\', \\'이는 사회적 합의 없이는 추진이 불가능하다는 것을 확인시켰다.\\', \\'그렇지만 방류량이 늘어나면 하류지역의 침수를 비롯해 어민 피해가 더 클 수 밖에 없다.\\', \\'하지만 기상이변 등으로 극한홍수 발생 가능성이 높아지고 있다.\\', \\'하류지역 주민들은 당장 생존권을 위협받는다.\\', \\'현 시설로는 최대 본류 1000t, 가화천 6000t까지 초당 총 7000t까지 방류가 가능하다.\\', \\'남강댐 월류 위험성이 높아지고 있다.\\', \\'그래서 이 사업이 불가피하다는 것이다.\\', \\'극한 홍수상황이 계속 빈번해지면서 환경부가 지난해 새롭게 홍수량을 산정한 결과 남강댐의 경우 최대유입 홍수량이 종전 1 만 5800t에서 1 만 9600 여 t으로 증가한 것으로 나타났다.\\', \\'물론 지역도 이를 모르는 바가 아니다.\\', \\'최대유입 홍수량이 늘어난 만큼 최대방류량도 1 만 4000t까지 2 배 가까이 증대해야 남강댐의 안정성 확보가 가능하다는 것이 환경부 입장이다.\\']\\n',\n",
       " '[\\'한국 국가대표로 성장 존경받는 기업이 되길 삼성전자가 올 3·4 분기 실적을 10 월 31 일 발표했다.\\', \\'그런 회사가 바로 한국 기업이라는 게 자랑스럽다.\\', \\'삼성전자는 반세기 만에 세계 기업사(史)에서 독보적 위치에 올랐다.\\', \\'다만 삼성전자가 50 년을 넘어 100 년 기업, 나아가 수백년 장수기업이 되는 길이 순탄한 것만은 아니다.\\', \"경영컨설턴트 짐 콜린스는 베스트셀러 \\'좋은 기업을 넘어 위대한 기업으로\\'에서 위대한 기업은 선택과 집중에 뛰어나다고 분석한다.\", \\'5 년 전 사실상 경영권을 승계한 이재용 부회장도 혁신을 앞장서서 이끌고 있다.\\', \\'삼성전자는 바로 그 같은 전략을 구사하고 있다.\\', \\'당장 이재용 부회장은 국정농단 사태와 관련해 법원에서 파기환송심 재판을 받고 있다.\\', \\'삼성 앞에는 애플, 구글, 아마존, 마이크로소프트, 코카콜라가 있을 뿐이다.\\', \\'시스템반도체(비메모리)는 이 부회장이 역점을 두고 추진하는 분야다.\\', \\'1993 년 이건희 회장은 프랑크푸르트 선언을 통해 신경영을 선포했다.\\', \\'브랜드 컨설팅 업체 인터브랜드에 따르면 삼성의 브랜드 가치는 세계 6 위다.\\', \\'삼성전자는 메모리반도체, 휴대폰, tv, 냉장고 등 다양한 분야에서 세계 1 위 제품을 생산한다.\\', \\'그로부터 50 년 만에 삼성은 말 그대로 뽕나무 밭이 푸른 바다로 바뀌는 변화를 일궜다.\\', \\'\"마누라와 자식만 빼고 다 바꾸자\"는 이 회장의 말은 전 국민의 입에 오르내렸다.\\', \\'하지만 한 기업이 불과 석달(7~9 월) 만에 8 조원 가까운 돈을 번 것은 그 자체로 대단한 일이다.\\', \\'직전 분기에 비하면 성적이 한결 좋아졌다.\\', \\'도요타, 벤츠, 맥도날드, 디즈니는 삼성 뒤에 있다.\\', \\'삼성의 힘은 남보다 한발 앞서는 혁신 적응력에서 나온다.\\', \\'지난 1969 년 당시 이병철 창업주가 전자회사를 만들어 흑백tv를 만들기 시작했다.\\', \\'신기록 행진을 이어가던 지난해에는 아직 미치지 못한다.\\', \\'영업이익은 약 18% 많은 7 조7778 억원을 기록했다.\\']\\n',\n",
       " '[\\'정부가 최근 농업분야에서 세계무역기구(who) 개발도상국 지위를 포기하기로 결정한 가운데 제주에서 처음 전국 순회 농업정책 원탁회의가 열려 관심을 모았다.\\', \"이에 따라 대통령 직속 농어업·농어촌특별위원회(위원장 박진도)와 제주도가 지난달 30 일 제주퍼시픽호텔에서 공동 개최한 \\'농정틀 전환을 위한 2019 전국 순회 100 인 원탁회의\\'에 기대가 모아졌지만 별 성과는 없었다.\", \\'하지만 우리나라가 1995 년 who에 가입한 이후 개도국 특례를 인정받으면서 관세 및 보조금 감축률 이행기간 등에서 선진국에 비해 혜택을 누려온 점에 비춰 농업 전반에 큰 피해를 입을 것은 불가피해 보인다.\\', \\'이 자리에 참석한 생산자단체와 시민사회단체 및 농·어업인 등은 제주산 농산물에 대한 해상물류비 지원, 한일어업협정 지연에 따른 제주 어민 피해대책 등을 요구한데 대한 박진도 농특위 위원장의 답변은 원론적인 수준에 머물렀다.\\', \\'그는 이들 현안에 대해 \"농특위가 아니라 해수부와 농림부 등 중앙부처 소관이며 제주도 입장을 잘 고려해 건의하겠다\"고 밝히는데 그쳤다.\\', \\'정부는 앞서 \\\\\\'wto 개도국 논의 대응방향\\\\\\'을 확정, 발표하면서 \"미래 새로운 협상이 타결되기 전까지 이미 확보한 개도국 특혜는 변동 없이 유지할 수 있다\"며 \"미래 협상까지는 상당한 기간이 소요돼 충분한 시간을 갖고 대비할 수 있다\"고 강조했다.\\', \"다만 박 위원장은 농촌 활성화와 식량자급, 환경보호 등 공익적 부문에 기여하는 농가에게 지원하는 \\'공익기여 지불\\'을 유럽연합 국가들처럼 농정예산의 50% 이상으로 늘리는 정책을 설계하고 있다는 입장을 피력했다.\", \\'정부는 국내외적으로 어려움을 겪고 있는 농업인들의 고충을 충분히 감안해 하루라도 빨리 장·단기 대책을 수립, 추진해야 할 것이다.\\']\\n',\n",
       " '[\\'청소년들이 집을 떠나는 이유는 이유는 가정폭력이나 가족과의 갈등 등 다양하다.\\', \\'해마다 많은 청소년들이 집을 나온다.\\', \"이에 따라 2017 년 국가인권위원회는 가출 청소년에 대한 부정적 이미지로 인한 사회적 낙인 우려가 있어 \\'가정 밖 청소년\\'으로 대체할 것을 권고했다.\", \\'가정 밖 청소년들의 주된 가출 원인은 가정불화다.\\', \\'단순히 숙식 해결에 그치는 것이 아니라 건강, 학업, 직업훈련 등은 물론 주거와 자립지원금 제공 등 다각적이고 종합적인 자립 지원체계가 마련돼야 한다.\\', \\'그럼에도 불구하고 가출이란 용어가 담고있는 반사회적 관점 때문에 가출 청소년은 비행청소년이나 예비범죄자로 간주돼 왔다.\\', \\'이른바 가출 청소년이다.\\', \\'이들이 쉼터를 나오게 되면 사실상 빈몸으로 사회에 던져지는 것이나 마찬가지다.\\', \\'가정 밖 청소년들이 건강한 사회인으로 성장하기 위한 사회적 지원이 필요하다.\\', \\'한국청소년정책연구원이 청소년쉼터와 청소년복지원시설 청소년들을 대상으로 설문조사한 결과 대부분 가족과의 갈등(49.7%)이나 가정폭력(24.5%)을 피하기 위해 집을 나온 것으로 나타났다.\\', \\'여성가족부 자료에 따르면 지난해 가출을 경험한 도내 청소년 중 69.1%가 가족과의 갈등에 의한 것이었다.\\', \\'이들의 자립과 재활을 돕는 체계적인 시스템 마련이 절실한 이유다.\\', \\'현재 가정 밖 청소년 대책은 일시적인 보호 위주의 쉼터 지원에 그치고 있다.\\', \\'제주지역도 마찬가지다.\\', \\'이처럼 집을 나왔지만 가출 청소년들이 집 밖에서 생활하는 것은 결코 쉬운 일이 아니다.\\', \\'이들의 처지를 악용한 어른들의 범죄에 이용되기도 한다.\\', \\'그런 탓에 가출한 청소년들이 다시 집으로 돌아가기란 어렵다.\\', \\'특히 가출한 여자 청소년의 경우 성폭행과 성매매 등 성범죄 위험에 무방비로 노출돼 있다.\\', \\'마땅히 잠잘 곳과 먹을 것이 없거나 자립에 실패하게 되면 절도·강도 등 각종 범죄에 쉽게 빠져들 수 있다.\\']\\n',\n",
       " '[\\'전남대병원 채용비리와 관련해 수사당국이 전남대병원과 연루된 병원 관계자의 자택 등에 대한 압수수색을 진행했다.\\', \\'국회 국정감사를 통해 드러난 전남대병원의 채용비리는 수많은 취업 희망 청년들에게 좌절감을 안겨주고 시민들의 분노를 자아냈다.\\', \\'병원 스스로도 엄중하게 책임을 묻고 채용의 투명성을 확보할 근본대책을 내놔야 할 일이다.\\', \\'병원장은 머리 숙여 사과하고 강도 높은 자체 감사와 외부 인사가 포함된 혁신위를 구성해 대책을 마련하겠다고 밝혔다.\\', \\'경찰 수사가 한 점 의혹 없이 철저하게 이뤄져야 한다.\\', \"전남대병원이 \\'어쩌다 이지경에 이르렀는가\\'라는 자조까지 나온다.\", \"\\'아빠 찬스\\', \\'삼촌 찬스\\', \\'품앗이 채용\\'등에다 \\'고용 세습\\'정황까지 드러난 채용비리 복마전이었다.\", \\'전남대병원 채용비리는 취업을 하지 못해 힘들어하는 지역의 청년들과 지역민들을 분노케하고 거점 국립대 병원이라는 자부심에 큰 상처를 냈다.\\', \\'또한 외부인이 포함된 자체 감사를 강도높게 벌여 결과를 공개하고 혁신위원회를 만들어 채용비리와 인사청탁 등을 근절할 개선방안을 마련하겠다고 했다.\\', \\'광주지방경찰청과 동부경찰서는 전남대병원과 사무국장 자택 압수수색을 통해 확보한 컴퓨터 하드디스크와 서류 등을 분석 중인 것으로 알려졌다.\\', \"특정 간부들은 서로 자녀의 면접에 면접관으로 참여해 높은 점수를 주는 등 이른바 \\'품앗이\\'를 했다.\", \\'교육부 감사 이후 제시한 징계 권고를 병원 측이 제대로 이행했는지와 추가 부정 의혹은 없는지 집중 수사하는 한편 병원 노조가 검찰에 고발한 사건을 넘겨받아 채용 과정 전반을 들여다보고 있다.\\', \\'이런 형태의 채용비리가 외부에 드러나지 않은 채 수십년 동안 이어져왔을 거라는 의혹마저 제기되고 있는 상태다.\\', \\'병원 내 특정 고위 관리직 아들과 그 아들의 여자 친구, 친인척들이 면접 등 채용 시험에서 부당하게 특혜를 받아 채용된 사실이 알려졌다.\\', \\'사무국장이 컴퓨터 하드디스크를 교체한 정황도 확인 중이다.\\', \\'이삼용 전남대병원장은 \"취업 기회를 찾느라 힘든 시기를 보내고 있는 청년들과 국민 여러분께 큰 실망을 안겨준데 대해 머리 숙여 사죄한다\"고 밝혔다.\\']\\n',\n",
       " \"['광주시가 수년간 공을 들인 시내 면세점이 특허권을 반납해야 할 처지로 내몰리고 있다.', '한때 황금알을 낳는 거위의 대명사였던 시내 면세점이 빛 좋은 개살구로 전락하는 건 아닌지 우려의 목소리가 크다.', '그렇다면 시기를 못 박지 말고 새로운 대안을 찾아야 한다.', '시내 면세점은 단순히 유통업체 하나가 들어서는 데 그치지 않는다.', '면세점을 통한 광주시 관광활성화 기대에도 잔뜩 먹구름이 끼었다.', '시내 면세점은 백화점과 달리 직접 매입해 판매하는 규모의 경제가 필요한 사업이다.', '기업들에게 수익성이 불투명해진 사업을 옛 명성만 믿고 들어와 달라고 한들 헛수고다.', '그간 광주시는 시내 면세점 유치에 힘을 쏟았지만 번번이 실패한 터라 유치성공으로 관광활성화에 기대를 갖게 된 것은 당연했다.', '열악한 관광인프라를 그냥 두고 면세점만으로 수익을 내려는 생각이 빗나간 것이다.', '광주시가 면세점을 유치한 순간 이미 어려움은 예고돼 있었다고 보아야 한다.', '그러나 그로부터 얼마 되지 않아 분위기가 완전히 바뀌어 버렸다.', '이렇게 되면 연내 유치는 물 건너 가고 내년 투자유치를 장담할 수 없게 된다.', '면세점 유치로 떠들썩했던 게 불과 몇개월 전인데 반납할 처지라니 격세지감이다.', '업계 선두주자인 롯데, 신라, 신세계같은 대형 유통업체가 투자에 난색을 표하는 상황에서 30 위권 기업이 관심을 보이고 있지만 이마저 여의치 않다는 안타까운 소식이다.', '수익성이 불투명해진 때문이다.', '이처럼 면세점 사정이 악화된 데는 불과 3 년전 6 개이던 시내 면세점이 13 개로 늘어난 것이 주요 원인으로 꼽힌다.', '앞으로도 6 개가 더 늘어난다고 하니 출혈 경쟁은 불가피해졌다.', '면세점이 어려운 처지로 내몰린 이유는 간단하다.', '한화그룹이 면세점 특허권을 반납한데 이어 두산그룹이 면세점 특허권을 반납한 것도 악재다.', '최근 분위기는 좋지 않다.', '시내 면세점을 오픈만 하면 관광객이 몰리던 호시절이 지났음을 극명히 보여 주는 사례다.']\\n\",\n",
       " '[\\'31 일 오전 서울 서울 중구 포스트타워에서 열린 세월호 참사 구조수색 적정성 조사내용 중간발표 기자간담회에서 세월호 참사 희생자 유가족들이 눈물을 흘리고 있다.\\', \\'발견 당시 맥박이 있었으나 제때 병원으로 이송되지 못한 채 사망한 세월호 희생자가 있었다는 조사 내용이 31 일 공개됐다.\\', \\'\\\\\\'가습기살균제사건과 4·16 세월호참사 특별조사위원회\\\\\\'(사참위)는 이런 내용을 언론에 발표하면서 \"구조의 문제를 추가 조사해 범죄 혐의를 발견하면 수사 요청 등의 조처를 할 예정\"이라고 밝혔다.\\', \\'다만 재난 상황은 평시의 일반 사고현장과 달리 모든 게 극한의 혼란 속에 있을 수밖에 없기에, 결정과 판단이 일반적 상황을 상정해 이뤄질 수만은 없다는 점을 유의해야 한다.\\', \\'당시 현장의 정확한 상황과 함께, 헬기로 ㄱ군을 이송하려는 결정이 왜 이뤄지지 않았는지 소상히 밝혀야 한다.\\', \\'사건 발생 뒤 5 년 반이 지나서야 드러난 이런 사실에 충격과 함께 깊은 안타까움을 느끼지 않을 수 없다.\\', \\'현장에서 어떤 혼선이 있었는지 아직 확인되지 않았으나 참사 현장에서 구조자 이송보다 급한 일은 있을 수 없다.\\', \\'이 가운데 2 대는 김수현 당시 서해해경청장과 김석균 해경청장이 타고 떠났다.\\', \\'참사 당일인 2014 년 4 월16 일 오후 5 시24 분 바다 위에서 발견된 단원고 학생 ㄱ군은 23 분 뒤 해경 응급구조사에 의해 사망 판정을 받았으나, 5 분 뒤 원격 의료 연결이 된 의사에 의해 다시 생존 판정을 받았다고 한다.\\', \\'사참위는 처음 측정이 잘못됐다고 보고 있다는데, 좀더 정확한 조사가 필요해 보인다.\\', \\'현장 대처에 문제가 있었을 가능성이 있다.\\', \"여전히 우리는 \\'그날\\'에 대해 모르는 것이 많다는 걸 새삼 느낀다.\", \\'응급구조사가 측정했을 때 0%였던 산소포화도가 69%로 높아졌기 때문이다.\\', \\'ㄱ군이 발견된 뒤로 현장에는 2 시간 사이에 3 대의 헬기가 오갔다고 한다.\\', \"의사가 \\'생존\\'으로 판정했는데도 ㄱ군을 헬기가 아니라 5 차례나 배를 옮겨가며 이송한 것은 이해하기 어렵다.\"]\\n',\n",
       " '[\\'\"정부가 우릴 버렸다\", \"국회도 우리를 외면하고 있다\" 포항 지진피해 가족과 시민 3000 여 명이 30 일 국회까지 찾아가 정부와 국회의 무관심에 항의했다.\\', \\'포항지진 범시민대책위원회(범대위)가 2 년 가까이 지진피해를 나 몰라라 하고 있는 정치권에 대한 울분을 토로한 것이다.\\', \\'지진 발생 이후 대통령은 물론 국무총리, 장관, 당 대표 등이 잇따라 찾아와 온갖 생색을 다 냈지만 안전 대책이나 정부 배상 등 어느 것 하나 제대로 이뤄진 것이 없다.\\', \\'서로가 내년 총선을 의식해 피해 주민들의 아픔은 아랑곳하지 않고 재난 앞에서도 주장을 굽히지 않고 있는 것이다.\\', \\'여당인 더불어민주당은 특별법 발의 시작부터 자신들과 상의도 없이 자유한국당이 일방적으로 법 제정을 추진하는 것에 대한 불만을 토로했다.\\', \\'또 다른 피해 주민들도 이동식 컨테이너에서 하루하루를 힘들에 보내는 등 극심한 불편 속에서 세 번째 겨울을 맞게 됐다.\\', \\'여야는 고위공직자비리수사처(공수처)법과 선거법개혁안 등 민감한 정치 현안을 두고 격심한 투쟁을 벌이고 있다.\\', \\'지금도 지진의 피해가 가장 컸던 흥해읍의 흥해체육관에는 지진 피해 주민 90 세대, 205 명이 텐트 생활을 하고 있다.\\', \\'여야는 절절한 민생의 외침을 외면해서는 안 된다.\\', \"여야 원내대표들은 이 자리에서 각 당이 자체적으로 제출한 \\'포항지진특별법\\'과 관련해 조만간 간사 합의를 통해 지진피해특별법이 제정될 수 있도록 노력하겠다는 입장을 밝혔다.\", \\'하지만 여야는 지진특별법 논의가 시작될 때부터 서로 신경전을 벌이며 오직 정치적 유불리를 따지는 듯한 인상을 주고 있다.\\', \\'이런데도 정부와 정치권은 정쟁에만 매몰돼 민생을 돌보지 않고 있다.\\', \\'이 때문에 포항지진특별법을 우선순위로 올려 논의를 이어갈지 매우 불투명한 실정이다.\\', \\'국회를 찾은 이대공·공원식 범대위 공동위원장단은 민주당 이인영 원내대표와 한국당 나경원 원내대표를 각각 방문해 이번 정기국회 회기 중 우선 법안으로 포항지진특별법을 반드시 제정해 줄 것을 촉구했다.\\']\\n',\n",
       " '[\\'향후 10 년간 정부 교통정책의 청사진을 담은 대도시 광역교통망 구상이 발표됐다.\\', \\'그럼에도 불구하고 이번 대책의 초점은 역시나 수도권에만 모아져 있다고 말할 수밖에 없다.\\', \\'지금처럼 수도권이 대한민국의 모든 것을 블랙홀처럼 빨아들이는 것을 내버려두면 지방 소멸은 멀지 않은 장래에 현실화된다.\\', \\'수도권 인구의 77%가 서울 도심까지 30 분 이내로 연결되는 급행철도의 수혜지역에 거주할 수 있도록 하겠다는 구상에 따라 수도권 급행철도(gtx) 2 개 노선 조기 착공 외에도 또 다른 4 번째 노선 건설까지 검토되고 있다.\\', \"31 일 국토부가 \\'광역교통 2030\\'이라는 이름으로 발표한 대책에는 수도권 외에도 부산·울산권 등 전국 4 대 지방 광역권도 포함됐다.\", \\'수도권에만 편향된 개발 정책은 더 이상 용납될 수 없다.\\', \\'수도권 집중에 따른 주택난 해소를 위해 대규모 신도시를 무차별적으로 건설하고, 그에 따른 교통난을 해소하기 위해 또다시 광역교통망을 확충하니 수도권 집중은 더욱 가속화되는 악순환이 반복되고 있는 것이 현실이다.\\', \\'광역교통과 무관한 도로 건설·확장 계획도 다수 포함됐다.\\', \"그에 비해 부산·울산권을 비롯한 지방 광역권 사업은 대부분 이미 추진 중이거나 계획이 발표된 사업의 \\'재탕\\'에 불과하다.\", \"수도권에만 집중 투자한다는 비판을 피하기 위해 지방 광역권을 구색 갖추기 용으로 포함시키는 \\'꼼수\\'를 쓴 것이 아니냐는 의구심마저 들 정도다.\", \\'그러나 눈앞의 문제 해결에만 급급할 것이 아니라 근본 원인을 따져 봐야 한다.\\', \\'수도권의 인구와 지역총생산은 이미 비수도권을 추월했다.\\', \\'민자적격성 조사 중인 사상~해운대 대심도 고속도로, 올해 정부가 예타면제사업으로 지정한 부산신항~김해 고속도로 등이 대표적이다.\\', \\'수도권 광역교통 문제는 결국 과도한 수도권 집중 때문이다.\\', \\'반면 하단∼녹산선 창원 연장, 동남권 광역철도 등 광역철도 사업은 차기 검토 과제로 넘겨졌다.\\', \\'서울과 주변 도시 사이의 교통난과 수도권 광역교통 대책의 필요성을 모르는 바가 아니다.\\']\\n',\n",
       " '[\"주한미군이 맹독성 화학물질인 \\'보툴리눔·포도상구균 톡소이드\\'를 부산항으로 들여와 생화학 실험을 했다는 의혹이 제기된 지 며칠 만에 초강력 식물 독소로 알려진 \\'리신\\'도 8 부두를 통해 반입된 것으로 확인돼 충격파가 일파만파 커지고 있다.\", \"어떻게 우방국 국민의 생명을 담보로 \\'밀실 실험\\'을 할 수 있는가.\", \\'반입 사실이 확인된 만큼 미군과 국방부는 더 이상 침묵과 거짓 뒤에 숨지 말고 국민이 납득할 만한 해명을 내놓아야 한다.\\', \\'문제의 심각성은 주한미군이 밝히지 않는 이상 해당 시료를 사용해 어떤 실험을 했고 실험물을 어떻게 처리했는지 전혀 알 수 없다는 데 있다.\\', \"비활성화 시료의 위험성은 이미 4 년 전 경기도 오산 주한미군 공군기지의 \\'탄저균 배달 사고\\'에서 충분히 드러난 바 있다.\", \\'방위비 협상에서 미국은 현행보다 5 배 이상 늘어난 50 억 달러(약 6 조 원) 이상의 무리한 분담금을 한국에 요구하고 있다.\\', \"미군이 식물 독소까지 반입한 사실이 드러나면서 인구가 밀집된 도심 인근 8 두부가 위험천만한 \\'생화학 실험장\\'으로 전락한 건 아닌지 우려를 떨치기 힘들다.\", \\'미군이 다른 나라에 와서 생화학 실험을 벌인 것이 사실이라면 참으로 부도덕한 일이 아닐 수 없다.\\', \\'그동안 \"세균 반입은 없었다\"거나 \"생화학 실험은 없었다\"고 잡아뗀 미군과 국방부의 해명은 시료 반입이 밝혀지면서 거짓으로 들통났다.\\', \\'보톨리눔·포도상구균 톡소이드는 물론이고 리신의 사용 용도나 정보에 대해 전혀 파악하지 못하고 있으면서도 시료가 비활성화된 단백질이라 큰 문제가 없다는 우리 국방부나 질병관리본부의 안이한 인식과 대처는 더 심각한 문제다.\\', \\'피마자에서 추출되는 리신은 날로 먹으면 내장 기관에 출혈을 일으키고 공기 중에서 흡입해도 호흡부전과 신경마비를 일으킨 뒤 심하면 사망에 이르게 하는 독성 물질이다.\\']\\n',\n",
       " '[\"\\'해양의 축적, 미래를 쌓다\\'를 주제로 사흘간 열린 제13 회 세계해양포럼은 해양 분야 세계 석학들의 지식포럼이었다.\", \\'문재인 대통령이 \"첨단 기술이 넘쳐나는 4 차 산업혁명 시대에도 가장 중요한 문제는 인간 경험과 지혜의 축적\"이라고 서신에서 밝힌 것처럼 석학들이 제시한 대안은 불확실성 위기에서 항로를 알려주는 나침반이 되기에 충분했다.\\', \\'1 일 마지막 세션에선 기조 강연자인 아지즈 바카스를 비롯해 각 분야에서 대안을 내놨던 토론자가 한자리에 모일 예정이라니 이번 포럼의 정점이 될 것으로 보인다.\\', \\'해양산업을 항공우주산업에 연결할 방법을 찾는 데서 한국 미래 먹거리를 조언한 아지즈 바카스와 15 년간 5126 번의 실패를 감수한 진공청소기 회사의 사례를 소개한 이정동 교수가 입을 모으는 대목이 혁신이다.\\', \"포럼 둘째 날 열린 정규 세션 \\'해운·항만의 축적\\'에선 4 차 산업혁명과 보호무역주의라는 도전에 맞서 변화를 모색할 수밖에 없는 업계의 현실을 반영하듯 예정된 시간을 훌쩍 넘기며 열띤 토론을 벌였다.\", \\'포럼 성황에는 석학들의 분명한 메시지가 한몫했지 싶다.\\', \"\\'빠른 추격자 전략\\'의 한계에 맞닥뜨린 한국 경제의 재도약을 위해 완전히 새로운 그림을 그리는 \\'독창적 개념설계\\'를 주창한 이정동 교수의 기조 강연도 정곡을 찔렀다.\", \\'현장 분위기도 예상을 뛰어넘었다고 한다.\\', \\'중국 중심으로의 무역 루트 변화, 새로운 해운 운송수단의 등장 등 거대한 흐름을 내다보면서도 피부에 와닿는 사례로 청중의 이해를 도왔다.\\', \"올해 세계해양포럼을 관통한 \\'축적\\'이라는 화두는 \\'혁신\\'과 떼려야 뗄 수 없다.\", \\'뒤늦게 입소문을 타고 첫날 기조 강연을 한 이정동 교수의 강연 영상을 구하려는 문의가 사무국에 쇄도하기도 했다고 한다.\\', \\'아지즈 바카스는 미래 세계 해양의 트렌드를 9 가지로 명쾌하게 예견하면서 미래를 읽는 안목을 제시했다.\\', \\'프린터로 집을 지을 정도로 3d 프린팅이 발전하면서 국가 간 물류 유통이 크게 줄어들 것이라고 예견한 것이 대표적이다.\\']\\n',\n",
       " '[\\'자유한국당이 31 일 1 차 외부영입 명단을 발표했다.\\', \"당 안팎에서 국민 눈높이에 못 맞춘 \\'부적절 영입\\'이란 비판이 나오고 있기 때문이다.\", \\'황교안 대표는 환영식에서 환하게 웃었지만 속은 꽤나 뒤숭숭했을 것 같다.\\', \\'당의 외연 확장, 구태와의 단절을 보여주는 의지가 안 보이고 참신성도 부족하다는 지적이 나오는 이유다.\\', \"최소한 공당이 가져야할 품위는 실종됐고, 말초적 공세에 열 올리는 \\'유치한\\' 정치는 실망을 넘어 혐오로 다가온다.\", \"눈 뜨고 볼 수 없는 \\'황당한 실수\\'가 연발로 터지고 있다.\", \"그래서 현 정권과 치열하게 싸울 \\'돌격대\\'를 구성한 것이 아니냐는 이야기까지 나온다.\", \"우선 영입자 8 명을 보면 \\'반문(反文) 인사\\', \\'적폐 청산의 피해자\\' 등의 프레임이 짙다.\", \\'이날 발표된 리얼미터 여론조사 결과를 보면 문 대통령의 국정수행 지지도는 48.5%로, 긍정 평가가 부정 평가(48.3%)를 앞질렀다.\\', \\'자한당의 지지율이 되레 내려가는 이유가 여기에 있다.\\', \\'사실, 이런 조짐은 박찬주 전 대장을 영입하려다 여론의 뭇매와 당내 반발에 부딪힌 것에서 이미 나타났었다.\\', \\'1 호 영입인사는 상징성이 큰 것인데 첫 단추부터 삐걱댄다.\\', \\'더불어민주당 이철희·표창원 의원이 불출마를 선언한 것과 대비되는 대목이다.\\', \\'총선 불출마를 시사했던 의원들이 당 지지율이 반짝 상승하자 \"언제 불출마 선언했느냐\"는 안면 몰수는 더 가관이다.\\', \"\\'조국 사퇴 표창장 파티\\'로 \\'무개념 정당\\'이란 말을 들었고, \\'패스트트랙 저지 공천가산점\\'을 추진하다가 \\'블랙 코미디\\' 하냐는 빈축을 샀다.\", \"이번 인사 영입 건 말고도 \\'조국 반사이익\\'에 취한 자한당의 퇴행은 한 두번이 아니다.\", \"일국의 대통령을 \\'벌거벗은 임금님\\'으로 만들어 저급한 당의 수준을 스스로 드러냈다는 비웃음을 받기도 했다.\"]\\n',\n",
       " '[\\'문재인 대통령이 새마을 행사에 참석한 것은 처음이었다.\\', \\'함께 봐야 할 과거다.\\', \"새마을 운동으로 \\'잘 살아보자\\'는 열망과 \\'우리도 할 수 있다\\'는 자신감을 가졌다고 했다.\", \\'문재인 정부의 희망도 밝혔다.\\', \"지난해에는 \\'새마을 운동의 이름도 바꾸지 말라\\'고도 했다.\", \\'새마을운동은 보수의 전유물이 아니다.\\', \\'축사 곳곳에서 새마을 정신을 높이 평가했다.\\', \\'70 년대 새마을 운동은 국민 모두의 것이었다.\\', \\'문 대통령은 그 해 새마을 운동의 지속적인 추진을 지시했다.\\', \\'진보 보수로 나뉜 적도 없고, 정치적 견해로 갈라선 적도 없다.\\', \\'지금의 기성세대, 그리고 앞선 장ㆍ노년 세대 모두에 남은 역사적 자긍심이다.\\', \\'박 전 대통령의 이 정의와 문 대통령의 이날 평가가 다르지 않다.\\', \"일부 정치권이 어제오늘 \\'문 대통령이 중도층을 끌어안으려고 새마을 행사에 참석했다\\'고 비난한 것은 그래서 옳지 않다.\", \\'현장의 새마을지도자들도 그렇게 보지 않았다.\\', \"\\'보고 싶은 곳만 볼 때\\' 생기는 왜곡이다.\", \"문 대통령의 \\'생명ㆍ평화ㆍ공경\\' 언급에 대해 새마을 정신을 왜곡하고 있다는 한국당 의원의 비판도 있었다.\", \\'보수층에서는 이 일을 계기로 문재인 대통령과 새마을운동을 대척점에 놓기 시작했다.\\', \\'10 월 29 일 수원에서 열린 새마을지도자 대회였다.\\', \\'새마을 운동 관련 공적개발원조(oda) 예산을 정부가 삭감했다.\\', \\'집권 첫해 예산 삭감 영향이 컸다.\\', \"\\'조직 내부의 충분한 협의와 민주적 절차를 통해 생명, 평화, 공경운동으로 역사적인 대전환에 나선 것은 참으로 반가운 일\\'이라고 했다.\", \\'과거 박정희 대통령이 \"새마을 운동은 잘 살기 위한 운동이다\"라는 유명한 정의를 내렸다.\\', \\'새마을 운동의 시대적 변화와 개혁에 대한 평가이자 당부로 보인다.\\', \\'문재인 정부와 새마을 운동을 보는 편협된 시각이 있다.\\', \\'긍정적으로 들었다.\\', \"\\'포용적 성장\\'과 \\'신남방 정책\\' 등 문재인 정부의 국정 목표와 조화를 촉구하는 의미이기도 했다.\", \\'적절한 행보라고 판단한다.\\', \\'이래저래 많은 사람의 주목을 받았던 참석이었고 축사였다.\\']\\n',\n",
       " '[\\'지난 3 월 안산시에서 벌어진 40 대 자매의 오피스텔(265 실) 사기행각은 현행법상 실거래 신고 의무사항이 아닌 전ㆍ월세의 법 사각지대를 교묘하게 파고 들었다.\\', \\'또 다른 조사에 따르면, 주인집이 경매에 넘어가면 세입자 10 명 중 4 명은 전세보증금을 돌려받지 못하는 것으로 나타났다.\\', \\'주택 임대차 보증금 액수가 비교적 작은 월세 임차인이나 오피스텔 임차인 등은 확정일자를 신고하지 않아 거래 현황조차 파악하기 어렵다.\\', \\'공인중개사 중개보조원으로 근무한 자매는 위임장 없이 허위 계약서로 임차인과 전세계약을 체결한 뒤 집주인에게 월세계약을 맺었다고 속여 보증금을 가로챘다.\\', \\'참여연대에 따르면, 현재 주택임대차보호법에서 규정하고 있는 확정일자 신고제도로는 673 만 가구로 추정되는 전체 임차가구 중 153 만 가구(23%)만의 임대 현황을 파악할 수 있다.\\', \\'주거권네트워크, 민달팽이유니온, 민변 민생경제위원회, 참여연대 민생희망본부 등은 지난 9 월 2 일 국회 앞에서 기자회견을 열고 \"깡통주택, 갭투자로 인한 임차인 보증금 피해를 예방하기 위해서는 전ㆍ월세 신고제부터 도입해야 한다\"고 주장했다.\\', \"이중계약 사기를 당해도, \\'갭투자\\' 임대사업자 파산으로 피해를 입어도 구제받기가 어렵다.\", \\'현재 수원남부경찰서에서 수사 중인데, 이 사건 또한 전·월세 세입자들이 법의 보호를 받지 못해 큰 피해를 입게 생겼다.\\', \\'임차인의 알권리를 보장하고, 투명한 임대차 정보 제공을 위해서도 전ㆍ월세 거래 신고제가 필요하다고 강조했다.\\', \\'이 자매에게 당한 피해자만 177 명, 피해 금액은 60 억원이 넘었다.\\', \\'지난 7 월에는 수원시 영통구 일대의 원룸 26 채를 보유한 임대사업자가 파산하면서 800 여명에 달하는 임차인들이 보증금을 돌려받지 못하는 상황이 발생했다.\\', \\'안산ㆍ수원 사건처럼 오피스텔, 다세대주택 등은 법의 사각지대에 놓여있다.\\']\\n',\n",
       " '[\"국회가 31 일 본회의를 열어 \\'5·18 민주화운동 진상규명을 위한 특별법\\' 개정안을 처리했다.\", \\'민주화를 요구하는 시민들을 계엄군이 무자비하게 구타·진압하고 있다.\\', \\'여야는 특별법 진상규명 범위에 계엄군의 헬기사격 경위 등이 포함됐다는 점에서 조사위원을 법조 경력자, 학자, 법의학 전문가로 한정된 기존 법률을 고쳐 군 복무경력이 있는 위원이 참여하도록 했다고 밝혔다.\\', \\'이번 개정안 통과를 계기로 여야 정당은 진상규명을 바라는 5·18 유족의 간절한 염원을 받들어 신속하고 철저한 조사가 진행될 수 있도록 적극 협조해야 한다.\\', \\'문재인 대통령은 무자격자 2 명의 임명을 거부하고 재추천을 요구했지만, 자유한국당은 막무가내로 버텼다.\\', \"백승주 자유한국당 의원이 대표 발의한 개정안은 진상조사위원 자격 규정에 \\'군인으로 20 년 이상 복무한 사람\\'을 추가했을 뿐, 기존 법안과 내용이 같다.\", \\'하지만 조사위원 선정 지연과 무자격 조사위원 추천 등 소모적 논쟁을 지속해온 자유한국당 탓에 어쩔 수 없는 타협안이 나왔다는 점을 부인하긴 어렵다.\\', \\'비난 여론에 밀려 1 월14 일 3 명의 위원을 추천했지만, 모두 5·18 민주화운동을 헐뜯어온 극우·보수 인사들로 채웠을 뿐이었다.\\', \\'입법 이후 1 년8 개월이 지나도록 조사위조차 출범하지 못해 국회가 그 법을 다시 개정한 건 부끄러운 일이다.\\', \"자유한국당은 겉으로는 \\'진상규명\\'을 외치면서 실제로는 \\'훼방\\'만 놓았다.\", \\'특히 권태오 전 육군 중장과 이동욱 전 기자는 애초 법이 정한 자격에 미달했다.\\', \"1980 년 5 월 \\'광주 학살\\'을 부른 발포명령자를 밝히고 시신 암매장과 헬기 기총소사 의혹 등을 규명하기 위해 만든 \\'5·18 진상규명 특별법\\'이 여야 합의로 국회 본회의를 통과한 게 지난해 2 월이다.\", \\'자유한국당의 자성이 필요하다고 본다.\\', \\'국회의장(1 명), 더불어민주당(4 명), 바른미래당(1 명)이 모두 조사위원을 추천했지만 자유한국당은 자기 몫 조사위원 3 명의 추천을 무작정 미뤘다.\\']\\n',\n",
       " '[\"지난 \\'조국사태\\'에서 우리는 조국 전 법무부장관 가족이 관련된 \\'비상식적인 일\\'들이 온갖 궤변과 옹호로 \\'별일 아닌 일\\'로 둔갑되는 것을 목도했다.\", \"국민 절반이 분개했던 \\'비상식\\'을 조국옹호에 나선 일부 정치인과 지식인들은 \\'정치검찰의 음모\\'로 몰아붙였다.\", \\'건강한 사회는 상식이 통하는 사회다.\\', \"장휘국 교육감을 비롯한 시교육청 간부들은 \\'형사벌과 행정벌은 다르다\\'며 \\'전수조사를 토대로 한 징계인 만큼 정당하다\\'는 입장을 고수하고 있다.\", \\'사법당국이 무혐의 처분이나 무죄판결을 내렸어도 중징계 처분을 고집하고 있다.\\', \"\\'마녀사냥\\'식 일방통행 조사를 벌여 \\'객관적 사실\\'이 과장·왜곡되는 결과가 초래됐다.\", \"정치인들은 입만 열면 \\'국민의 눈높이에 맞추겠다\\'고 말하지만 정작 중요한 사안이 생기면 \\'자신의 눈높이\\'에서 국민감정을 무시하고 있다.\", \\'이해찬 대표가 지난달 30 일 \"국민여러분께 매우 송구하다\"고 밝혔지만 시기나 구체성이 뒤 떨어져 진정성이 결여됐다.\\', \"더불어민주당 주요 정치인들이 조국사태 때 \\'홍위병\\'으로 나서 궤변을 늘어놓은 것이 좋은 예다.\", \"광주시교육청은 \\'스쿨 미투\\'와 관련된 조사와 연루 교사들에 대한 징계를 상식으로 하지 않고 \\'자신들의 입맛\\'대로 했다.\", \\'조국사태 와중에 어떤 이는 \"배운 사람들은 절대 잘못했다고 말하지 않는다. 지식을, 변명하고 발뺌하는데 만 사용한다. 많이 배운 사람들 중 정직한 사람을 본 적이 거의 없다\"고 말했다.\\', \\'이는 그 사람의 편견일수 있다.\\', \"광주에서도 \\'내로남불\\'의 우김질과 정당화가 자주 벌어지고 있다.\", \\'잘못된 일에 대해 깊이 머리 숙여 사과하는 지도자들이 별로 없다.\\', \\'그렇지만 공감 큰 지적이다.\\', \"사슴을 말이라 우겨대는, \\'현대판 지록위마\\'(指鹿爲馬)였다.\", \\'우기고 부인하면서 빠져 나갈 뿐이다.\\']\\n',\n",
       " '[\"오보나 인권침해 검찰 자의적 판단…언론의 손발을 묶는 훈령 철회해야 법무부가 그제 \\'형사사건 공개 금지에 대한 규정\\'이라는 새 훈령을 발표했는데, 그야말로 검찰개혁과는 거꾸로 가는 행보다.\", \\'규정은 오보를 낸 언론사 기자의 검찰청 출입을 금지하는 등 취재 제한 조치를 시행하겠다는 게 핵심이다.\\', \\'법무부의 새 훈령은 별도의 입법 절차가 필요 없어 오는 12 월 1 일부터 바로 시행할 수 있다.\\', \"이 규정 33 조를 보면 \\'사건 관계인, 검사, 수사업무 종사자의 명예, 사생활 등 인권을 침해하는 오보를 한 기자 등 언론 종사자에 대해서는 검찰청 출입 제한 조처를 할 수 있다\\'고 돼 있다.\", \\'대법원은 \"검찰 훈령이어서 의견을 내는 게 적절하지 않다\"고 회신했고, 대검은 출입금지 제한에 반대 의견을 냈다.\\', \\'법무부는 관련 기관의 의견 수렴을 거쳤다고 설명했지만, 대한변호사협회 등은 \"협의를 하거나 의견을 낸 적이 없다\"고 밝혔다.\\', \\'오보나 인권침해 기준이 무엇인지, 이런 문제를 누가 판단하는지에 관한 규정은 없다.\\', \\'기사의 사실 여부를 법원이 아닌 수사 당사자인 검찰이 자의적으로 판단하겠다고 하니 그야말로 소가 웃을 노릇이다.\\', \\'언론의 오보는 언론중재위원회나 명예훼손 등 법 절차에 따라 책임져야 할 제도가 마련돼 있다.\\', \\'공보 담당으로 지정된 사람만 만나 그가 알려 주는 것만 받아 쓰도록 해 검찰 활동의 폐쇄성이 더욱 높아질 우려가 크다.\\', \\'검찰청 출입과 관련한 징계 여부는 기자단이 자율적으로 결정하는 게 맞다.\\', \"그런데도 검찰이 멋대로 출입을 제한하는 것은 \\'제왕적 검찰\\'의 시각에서 벗어나지 못했음을 보여 주는 것이다.\", \\'이 같은 내용은 법무부가 7 월 말 마련한 초안엔 없었다고 한다.\\', \\'기자는 검사와 수사관 등 검찰 관계자를 일절 접촉할 수 없다.\\', \\'민감한 내용을 뺀 채 초안을 돌려 사실상 거짓말 논란까지 벌어지고 있다.\\', \\'규정안에는 수사 중인 사건의 범죄 혐의나 수사 상황 등 형사사건 내용의 공개를 원칙적으로 금지한다는 내용도 포함됐다.\\', \\'피의자의 실명은 물론이고 수사기관 소환 사실을 언론 등에 알리는 공개 소환도 전면 금지된다.\\']\\n',\n",
       " '[\\'대법원이 강제동원 피해자에게 손해를 배상하라고 일본 기업에 명령한 판결이 나온 지 1 년이 지났다.\\', \\'문재인 정부의 사법부 판단 존중, 피해자 중심주의를 훼손하지 않는 범위에서 일본 정부와 협상을 서둘러 결론을 내야 한다.\\', \\'문재인 대통령이 제안한 한일 정상회담을 아베 신조 총리가 거부했다고 한다.\\', \\'피고인 일본 기업은 한국 법원의 판결을 무시하고 배상을 거부하고 있다.\\', \\'피해자의 권리 구제를 위해 정부가 적극적으로 움직여야 한다.\\', \\'민사소송에 정부가 개입할 소지는 적지만 위안부 문제의 정부 부작위를 위헌으로 본 2011 년 헌법재판소 판결을 상기할 필요가 있다.\\', \\'일본 정부가 판결에 대해 1965 년 한일청구권협정을 위반했다고 하자 일본 기업이 정부 눈치를 보며 충실히 따르고 있어서다.\\', \\'이런 가이드라인에 따라 일본제철 등 피고 기업도 \"일본 정부의 입장과 같다\"고 한목소리를 냈다.\\', \\'이대로 가면 현금화는 피할 수 없게 되며, 한일 관계는 걷잡을 수 없는 상황에 빠진다.\\', \\'과거사를 정리하는 좋은 기회인데도 일본은 끝난 얘기라며 한국이 대책을 가져오라고 오만한 태도로 일관하고 있다.\\', \"스가 요시히데 관방장관은 판결 1 주년인 그제 징용 배상 문제가 청구권협정에 의해 \\'최종적이고 완전히 해결됐다\\'는 종래 입장을 재확인했다.\", \\'한일 관계 악화보다 심각한 것은 피해자들이 배상은커녕 사과조차 받지 못하고 있는 점이다.\\', \\'일본 정부는 수출 규제 등의 경제보복을 저질렀고 한국도 한일 군사정보보호협정 종료 등의 대항 조치를 취했다.\\', \\'청구권협정 해석을 둘러싼 시각차에서 비롯된 이번 사태는 과거사를 말끔히 청산하지 못한 데에 뿌리를 둔다.\\', \\'이르면 연말, 늦어도 내년 초까지는 일본 기업의 국내 자산 매각이 이뤄져 현금화할 공산이 크다.\\', \\'일본 기업은 판결 이전까지도 원고 측 대리인과 협상을 벌였으나 판결 이후에는 대화에 응하지 않고 있다.\\', \\'원고 측은 판결 집행을 위해 일본제철과 미쓰비시중공업의 한국 내 자산에 대한 압류에 이어 매각 신청을 법원에 내놓고 절차를 진행 중이다.\\']\\n',\n",
       " '[\"국토교통부 대도시권광역교통위원회가 어제 앞으로 10 년간 대도시권 광역교통의 정책 방향을 담은 \\'광역교통 2030\\'을 발표했다.\", \\'이를 위해 수도권급행철도(gtx) a와 신안산선을 각각 2023 년과 2024 년 계획대로 준공하고, gtx b·c는 조기 착공을 적극 추진하겠다고 밝혔다.\\', \\'수도권 서부에 추가 gtx 건설 추진, 서울외곽순환도로 판교~퇴계원 복층화, 지하철 9 호선 미사 연장 등도 새롭게 발표됐다.\\', \\'통행 비용을 최대 30% 줄이고, 환승 시간도 30% 줄여 수도권 주요 거점 간 통행 시간을 30 분대로 줄인다는 것이 목표다.\\', \"발표대로 된다면야 참으로 긍정적이지만 실상은 \\'희망고문\\'에 가깝다.\", \\'지난 8 월 예비타당성 조사를 통과한 gtx b(인천 송도~남양주 마석)의 예정된 착공(2022 년 말)을 1 년 정도 앞당기겠다면서 gtx d를 언급하는 것은 총선을 앞두고 수도권 표심을 겨냥했다는 의혹만 부른다.\\', \\'정부는 희망고문을 멈추고 약속한 교통망부터 제대로 건설하길 주문한다.\\', \\'경제가 어려워 확장적 재정이 필요하다지만, 이렇게 주먹구구식으로 예산을 쓸 궁리를 해서는 절대로 안 된다.\\', \\'정부는 2011 년 경기 화성 동탄과 파주 운정을 잇는 gtx a를 2016 년 준공한다고 했었다.\\', \\'광역교통의 중심을 자가용에서 철도 등 대중교통으로 바꾸는 것은 맞다.\\', \\'발표된 많은 사업이 예비타당성 조사를 통과할 수 있을지는 미지수다.\\', \\'정부는 남해·동해고속도로를 연결하는 지하고속도로, 장성축·나주축의 광역도로, 광주~나주·화순 광역철도, 대구 2·3 호선 연장 등도 검토하겠다고 덧붙였다.\\', \\'또 필요한 재원 조달에 대한 계획도 없다.\\', \"그걸 인정해도 \\'검토\\'라는 꼬리표를 달아 전국 곳곳에 걸친 장밋빛 사업 계획을 발표하는 것은 매우 부적절하다.\"]\\n',\n",
       " \"['부산시가 울산 경남 등과 함께 추진해온 동남권대기환경청 설립이 무산될 조짐이다.', '대기오염 문제마저 비수도권은 차별한다는 푸념이 안 나올 수 없게 한다.', '환경부가 지역대기청을 신설하는 대신 기존 낙동강유역환경청 내 부서를 확대 개편하는 방식을 택할 가능성이 높다는 것이다.', '수질과 토양 오염 관리가 주업무인 기관에 미세먼지 오존 등의 측정과 배출원 감독 업무를 추가해 지역 대기질을 관리하겠다는 발상이다.', '수도권대기환경청이 생긴 지 올해로 14 년째다.', '부산 울산 경남의 대기질이 수도권보다 나쁜 것은 그동안 발표된 각종 수치로도 확인된다.', '대기 관련 예산과 인력이 서울 경기 인천에 집중될 수밖에 없는 구조다.', '지자체 간 공조가 필수다.', '자동차 운행 중단이나 도로 물청소 수준의 대책은 더는 근본적인 해결책이 될 수 없다.', '지자체별 측정망 운영과 예산 편성만으론 한계가 있다.', '항만을 끼고 있는 부산은 초미세먼지와 오존 농도가 전국 최악이다.', '대기오염은 이제 특정 계절이나 지역에 국한된 문제가 아니다.', '유해화학물질 관리를 아무리 철저하게 한다 해도 절대적인 배출총량이 많기 때문이다.', '중화학과 조선공업단지가 집중된 울산이나 경남도 상황이 다르지 않다.', '수천 곳에 달하는 배출업체를 유역청 일개 부서에서 감당하겠다는 건 사실상 지역 대기질 관리를 포기하는 처사라고 봐도 무방할 것이다.', '부울경 대기질의 특성을 감안해 맞춤정책을 수립 집행할 수 있도록 전문인력과 예산을 갖춘 별도 기관이 절실하다는 얘기다.', '지난달부터 법이 바뀌어 대형 사업장 관리가 국가 소관이 됐다.', '대기오염물질은 수질이나 토양과 달리 국경과 지자체 경계를 넘나든다.', '하지만 창원에 소재한 낙동강유역청이 동남권 전역의 공장 항만 도로에서 나오는 오염물질을 측정 감시 제어하는 것은 사실상 불가능하다.', '정부 부처를 늘리는 데 고민이 없을 수 없다.', '얼마 전 감사원 감사에서 보듯 동네 공장의 눈속임에 관할 지자체도 속수무책이다.']\\n\",\n",
       " '[\\'고리원자력발전소 1 호기 해체 작업이 지체될 조짐이다.\\', \\'부산 기장군과 울산 울주군은 고리1 호기 해체를 위한 공론화를 주관하는 자치단체 선정을 놓고 팽팽하게 맞서고 있다고 한다.\\', \\'원전 1 기를 해체하는 데 드는 비용은 대략 1 조 원이고, 앞으로 50 년간 세계 원전 폐로 시장 규모가 200 조 원에 이른다고 한다.\\', \\'지역 입장에서는 원전 해체 산업은 주목받는 신성장 동력이다.\\', \\'인근 주민 의견 수렴 작업조차 착수를 못 하고 있는 탓이다.\\', \\'고리1 호기 해체는 우리나라에서 상업용 원전 퇴출 첫 사례란 점에서 환경 문제뿐만 아니라 경제적으로도 중요한 의미가 있다.\\', \\'울주군은 원자력안전법이 정한 대로 비상계획구역이 넓은 자치단체가 주관해야 한다고 주장하지만, 기장군은 시설물이 있는 자치단체가 주도해야 한다는 입장이다.\\', \\'원전 해체는 처음 가보는 길이어서 어려움이 없이 순탄하게 진행될 수는 없다.\\', \\'공론화 작업 지연은 이런 향후 일정의 차질을 의미한다.\\', \\'이 때문에 한국수력원자력이 계획한 연말까지 주민 의견 수렴은 사실상 물 건너간 모양새다.\\', \\'해체 작업에는 국내외 기술 총 58 개가 필요하지만, 10 개 안팎은 현재 우리나라가 아직 확보하지 못한 데다 전문 인력도 부족한 상황이라고 한다.\\', \\'원전해체산업이라는 분야의 개척이 난관에 부딪힌 느낌이다.\\', \"또 걱정스러운 것은 \\'15 년6 개월\\'이라는 해체 기간 자체가 늘어질 가능성이 있다는 점이다.\", \\'고리1 호기 시설물은 행정 구역상 기장군에 있지만 방사선 비상계획구역은 울주군(30 ㎞)이 기장군(20~21 ㎞)보다 넓은 탓에 생긴 이견이다.\\']\\n',\n",
       " '[\"법무부가 그제 내놓은 훈령 \\'형사사건 공개 금지 등에 관한 규정안\\'이 논란을 촉발했다.\", \"피의자 등 사건 관계인의 명예 훼손이나 인권 침해를 방지한다는 명분을 앞세우고 있지만, 이는 \\'언론 옥죄기\\'를 감추기 위한 수사에 불과하다는 인상을 지울 수 없다.\", \\'사실과 다른 오보로 사건 관계자나 검사의 명예를 훼손한 언론사에 대해 검찰청 출입을 제한하는 것을 골자로 한 이 규정은 언론 자유와 국민의 알권리를 침해하는 조치라는 비판이 주류를 이루고 있다.\\', \\'당장 거둬들이는 게 마땅하다.\\', \\'법무부 훈령은 별도 입법 절차가 필요 없다는 점에서 민감한 시기에 언론·출판의 자유를 침해한 위헌적 요소가 다분한 공보 기준을 일방적이고 졸속적으로 마련했다는 오해를 살 만하다.\\', \\'이처럼 논란이 커지자 법무부는 새 공보 기준 발표 하루 만에 \"의무사항이 아니라 재량사항\"이라고 해명했다.\\', \\'이 공보 기준을 권력층이 악용할 수 있다는 것은 불을 보듯 뻔하다.\\', \\'법무부는 이 규정을 내용 숙지 등 준비기간을 거쳐 오는 12 월 1 일부터 시행할 계획이라고 한다.\\', \\'보도 내용에 따라 법무·검찰당국의 자의적인 해석이 얼마든지 가능하다는 뜻이다.\\', \"그러나 \\'어쩌다가 이런 공보 기준까지 나왔는지 모를 지경\\'이라는 국민적 우려를 따져볼 필요가 있다.\", \\'게다가 피의자나 참고인의 출석 일정이 언론에 알려져 촬영이 예상되는 경우 검사나 수사관이 소환 일정을 바꿔 초상권 보호에 협조해야 한다는 의무 규정도 있다.\\', \\'결국 검찰이 자기 입맛에 따라 언론 취재를 봉쇄할 수 있는 근거가 마련됐다고 볼 수 있다.\\', \\'새 공보 기준에는 오보와 인권 침해를 누가, 어떤 기준으로 판단하는지 정확한 설명은 없다.\\', \\'간 구두 브리핑(티 타임)을 금지하면서 공보자료와 함께 해당 자료 범위 안에서만 구두 공개가 가능하도록 했다.\\', \"\\'조국 사태\\' 이후 피의사실 공표를 엄격히 금지하는 새 공보 기준을 마련 중이던 법무부가 오보를 낸 언론에 대해 검찰청사 출입금지 조치 등 강경 대응에 나선 셈이다.\"]\\n',\n",
       " '[\\'북한이 31 일 동해 방향으로 발사체 두 발을 쐈다.\\', \\'북한은 당장 대화와 협상의 장에 나서길 바란다.\\', \\'남한과 미국이 무력시위에 굴복할 리도 없거니와 군사적 대립과 갈등 심화는 한반도 정세만 더욱 불안정하게 할 뿐이다.\\', \\'국제사회의 우려에도 미사일 발사를 지속하며 긴장을 끌어올리는 낡은 행태를 깊이 우려하지 않을 수 없다.\\', \\'이런 우격다짐이 해법일 순 없다는 사실을 북한은 알기를 바란다.\\', \\'우리 정부는 현 상황을 냉철하게 인식하고 대응해 나가야 한다.\\', \"김 위원장의 조의는 인간적 예의 차원에서 이뤄진 일이고, 북한은 앞으로 \\'내 갈 길을 가겠다\\'는 뜻을 분명하게 드러냈다고 볼 수 있다.\", \\'한반도 정세는 점점 심각해지는 형국이다.\\', \\'김 위원장이 30 일 조의문을 보냈다는 사실이 알려지면서 앞으로 꽉 막힌 남북관계에 숨통이 트이지 않을까 하는 기대감이 있었지만, 뒤이은 발사체 발사로 상황이 엄중하다는 사실을 새삼 깨닫게 됐다.\\', \\'북한은 얼마 전 김계관 전 외무성 제1 부상과 김영철 전 통일전선부장을 잇따라 내세워 미국에 \"시간 끌기로 무난히 넘겨보려고 생각한다면 그것은 어리석은 망상\"이라고 압박했다.\\', \\'이번 발사는 김정은 북한 국무위원장이 모친상을 치른 문재인 대통령에게 조의문을 보낸 바로 다음날 이뤄졌다.\\', \\'또 최근엔 남한을 향해 \"금강산에 있는 남쪽 시설물을 철거하라\"고 일방적으로 통보한 뒤, \\\\\\'만나서 논의하자\\\\\\'는 제안에도 \"그럴 필요 없다\"며 문서로 협의하자고 고집했다.\\', \"지난 2 일 잠수함발사탄도미사일(slbm) \\'북극성-3 형\\'을 발사한 지 29 일 만이며, 올해 들어선 열두번째 단거리발사체 발사다.\", \\'10 월 초 스웨덴에서 열린 북-미 실무회담이 결렬된 이후, 남한엔 이른바 \"대미 종속 탈피\"를, 미국엔 \"새로운 셈법\"을 촉구하는 무력시위에 다시 나선 것으로 보인다.\\']\\n',\n",
       " '[\\'그런데 어제 정부가 검토라고는 하지만 2030 년까지 수도권 서부지역에 광역급행철도(gtx)를 추가한다는 얘기는 앞으로 수도권 서부지역이 다른 지역의 그것보다 그간 서러움을 당해온 교통권에 대한 보상을 한 번에 받는 듯 보인다.\\', \\'수도권 서부에 최근 몇몇 청사진이 있었지만 그리 시원한 모양새는 아니었다.\\', \\'대도시권 광역철도망을 2 배로 확충하는 것으로 기존 도시철도들을 연장해 신도시와 수도권 주민들의 서울 진입을 원활하게 할 방침이라는 계산이다.\\', \\'그래서인지 이렇게 새로운 교통정책만 나오면 눈이 트인다.\\', \\'물론 서울을 중심으로 한 지금까지의 정책이라는 질타가 있겠지만 이렇게만 되면 굳이 서울에 주거지를 얻으려는 욕심이 줄면서 계속 춤추던 서울과 인접한 수도권의 아파트 값도 자연스럽게 틀이 잡혀 나갈 것을 기대하고 있다.\\', \\'수도권에 만들어진 신도시 주민들은 지금 교통지옥에 살고 있다.\\', \"소식은 정부가 \\'광역교통 비전 2030\\'을 발표하면서 먼저 광역철도망 구축과 관련해 수도권 서부지역 주민 편의를 위해 gtx d 노선을 설치하는 방안의 검토다.\", \\'아무리 좋은 정책과 계획이라도 실현되지 못할 얘기로 국민들을 현혹하는 때는 이제 지났다.\\', \\'짐작하다시피 기존의 a·b·c 3 개 노선이 추진 중이지만 준공 시 수도권 인구의 적지 않은 인구가 그 혜택을 받을 수 있다.\\', \\'그럼에도 이번 청사진대로 일반광역철도도 급행 운행비율을 16%에서 35%로 대폭 높이고, 인덕원~동탄, 월곶~판교, 수인선 등 신설노선에 급행을 도입하고 서부지역인 인천 2 호선을 신안산선으로 연결하는 방안이 본격 추진된다면 전체 수도권 교통그림이 시원할 수 있다는 생각이다.\\', \\'문제는 이 모든 일이 일사천리로 진행되어야 한다는 점이다.\\', \\'계획만 세워놓고 마치 총선을 의식한 듯 한 모양새로 국민에게 비쳐진다면 정부의 정책은 그대로 여당에 역풍을 가져 올 수 있다.\\', \\'더구나 7 호선 옥정~포천 구간을 연장하기 위한 사업계획 적정성도 거론되고 있다면 금상첨화(錦上添花)다.\\']\\n',\n",
       " \"['지난 금요일 제주항공 항공기가 자동조종 장치 이상으로 긴급 회항한 아찔한 사고가 발생했다.', '이처럼 최근 열흘 동안 항공기 고장과 회항, 지연 사고 등이 4 건이나 발생해 항공기 안전에 대한 우려가 커지고 있다.', '근거리 여행 시 주로 이 항공사를 이용하는 고객들의 불안감도 커지고 있다.', '마치 자동차를 타듯 항공기 탑승이 잦아지는 시대에 항공기의 기술적 결함이나 관리 부족으로 사고가 자주 발생하는 일은 이해하기 어려운 일이다.', '최근 한일 관계 악화로 일본 노선이 중단·축소되는 일이 발생하면서 항공사마다 비상이 걸린 상황인데 운항 정지로 이어지면 항공사의 리스크도 커질 것으로 예상된다.', '일단 안전점검 이후 운항여부를 결정한다고 하지만 노후화되고 사고 가능성이 큰 항공기를 재투입한다는 것은 승객들의 생명을 담보로 하는 일이다.', '비행기가 흔들리면서 실내등이 꺼지고 비상 착륙에 대비하라는 기내 방송에 승객들은 40 분 넘게 공포에 떨어야 했다.', '조종사 비상 대응훈련, 고장이 잦은 기종에 대한 정비방식, 비상상황 운항 통제 절차 등을 우선 점검하고, 항공안전관리시스템과 승무원 휴식시스템, 기장과 승무원 사이 상황전달체계 등도 점검한다고 밝혔다.', '해당 기종을 보유한 국적 항공사들은 초긴장 상태인데 대부분 저비용항공사에서 주로 이 기종을 보유하고 있는 상황이다.', '항공기 사고는 승객의 생명과 직결되고 특히 대형 인명사고로 확산된다는 점에서 이번 기회에 철저한 안전점검을 해야 할 것이다.', '비행횟수 3 만회가 넘는 우선점검대상 항공기 42 대 중 9 대에서 균열이 발견돼 운항이 중지된 상태다.', '세계 각국의 항공사가 결함 공지에 따라 이 기종을 점검했는데 그 가운데 4.67%에서 동체 균열이 발생해 운항이 중지됐다.', '이에 정부가 9 개 항공사를 소집하고 항공안전감독관을 파견해 단계적 안전점검에 착수하기로 했다.', '국토교통부 항공정책실장은 안전에 문제가 있다고 판단되면 관련 규정을 엄격하게 적용해 행정처분 등의 조치를 취하겠다고 했다.', '상당히 높은 비율이다.', '게다가 전 세계적으로 보잉 ng 기종이 문제가 되고 있는 상황이다.', '2 주 전에도 아시아나 a380 항공기 엔진 시운전 중 화재가 발생한 일도 있었다.']\\n\",\n",
       " \"['나라 경제가 급속도로 침체국면으로 빠져들고 있다.', '각 자치단체장들은 내년 예산을 대폭 줄이고 불필요한 경상경비는 모조리 깎는 등 긴축모드로 돌입했다.', '올해를 기점으로 광역시의 예산은 계속 곤두박질칠 것이다.', '이 가운데 송철호 울산시장의 공약 중 상당수가 중단될 가능성이 있다는 지적이 나오고 있다.', '그러나 국가경제는 물론 울산경제도 휘청거리고 있다.', '대부분의 국민들은 잘못하면 큰 위기에 직면할 것이라는데 공감하고 있다.', '지난해만 해도 예산을 불리는데 집중했던 지자체들은 경제가 이렇게 위축될지 몰랐다.', '엄청난 예산이 필요한 이 사업들은 미래세대를 위해 누군가는 해야 할 일들이다.', '경기침체가 지속되면 송 시장 임기 후 굵직굵직한 공약들이 어떻게 진행될지 아무도 장담할 수 없다.', '버릴 것은 과감히 버리고 울산의 미래를 위한 사업은 끝까지 추진해야 한다는 것이다.', '모든 경제 지표를 살펴봐도 잘 될 것이라는 징조는 하나도 보이지 않는다.', '이 가운데 86 개는 임기내에 마무리할 예정이지만 11 개는 임기 후에 마무리하는 것으로 돼 있다.', '송 시장의 공약 가운데는 미래를 내다보고 내건 사업들이 많다.', '다시 말하면 공약예산 중의 70%는 후임 시장이 책임져야 한다는 것이다.', '기존 산업이 해체되기 전에 하루 빨리 제4 차 산업을 일으켜야 하고, 광역교통시스템 등 아직 완성되지 않은 광역기반시설도 공고히 해야 한다.', '답은 하나다.', '작금의 경제상황을 감안하면 충분히 설득력이 있는 말이다.', '송 시장이 선거 때 내건 공약은 97 개다.', '예를 들어 산재전문공공병원 설립, 조선해양플랜트연구원 설립, 부유식 해상풍력단지, 경전철(트램) 도입, 재생에너지 메카 건설 등이 그것들이다.', '공약 예산 약 9 조5959 억원 중 29.3%인 2 조8071 억원은 임기내에 투입 예정이고 69.8%인 6 조7022 억원은 임기 이후에 투입할 예정이다.', '경제가 이렇게 어려운 시기에 후임 시장에게 핵심 공약의 장기플랜을 거의 송두리째 넘겨야 하는 송 시장의 어깨는 매우 무거울 것이다.']\\n\",\n",
       " \"['태화강 백리대숲 조성을 위한 첫 구간에 대나무가 심어졌다.', '이번 태화강 백리대숲 조성 사업에는 sk울산컴플렉스를 비롯해 경남은행과 울산농협, s-oil, ls니꼬동제련, 비아이티 등 6 개 기업이 참여했다.', '어제 1 차 구간인 남구 삼호섬에서 중구 다운 징검다리 구간 400m에 대나무 900 그루가 조성된 것이다.', '훌륭하게 조성된 대숲까지 관광할 수 있도록 해야 한다.', '타 지역민들이 태화강 국가정원을 관광하기 위해 울산을 찾고 있다.', '태화강 백리대숲 조성사업은 태화강 십리대숲을 확대하기 위해 20 억원을 들여 울주군 석남사에서 중구 십리대숲을 거쳐 북구 명촌교에 이르는 100 리 구간에 기존 대숲 밀도를 높이고 대숲 단절 구간 20 곳에는 대나무를 더 심는 사업이다.', '태화강 백리대숲은 태화강 국가정원과 연계해 체류형 생태문화 관광명소가 될 것으로 기대된다.', '대숲 연속성을 확보하는 사업으로 2020 년 말이면 마무리된다.', '현재 구영교에서 선바위로 가는 구간 강변에도 대나무 식재가 한창이다.', '하지만 공사로 인해 자전거를 타거나 운동을 하는 시민들에게 다소 불편을 주고 있다.', '태화강 국가정원에 대한 타 지역민들이 바라보는 시선이 달라지고 있는 상황에서 더욱 신경을 써야 한다.', '공사 차량이 다니거나 산책도로 주변에 식재될 대나무들이 널브러져 있어 시민들의 눈살을 찌푸리게 하고 있다.', '시민들의 안전사고 예방에도 주의를 기울여야 할 것이다.', '안전한 공사로 울산 태화강변을 대숲 생태 관광명소로 변모시켜야 한다.']\\n\",\n",
       " '[\\'지난 9 월부터 운영되기 시작한 울산의 공유 전기 자동차가 시민들의 사랑을 받고 있다.\\', \\'시내버스와 택시를 제외하면 변변한 대중교통 수단이 없는 울산에서 공유 자전거가 단거리 이동 수단의 역할을 할 수도 있겠구나 하는 가능성이 보인다.\\', \"하지만 \\'공유경제\\'가 성공하기 위해선 추진하는 기관과 사업자, 시민들 모두 의식전환이 뒤따라야 한다.\", \"다른 지자체들도 크고 작은 \\'공유 경제\\' 서비스를 제공하고 있다.\", \"경기도는 지난해 육아용품을 공유하고, 아이 성장단계에 맞는 정보를 제공하는 \\'링키\\'를 공유기업으로 선정했다.\", \\'성공적인 시범운영에 따라 울산시는 이번 달부터는 공유 전기자전거를 600 대로 늘려 본격 운영한다고 한다.\\', \\'대중교통 이용이 상대적으로 어려운 중구 혁신도시 인근 지역 이용률도 15%나 됐다.\\', \"각 지자체들도 \\'공유 경제\\'를 통해 주민들의 생활 편의를 강화하기 위해 갖가지 아이디어를 내고 있다.\", \\'400 대를 시범 운영했는데 열흘 만에 하루 평균 이용객이 2,000 명을 넘어서는 등 인기를 끌었다고 한다.\\', \\'공유 전기자전거를 운영하고 있는 다른 대도시에서는 출·퇴근용으로 많이 이용되는 반면 울산의 경우 통학이나 관광, 레저 등으로 많이 이용된다고 한다.\\', \\'서비스 운영 범위도 기존 중·남·북구 중심지역과 울주군 굴화에서 북구 송정 지역으로 확대할 계획이다.\\', \"공유 전기자전거의 성공적인 안착은 울산이 \\'공유경제\\' 사회로 무난히 진화하고 있다는 것을 의미한다.\", \\'4 차 산업혁명과 궤를 같이하고 있는 대표적인 트렌드다.\\', \"\\'공유경제\\'는 이제 자동차와 자전거 등 이동 수단은 물론 집, 주차장, 사무실 등 공간의 공유까지 일상의 모든 것을 함께 쓰는 생활의 공유까지 확장되었다.\", \"\\'공유경제\\'는 물품을 소유하지 않고 빌려 쓰는 개념이다.\", \\'울산시의 통계를 보니 공유 전기자전거는 자가용 승용차를 운행하기 어려운 청년들이 많이 이용하는 것 같다.\\', \\'주요 이용 장소는 울산대학교 인근 무거동 15%, 성남동 젊음의 거리 8%, 태화강국가정원 7%, 남구 삼산동과 중구 병영동, 북구 화봉동 5%였다.\\']\\n',\n",
       " '[\"법무부가 그제 발표한 \\'형사사건 공개금지 등에 관한 규정\\'이란 훈령은 국민의 눈과 귀를 틀어막겠다는 의도가 역력하다.\", \\'훈령 요지는 검사와 수사관 등은 기자와 개별적으로 만날 수 없고, 검찰 수사와 관련해 오보를 내면 해당 언론사는 브리핑은 물론 검찰청 출입 자체가 제한된다는 것이다.\\', \\'이번 조치는 문재인 대통령이 지난 16 일 김오수 법무부 차관을 불러 \"피의사실 공보준칙 개정을 10 월 중에 끝내라\"고 지시한 데 따른 결과물이다.\\', \\'언론 자유 침해는 감시 기능 약화를 초래해 국민의 각종 권리 훼손으로 이어질 수밖에 없다.\\', \\'국민의 알 권리와 언론의 자유를 규정한 헌법 제21 조에 위배된다.\\', \\'조 전 장관 소환이 임박했다는 점에서 누구를 위한 훈령인지도 의심스럽다.\\', \\'내부 고발이 없으면 검찰의 과도한 권한 남용을 막기 어렵다.\\', \"결국 \\'깜깜이 수사\\' \\'봐주기 수사\\'라는 과거 적폐가 되살아나지 않겠는가.\", \\'검찰도 난색을 표한다.\\', \\'오보를 낸 언론사 기자에 대해 검찰청 출입을 금지하겠다는 것은 심각한 문제가 아닐 수 없다.\\', \\'이런 훈령을 이달에 예비적으로 적용하고 다음달부터 본격 시행하겠다니 어이가 없다.\\', \\'훈령에는 누가 오보 여부를 판단하는지, 무엇이 오보의 기준인지를 규정한 내용도 없다.\\', \\'검찰이 발표하는 내용 이상을 알기 어려워져 대형 사건을 은폐·축소하더라도 견제할 방법이 없다.\\', \\'노무현정부 시절 기자실 폐쇄를 연상시킨다.\\', \\'이 훈령이 그대로 적용되면 기자는 검사와 수사관 등 검찰 관계자를 일절 접촉할 수 없다.\\', \\'비판 언론에 재갈을 물리겠다는 의도다.\\', \\'정부가 자의적으로 자신들에게 불리한 기사에 오보 딱지를 붙일 수 있다.\\', \\'\"기자 출입 금지나 브리핑 제한 등은 기자단 내부 규약으로 정할 사항\"이라는 대검찰청 의견은 배척됐다.\\', \"과거 군사독재 시절에도 없던 \\'신(新) 언론통제\\'라는 비난이 나오는 이유다.\", \\'조국 전 법무부 장관 인사청문회 때 법무부가 오보라고 밝힌 내용이 검찰 수사에서 사실로 밝혀졌는데, 이런 경우엔 어찌하려는가.\\', \\'언론은 정부가 알려주는 내용만 받아쓰라는 얘기다.\\']\\n',\n",
       " '[\\'반짝하던 주요 경제 지표들이 한 달 만에 다시 내려앉았다.\\', \"어제 통계청이 발표한 \\'9 월 산업활동 동향\\'에 따르면 전산업생산지수는 전월보다 0.4% 하락했다.\", \\'홍 부총리도 경제가 어려워진 원인이 소득주도성장 정책과 주 52 시간 근무제가 아니냐는 의원의 지적에 \"주 52 시간 문제는 정부가 보완대책을 추진하고 있다\"고만 했다.\\', \\'하지만 잘못된 정책 기조는 신줏단지 모시듯 요지부동이다.\\', \\'낙관론이 판치던 정부 내에서 우려의 목소리가 나오는 것은 그나마 다행이다.\\', \\'홍남기 경제부총리는 그제 국회 예산결산특별위원회에서 \"(현재 소비심리는) 글로벌 금융위기, imf 외환위기 정도의 수준\"이라고 했다.\\', \\'통계청은 이번에도 예외 없이 남 탓을 했다.\\', \\'미국 연방준비제도(fed)가 어제까지 석 달 새 기준금리를 0.25%포인트씩 세 번이나 내린 것은 세계 경제의 암울한 상황을 웅변한다.\\', \\'추석을 앞둔 8 월 선구매에 따른 기저효과가 있었고, 9 월 태풍과 장마 등으로 야외활동이 감소하면서 생산과 소비가 줄었다고 설명했다.\\', \\'통계청은 핵심을 잘못 짚고 있다.\\', \\'보호무역주의 확산, 미·중 무역분쟁, 저출산·고령화 등 경제의 걸림돌이 나라 안팎에 산재해 있기 때문이다.\\', \\'모처럼 생산·소비·투자가 동반 상승했던 8 월의 산업동향을 이어가지 못한 채 다시 나락으로 빠져드는 형국이다.\\', \\'경제 전반이 내려앉아 일자리와 소득, 소비가 줄어든 것이다.\\', \\'정부는 지난해 고용대란이 심화되자 인구구조 탓, 날씨 탓, 자영업자 탓을 했다.\\', \\'올해는 물론 내년에도 성장률이 1%대에 머물 것이란 민간기관의 예측이 쏟아진다.\\', \\'지금 우리 경제가 당면한 상황은 여간 심각하지 않다.\\', \\'최근 비정규직 급증 현상을 놓고도 조사 기준 탓으로 돌렸다.\\', \\'소비지표인 소매판매액지수는 2.2% 줄어 1 년 9 개월 만에 최대 감소폭을 기록했다.\\', \\'2017∼2018 년 대규모 반도체 장비 투자의 기저효과가 조금씩 사라지면서 소폭이지만 증가했다는 것이다.\\', \\'설비투자만 2.9% 증가했으나 이마저 역기저 효과 덕분이라고 한다.\\']\\n',\n",
       " '[\\'자유한국당이 어제 내년 총선에 대비한 1 차 영입 인사 8 명을 발표했다.\\', \\'= 황교안 자유한국당 대표와 나경원 원내대표가 31 일 오전 서울 여의도 국회 자유한국당 회의실에서 제1 차 자유한국당 영입인재 환영식에 참석해 영입인사들과 기념촬영을 하고 있다.\\', \\'격차가 지난주 6.3%포인트에서 9.5%포인트로 벌어졌다.\\', \"황교안 대표 측이 \\'1 호 영입 인사\\'라고 밝힌 박찬주 전 육군 대장은 당 최고위원들이 \\'공관 갑질\\' 논란을 들어 반발하자 이번 명단에서 제외됐다.\", \\'어제 발표된 리얼미터 여론조사 결과를 보면 정당 지지도에서 더불어민주당 39.9%, 한국당 30.4%였다.\\', \\'이러니 정부의 실정과 조국 사태에도 한국당 지지율이 오르지 않는 것이다.\\', \\'한국당은 박근혜 전 대통령 탄핵 이후 뼈를 깎는 혁신과 참신한 인재 영입을 통해 새로운 보수 정당으로 거듭나겠다고 수없이 다짐했다.\\', \\'당의 외연을 넓히고 세대교체를 이루겠다는 의지는 보이지 않는다.\\', \\'소득주도성장, 탈원전 등 문재인정부 정책에 비판적인 인사들이 주를 이룬다.\\', \\'공천 가산점 문제를 두고는 황 대표와 나경원 원내대표 간 파열음도 나온다.\\', \\'당내에서조차 \"대안 정당으로서 미래 비전을 보여주는 참신성이 보이지 않는다\"는 지적이 나오는 것도 무리가 아니다.\\', \\'황 대표는 당 지도부와 상의 없이 박 전 대장을 영입하려다 보류돼 리더십에 상처가 났다.\\', \"\\'조국 낙마\\'에 고무돼 표창장 수여 소동을 벌이고 국회 패스트트랙 관련 피고발 의원에게 공천 가산점을 주겠다는 황당한 발상으로 비난을 자초한 게 제1 야당의 현주소다.\", \\'하지만 달라진 게 없다.\\', \\'한국당은 지난 3 년간 총선과 대선, 지방선거에서 잇따라 졌다.\\', \\'기득권에 안주하는 체질이 굳어진 탓이다.\\', \\'윤창현 서울시립대 교수, 정범진 경희대 원자력공학과 교수, 김성원 전 두산중공업 부사장, 이진숙 전 대전mbc 사장 등이다.\\']\\n',\n",
       " '[\\'한국gm이 경남 창원공장에서 일하는 비정규직 근로자 570 여 명에 대한 계약을 올해 말 종료하기로 했다.\\', \\'구조조정이 손쉽게 이뤄질수록 더 많은 산업과 일자리가 생겨난다는 것은 입증된 사실이다.\\', \\'그런데 이번 정리해고는 정규직과 비정규직으로 계급화된 한국 노동시장의 실상을 보여주고 있다.\\', \\'한 번 정규직은 영원한 정규직이어야 한다면 이것이 신분제 사회가 아니고 뭔가.\\', \\'회사가 경쟁에서 살아남으려면 변화해야 하고 변화의 핵심은 구조조정이다.\\', \\'대부분 생산라인에서 정규직과 같은 일을 해왔다.\\', \\'그런데 한국에선 실제 그 신분이 기준이 된다.\\', \\'그런 부담을 지면서까지 회사가 해고를 통보한 배경에는 공장을 살리려면 구조조정은 해야겠고 비정규직을 빼고는 해고 엄두를 내지 못하는 현실이 있다.\\', \\'해고된 창원공장 비정규직 중에는 지난 5 월 고용노동부가 불법 파견으로 인정하고 직접 고용을 지시한 인력이 포함돼 있다.\\', \\'일단 정규직에 포함되면 업무 성과야 어찌 됐든 강성 노조의 보호를 받고, 비정규직은 똑같은 일을 하는데도 1 순위 정리 대상자가 된다.\\', \\'지난해 한국gm 군산공장 폐쇄로 무급 휴직에 들어갔던 300 여 명의 정규직 근로자들이 1 일 부평 2 공장으로 복귀한 것이 단적인 예다.\\', \\'이들의 해고는 이중으로 법적 문제를 일으킬 가능성이 높다.\\', \\'어떤 상황에서도 정규직 밥그릇은 안 건드린다는 약속을 해 달라는 것이다.\\', \\'한국에선 공장 문을 닫는 상황에서도 정규직은 자르기 어렵다.\\', \\'경영상 필요에 의한 구조조정은 전 세계 자동차 회사에서 일상다반사로 진행되는 일이다.\\', \\'회사가 구조조정을 할 때 일의 성격이나 개인의 생산성이 아니라 정규직 신분이 기준이 된다면 이걸 공정하다고 말할 수 있나.\\', \\'한국gm 정규직 노조 측은 \"고용 안정에 대한 사측 약속 없이는 (창원공장의) 일방적 1 교대 전환에 합의할 수 없다\"는 입장이다.\\', \\'경차 쉐보레 스파크와 경상용차 다마스·라보를 생산하는 창원공장은 모델 노후화로 가동률이 50%대에 머물고 있다.\\', \\'신차 생산이 이뤄지는 2023 년까지 2 교대 생산라인을 1 교대로 감축할 필요가 생겼고 이에 따라 비정규직 해고에 나선 것이다.\\']\\n',\n",
       " '[\\'제주에서 농업분야 관련 특별한 회의가 열렸습니다.\\', \\'가뜩이나 농촌이 상당한 어려움을 겪고 있는 가운데 새로운 농정 수립을 위해 마련했다는 점에서 관심이 쏠리고 있습니다.\\', \\'정부가 추진하는 농정을 근본적으로 바꾸기 위해 농민의 소리를 듣는 자리입니다.\\', \"대통령 직속 농어업·농어촌 특별위원회는 지난달 30 일 제주퍼시픽호텔에서 \\'농정틀 전환을 위한 전국 순회 100 인 원탁회의 제주\\'를 개최했습니다.\", \\'농특위는 이날 원탁회의를 시작으로 전국을 돌며 정부의 농정틀 전환 정책에 대한 농민들의 의견을 수렴할 예정입니다.\\', \\'갈수록 태산입니다.\\', \\'그러니 농촌에 활력을 불어넣을 수 있는 획기적인 농정이 나오길 기대합니다.\\', \\'이뿐만이 아닙니다.\\', \\'세계무역기구(wto) 개발도상국 지위 포기 등으로 또다른 위기를 맞고 있습니다.\\', \\'이러한 농업틀은 특정 작물 집중, 농촌 양극화, 농약 과다 사용에 따른 환경오염 등의 문제를 불렀습니다.\\', \\'현행 농정틀은 농산물 개방에 대비한 우리 농산물의 경쟁력 강화에 방점을 두고 있습니다.\\', \"앞으로 농촌 환경보호 등 \\'공익적 부문\\'에 기여하는 농가에 지원하는 예산을 대폭 늘린다는 것이어서 주목됩니다.\", \\'또 기상에 따라 농사가 좌우되니 시름이 가실 날이 없습니다.\\', \\'실제 올 가을은 유례없는 기상악화로 한해 농사를 거의 망쳤습니다.\\', \"이에 따라 정부는 선진국형 농업틀인 \\'공익기여지불\\'을 확대 추진한다는 복안입니다.\", \\'무엇보다 자유무역협정(fta)이 잇따라 체결되면서 농민들은 설자리를 잃어가고 있습니다.\\', \\'땀을 흘린대로 결실을 거두는 것이 아닙니다.\\', \\'현재 우리의 농촌은 총체적 위기에 처했다고 해도 과언이 아닙니다.\\', \\'풍년이 들면 과잉생산으로 제값을 받지 못하기 일쑤입니다.\\', \\'농사짓는 것도 만만치 않습니다.\\']\\n',\n",
       " \"['제주도정의 주요 교통정책 가운데 하나인 교통유발부담금제가 겉돌 우려를 낳고 있습니다.', '부담금을 경감받기 위해 교통량 감축활동을 펴겠다고 신청한 일부 사업장에서 위반사례가 적잖이 발생하는 등 실효성에 의문이 제기되고 있습니다.', '강력한 지도단속과 함께 보다 면밀한 점검을 통해 보완할 점은 보완해 나가야 합니다.', '차고지증명제 등 제도 시행에만 급급한 나머지 꼼꼼히 대비하지 못한 탓이 큽니다.', '교통유발부담금제 역시 마찬가지 입니다.', '서귀포시에 따르면 교통유발부담금 대상인 1040 개 사업장 중 74 곳에서 교통량 감축활동 이행계획서를 제출했지만 눈 가리고 아웅 식의 행태가 벌어지고 있습니다.', '위반 사업장의 행태가 문제이지만 당국 역시 제도가 제대로 정착될 수 있도록 심혈을 기울여야 합니다.', '이들 사업장은 부제 운행이나 자전거 출퇴근, 승용차 함께 타기, 대중교통 이용 등 교통량 감축에 나서야 합니다.', '교통량 감축 계획은 나몰라라 한 채 부담금만 감면받겠다는 심산으로 밖에 볼 수 없습니다.', '그렇지 않아도 제주도정의 교통정책은 사전 준비 소홀로 혼란을 초래한다는 지적이 끊이지 않고 있습니다.', '이행한 만큼 경제적 부담을 줄여줍니다.', '감면액은 16 억8000 만원으로 서귀포시 총 부과액(45 억8200 만원)의 35.1%에 이릅니다.', '그런데 일부 사업장에서 제대로 지키지 않고 있는 것입니다.', '교통유발부담금제는 원인자 부담 원칙에 따라 일정 규모 이상 시설물 소유자에게 내년 10 월부터 경제적 부담을 지우는 제도입니다.', '하지만 일부 사업장은 이행계획을 신청만 해놓고 실천은 하지 않는 것으로 드러났습니다.', '이행계획을 실천하지 않으면 제도는 있으나마나 입니다.']\\n\",\n",
       " \"['서울경제 법무부가 형사사건 공개금지 규정을 수정해 내사·피의사실, 수사상황 등 형사사건 내용 일체의 공개를 원칙적으로 금지하기로 했다.', '12 월1 일부터 시행되는 새 규정에서 눈에 띄는 조항은 사건 관계인이나 검사 또는 수사업무 종사자의 명예·사생활 등 인권을 침해하는 오보를 한 기자의 검찰청 출입이 제한될 수 있다는 부분이다.', '정부는 이런 시대착오적 행정으로 인한 피해가 국민에게 고스란히 돌아간다는 사실을 유념하기 바란다.', '우리나라도 과거 여러 차례에 걸쳐 피의사실 공표를 제한하는 법안을 발의한 바 있지만 그때마다 고위공직자에 대해서는 예외를 뒀다.', '특히 고위공직자 비리 의혹에 대해서는 공개에 아무런 제한도 두지 않고 있다.', '이 규정은 오보에 대한 기준과 범위, 오보 여부를 가리는 주체 등에 대해 아무런 설명이 없다는 게 문제다.', '어떤 기사의 오보 여부는 당장 가려지기 힘든 경우도 많고 끝까지 가려지지 않는 경우도 있다.', '이 조항은 피의자나 참고인 등 조사를 받는 사건 관계인의 인권을 보호하기 위한 것인데 수사 주체인 검사가 갑자기 포함됐다.', '그렇다고 해서 무조건 공개를 금지한다면 국민의 알 권리가 심각하게 침해될 수 있다.', '이에 대한 판단을 검찰이 맡는 순간 검찰은 자기 입맛에 따라 오보 여부를 정하고 특정 언론사의 취재를 배제해 여론을 의도대로 몰아갈 수 있다.', '오보는 바로잡는 절차가 이미 있다.', '이런 이유로 외국에는 피의사실공표죄 같은 형태의 입법은 매우 드물다.', '이를 무시하고 검찰 손에 쥐여주는 것은 과거 유신 시대나 5 공화국 시대처럼 언론에 재갈을 물리자는 의도로밖에 해석되지 않는다.', '국가기관의 일부인 검사는 국민의 인권을 보호할 의무가 있지 침해받을 인권은 없다.', '인권침해 대상에 검사가 들어 있는 것도 이상하다.', '오보라고 판단되면 해당 언론사와 기자에게 오보 정정을 요구하고 이후 언론중재위원회를 거쳐 법원의 판단을 받으면 된다.', '피의사실 공표로 인한 국민 인권침해는 당연히 사라져야 할 폐단이다.']\\n\",\n",
       " '[\\'4 차 산업혁명을 이끌 인재 양성에 핵심 역할을 해야 할 국내 이공계 대학원에 대해 학생들의 불만이 높다는 조사 결과가 나왔다.\\', \"국가과학기술자문회의가 이공계 석·박사과정 전일제 대학원생 1330 명을 대상으로 실시한 설문조사에 따르면 교육·연구, 업무·처우, 진로·취업 등 전 부문에서 \\'불만족스럽다\\'는 응답이 많았다.\", \\'교육부와 과학기술정보통신부, 산업통상자원부 등 관련 부처들은 국가과학기술자문회의 조사를 바탕으로 이공계 대학원을 바로 세울 대책을 조속히 마련해야 할 것이다.\\', \\'4 차 산업혁명 시대에는 질적으로 더 우수한 인적 자본이 요구된다.\\', \\'인적 자본은 한국의 고도성장을 뒷받침한 핵심 동력이었다.\\', \\'이대로 가면 이공계 대학원을 통한 우수 연구인력 공급에 상당한 차질이 빚어질 것은 불 보듯 뻔하다.\\', \\'이공계 대학원은 일본의 수출 규제로 인해 발등의 불로 떨어진 소재·부품·장비 연구인력은 물론이고 4 차 산업혁명의 핵심 기술인 인공지능(ai) 연구인력의 산실이다.\\', \\'수업에 만족한다는 응답은 37%에 불과했다.\\', \\'대학과 기업을 이어주는 산학협력의 거점이기도 하다.\\', \\'하지만 현실은 반대로 가고 있다.\\', \\'많은 시간을 연구실 행정에 빼앗기고 있다는 응답이 49%에 달했다.\\', \\'전일제 학생들이 교육과 연구를 병행하기에는 월급도 턱없이 낮은 것으로 나타났다.\\', \\'병역특례 혜택마저 축소돼 국내 대학원을 가느니 차라리 병역의무를 빨리 마치고 해외로 나가겠다는 학생도 속출하고 있다.\\', \\'진로 및 취업 지원에서도 대학원은 사각지대로 방치된 상태다.\\', \\'굳이 이공계 대학원에 진학할 이유가 있느냐는 학생이 늘어나는 데는 다 이유가 있다.\\', \\'되돌릴 수만 있다면 유학을 선택하겠다는 대학원생이 적지 않다는 게 이를 말해준다.\\', \\'이공계 대학원 부실은 인재의 해외 유출로도 이어진다.\\', \\'응답자의 3 분의 2 가 다시 입학 시점으로 돌아간다면 유학, 취업, 다른 대학원을 택하겠다고 답한 것은 충격적이다.\\']\\n',\n",
       " '[\\'서울경제 정부가 무작정 재정 규모를 늘리기보다 지속가능하고 합리적인 지출에 초점을 맞춰야 한다는 지적이 나왔다.\\', \\'고려대 미래성장연구소와 미래혁신포럼이 31 일 국회에서 \\\\\\'건전재정 및 재정지출 방향\\\\\\'을 주제로 개최한 세미나에서 참석자들은 \"재정지출의 효율성이 뒷받침되지 못하면 밑 빠진 독에 물 붓기\"라며 재정지출의 틀을 바꿔야 한다고 역설했다.\\', \\'현금 뿌리기 식의 복지지출 남발로 재정 건전성과 효율성 두 가지를 모두 놓치고 있다는 것이다.\\', \\'칠레는 재정적자를 줄이려고 지하철 요금을 30 페소(약 50 원) 올렸다가 폭동사태로 번져 대외신인도에 치명상을 입었다.\\', \\'우리도 재정 효율성을 무시한 채 나라 곳간을 허물어버린다면 언젠가 이런 사태가 오지 않는다고 장담하지 못할 것이다.\\', \\'정부는 경제 활성화를 앞세워 내년 513 조원의 초슈퍼 예산안을 편성해놓았다.\\', \\'그러자면 불요불급한 재정수요를 줄여 지출의 효율성을 높이는 재정건전화 방안부터 마련해야 한다.\\', \"국회에 계류된 재정건전화법 통과를 서두르는 한편 재원확보 방안을 의무화한 \\'페이고 원칙\\'도 필요하다.\", \\'김우철 서울시립대 교수는 \"확대재정은 효율성과 건전성 관리라는 요건부터 갖춰야 한다\"며 예비타당성 조사 무력화와 연구개발(r&d) 사업 남발을 효율성 저하의 대표사례로 꼽았다.\\', \\'성장의 마중물로서 확장재정이 불가피하다는 이유에서다.\\', \\'무엇보다 재정지출은 경제 체질을 강화하는 데 우선순위를 둬야 한다.\\', \\'고용과 재정투입 효과가 낮은 복지 지출에 쏟아붓지 말고 사회간접자본(soc) 투자를 늘리는 게 낫다는 얘기다.\\', \\'산업구조를 개편해 생산성을 높이고 새로운 r&d 인프라 확충, 교육·훈련 분야에 집중 지원해야 성장동력을 높일 수 있다.\\', \\'정부 지출의 투입효과를 보여주는 재정승수를 높이면 재정확대와 동일한 효과를 이끌어낼 수 있다는 지적도 나왔다.\\', \\'하지만 전문가들은 규모가 아니라 적재적소 투입이라는 원칙을 충실히 지키는 게 중요하다고 강조했다.\\', \\'이런데도 정부는 재정승수는 뒷전인 채 재정 확대에만 골몰하니 답답한 일이다.\\']\\n',\n",
       " '[\\'\"상대적 박탈감과 좌절감을 깊게 헤아리지 못했다\"는 이해찬 더불어민주당 대표의 \\\\\\'조국 사태\\\\\\' 관련 사과 기자간담회는 여러 면에서 미흡했다.\\', \"미국과 중국이 상호 보복관세 부과를 단행한 2018 년 7 월 이전부터 한국 경제가 \\'나홀로 부진\\'의 늪에 빠졌다는 사실을 깔아뭉갠다.\", \\'미·중 무역전쟁도 단골 변명거리다.\\', \\'두 달 반 동안 나라를 극심한 갈등과 분열로 몰고 간 주요 당사자로서 쇄신책 없이 책임 회피에만 급급해 실망을 키웠다.\\', \"30 대 상장기업의 3 분기 영업이익이 전년동기보다 54%나 줄어도 반도체 경기부진을 탓하고, 9 월 생산과 소비 급감에 날씨와 \\'이른 추석\\'을 핑계로 내미는 식이다.\", \\'조국 법무부 장관 사퇴 후 보름 넘게 무반응으로 일관하다 쇄신 요구가 당 내부에서도 커지자 등떠밀리듯 나선 모양새부터 그렇다.\\', \"이 대표가 언급한 \\'상대적 박탈감과 좌절감\\'이 한가하게 느껴질 정도의 \\'절대적 박탈감과 절망감\\'에 고통받는 국민이 차고 넘치는 게 현실이다.\", \"급격한 최저임금 인상, 경직된 \\'주52 시간제\\' 탓에 비정규직 근로자가 1 년 새 87 만 명 폭증하는 등 양질의 일자리가 사라지고 30·40 대 가장들의 실직이 급증했다.\", \"\\'뻣뻣한 사과\\'가 더 못마땅하게 느껴지는 이유는 \\'조국 사태\\' 못지않은, 그보다 더한 많은 참사를 여권이 못 본 척 외면하고 있어서다.\", \\'게다가 사과의 말은 세 문장으로 짧게 끝내고, 야당과 검찰에 대한 비난은 길게 늘어놓아 책임 전가에 치중한다는 인상을 주고 말았다.\\', \\'고용시장 바깥으로 밀려난 이들 가장과 청년들은 심리적인 박탈감을 넘어 당장의 생계와 생존을 걱정할 만큼 절박하다.\\', \\'그런데도 정부는 외부환경을 탓하고 핑계찾기에 급급하다.\\', \"대표적인 게 \\'일자리 참사\\'다.\", \\'거대 노조가 정규직을 독식하는 바람에 사회로 진출하는 청년들이 처음부터 비정규직이나 단기 아르바이트 근무로 내몰리며 자존감에 큰 상처를 입고 있다.\\']\\n',\n",
       " '[\\'서울경제 김상조 청와대 정책실장이 30 일 ytn에 출연해 \"아파트 가격 급등 움직임이 나타날 경우 자금조달계획서를 전수조사하겠다\"고 밝혔다.\\', \\'벌써 거래절벽과 후분양·일반분양 통매각 같은 부작용이 속출하고 있다.\\', \\'매물부족 심화 등으로 연결돼 시장만 더 왜곡시킬 뿐이다.\\', \\'수요가 있는 곳에 공급을 늘리는 게 시장원리다.\\', \\'일시적 효과는 있겠지만 후유증은 크다.\\', \\'지금처럼 수요억제 정책만 들이대 집값을 잡을 수 있다고 여긴다면 착각이다.\\', \\'이제라도 정부는 현실을 직시할 필요가 있다.\\', \\'분양가상한제 시행과 수능 정시확대 예고 등의 영향으로 서울 강남지역을 중심으로 집값이 꿈틀대자 추가 대책을 시사한 것이다.\\', \\'여기에 대입 정시확대에 따른 강남 수혜 전망까지 더해져 오름폭이 더 가팔라지고 있다.\\', \\'지난달 반포동 아파트 값이 3.3 ㎡당 1 억원에 거래됐을 정도다.\\', \\'그런데도 다시 집값을 찍어누를 궁리만 하고 있으니 답답하다.\\', \\'특히 6 월 하순 분양가상한제 공론화 이후 서울 신축 아파트 위주로 집값 불안감이 커지는 양상이다.\\', \\'실제 서울 아파트 값은 지난주까지 17 주째 오름세를 이어갔다.\\', \\'최근에는 서울 강북과 지방 광역시까지 집값 상승세가 확산될 조짐이다.\\', \\'잇단 규제책으로 집값 오름세가 수그러들 것이라는 정부의 기대가 무색하다.\\', \\'부동산 가격을 끌어올리는 주범은 정부라는 얘기다.\\', \\'현 정부 들어 집값을 잡겠다고 대책을 내놓을수록 되레 집값은 달음박질치고 있다.\\', \"오죽하면 \\'정부 대책이 나올 때가 매수 타이밍\\'이라는 소리가 나오겠는가.\", \\'재건축 규제와 분양가상한제 등이 대표적이다.\\', \\'시장 상황을 제대로 읽지 못한 정부가 잘못된 정책을 남발해 집값을 자극하고 있는 것이다.\\', \\'분양가상한제의 경우 시장에서 공급부족 신호로 받아들이며 매수세가 붙고 있다.\\', \\'\\\\\\'세무조사가 뒤따르느냐\\\\\\'는 질문에 \"당연하다\"고 답해 세무조사 가능성까지 언급했다.\\']\\n',\n",
       " '[\\'중국이 미국 로체스터대 이스트먼음대 소속 오케스트라의 한국인 단원 3 명에 대한 입국을 거부해 공연이 취소되는 일이 벌어졌다.\\', \\'이번 사건은 중국의 사드 보복이 얼마나 집요하게 이뤄지고 있는지를 일깨워줬다.\\', \\'2016 년 주한 미군의 사드(고고도 미사일방어체계) 배치에 따른 보복 불똥이 해외 공연계까지 튄 것이다.\\', \"일본에는 과거사 문제를 집요하게 물고늘어지는 정부가 어째서 중국에는 해야 할 말도 제대로 못하는 것인지, 정부가 생각하는 \\'자주외교\\'가 무엇인지 질문이 꼬리를 잇는다.\", \\'사드 보복은 일본 수출 규제에 비해 훨씬 광범위한 분야에서 교묘하고 집요하게 이뤄지고 있다.\\', \\'중국 단체관광객은 급감했고, 일부 면세점은 사업을 포기하기에 이르렀다.\\', \\'한국 게임의 중국 수출은 막혀 있다.\\', \"최근 리커창 총리가 삼성전자 시안 반도체공장을 방문하고, 한·중 국방전략대화가 재개됐음에도 치졸한 \\'사드 보복\\'은 요지부동이다.\", \\'우리 정부의 무력한 대응이 이런 상황을 자초한 것은 아닌지 돌아봐야 한다.\\', \\'롯데는 막대한 피해를 입고 중국 내 유통사업을 철수했다.\\', \\'시진핑 주석이 문재인 대통령과 만난 자리에서 \"해결 방안을 검토하겠다\"고 했지만 말뿐이다.\\', \"k팝과 드라마·영화 등 대중문화에서 시작된 \\'한한령(限韓令)\\'이 순수 예술 및 해외 거주 한국인으로 확대됐다.\", \\'중국 측의 내정 간섭 및 부당한 조치에 엄중 항의했어야 마땅하다.\\', \\'사드 배치는 북한 핵미사일 위협에 대응하기 위한 안보주권의 문제다.\\', \\'주권국가로서 결코 약속해서는 안 될 것들이다.\\', \"하지만 정부는 \\'사드 추가 배치, 미국 미사일방어체계(md) 참여, 한·미·일 군사동맹\\'을 않겠다는 \\'3 불(不)\\'을 중국에 약속했다.\", \\'사드 보복으로 인한 기업들의 피해는 심각하다.\\', \\'중국 군용기가 한국방공식별구역을 휘젓고 다니는 것도 그런 연유에서다.\\', \"이런 한국이 \\'밀면 밀리는 만만한 나라\\'로 여겨지지 않는다면 오히려 그게 이상한 일일 것이다.\"]\\n',\n",
       " '[\"법무부가 다음달 1 일부터 시행하겠다는 \\'형사사건 공개금지 등에 관한 규정\\'이라는 새 훈령에는 시대착오적인 언론 통제 항목을 담고 있어 개탄스럽다.\", \\'검찰 수사와 관련해 오보를 낸 언론사 기자는 출입을 막는다고 한다.\\', \\'민주주의 사회에서 언론의 자유는 어느 것보다 우선해 보장돼야 할 가치다.\\', \\'기준조차 모호한 오보를 빌미로 기자의 출입을 차단하고 브리핑에도 못 오게 하는 과도한 제한은 명백한 언론 통제이기 때문이다.\\', \\'검찰 등 수사기관에 대한 언론의 감시기능이 무력화되면 무리한 수사나 사후 덮어버리기에 대한 견제 부재로 억울한 피해자를 막을 수 없다.\\', \\'\"신문(언론) 없는 정부보다 정부 없는 신문(언론)을 택하겠다\"는 토머스 제퍼슨 전 미국 대통령의 언급을 새겨들어야 한다.\\', \\'하지만 그 안에 숨어 있는 언론 관련 규정은 국민의 알 권리와 정면으로 충돌할 뿐 아니라 언론의 감시 기능을 현저하게 발목 잡을 소지가 다분하다.\\', \\'검찰개혁과 인권보호수사 방안은 사건 관계인의 인권을 보호하고 명예를 존중하라는 것이지 언론의 취재를 제한하라는 것은 아니라고 본다.\\', \\'법무부는 새 규정에 공개 소환을 하지 않고 압수수색, 체포, 구속 과정에서 촬영을 막겠다는 등 대상자의 인권 보호를 내세웠다.\\', \\'언론은 검찰에서 스스로 공개하는 내용 외엔 알기가 어려워지고, 일부 부정확한 보도로 오보 판정을 받으면 취재를 할 수 없게 되는 것이다.\\', \\'또 공보담당이 아닌 검사와 수사관은 언론과 개별 접촉을 일절 금지한다.\\']\\n',\n",
       " '[\"정부가 2030 년까지 대도시권 광역철도망을 2 배로 확충하고 서울·경기도 등 대도시 광역거점 간 통행시간을 30 분대로 단축하는 내용을 담은 \\'광역교통 2030\\' 비전을 발표했다.\", \\'수도권 서부지역에 광역급행철도(gtx)를 추가하고, 서울 강변북로와 올림픽대로 등 주요 간선도로에 대심도 지하도로를 건설하겠다고 한다.\\', \\'서울외곽순환고속도로 상습 정체 구간의 복층화, 제2 외곽순환선 조기 완공, 지하철 3 호선(대화∼운정)·9 호선(강일∼미사) 연장 계획도 포함됐다.\\', \\'천문학적 비용이 소요되지만 광역교통 미래 청사진이다 보니 비용추계, 재원 조달 방안은 담기지 않았다.\\', \\'막대한 예산도 관건이다.\\', \\'앞으로 10 년간 수도권 주요 거점과 서울 도심을 30 분대에 연결한다면 출퇴근시간이 단축되면서 삶의 질도 획기적으로 개선되고, 도시 과밀화를 해소하는 긍정적인 효과도 있을 것이다.\\', \\'gtx a·b·c노선 사업비는 각각 3 조~6 조원으로 추정되는 등 수조 원 단위다.\\', \\'하지만 이 같은 장밋빛 구상이 현실화될지는 미지수다.\\', \\'현재 gtx는 a·b·c 3 개 노선이 추진 중인데 사업 속도가 더디다.\\', \\'게다가 토지 보상이 늦어지면서 첫 삽을 뜬 것은 반년이 지난 6 월 말이었다.\\', \\'정부는 b·c노선 조기 착공을 추진한다는 계획이지만 토지 보상, 지반 침하를 우려하는 주민들의 반대 등 변수가 적지 않아 예정대로 진행될지 불투명하다.\\', \\'종합적인 미래 광역교통 청사진이 제시된 것은 고무적이다.\\', \\'우선 gtx만 해도 갈 길이 멀다.\\', \\'가장 빠른 a노선(삼성~운정)은 예비타당성 조사를 통과한 지 4 년 만인 지난해 말에야 착공식을 했다.\\', \\'a·b·c노선 추진과정을 고려하면 d노선도 상당한 시간이 소요될 것으로 보인다.\\', \\'b·c노선도 계획이 발표된 지 각각 12 년, 7 년 만에 겨우 예비타당성 조사를 통과했다.\\']\\n',\n",
       " '[\\'용인문화재단이 지난해부터 공들여온 용인시립 장애인오케스트라 창단이 수포로 돌아갔다.\\', \\'장애인단체와 시의회까지 나서 시 집행부와 재단을 강하게 비난하고 나섰다.\\', \"재단은 지난 28 일 \\'용인시립 장애인오케스트라 창단 보류\\'라는 입장을 밝히고 장애인오케스트라 창단이 사실상 무산됐음을 인정했다.\", \\'용인시가 전국 최초로 장애인 음악가들을 위해 오케스트라를 창단하겠다는 의도는 좋았다.\\', \\'하지만 의욕만 너무 앞서다 보니 이런 불상사가 발생했다.\\', \\'장애인오케스트라 창단을 졸속으로 추진했다는 이유 때문이다.\\', \\'재단은 용인의 장애인연주자 인적 자원 인프라가 예상보다 부족하다는 결론을 얻고 이같이 결정하게 됐다고 밝혔다.\\', \\'또 재단은 창단 전 장애인 연주자들의 인프라를 충분히 고려하지 않은 채 주먹구구로 사업을 추진하는 등 비난받아 마땅하다.\\', \\'그러나 시는 편법으로 재단을 통해 오케스트라 창단을 추진하려다 좌절된 것이다.\\', \\'재단은 지난해 지자체 최초로 장애인오케스트라를 창단하기 위해 16 억원의 예산을 세워 창단에 들어갔다.\\', \\'예상된 결과였다.\\', \"시는 사업 추진 전 폐지된 \\'용인시 시립예술단 설치 및 운영에 관한 조례\\'를 제정하고 정상적으로 사업을 추진했어야 했다.\", \\'그러나 시립예술단 창단 경험이 없는 재단은 실태 파악도 하지 않은 채 오케스트라 창단을 추진, 난항을 겪게 됐다.\\', \\'우선 시장의 공약사항이라는 이유로 시가 철저한 준비과정 없이 졸속으로 예산 편성 및 사업을 추진한 것이 문제다.\\', \\'재단은 지난 8 월 비상임 단원 38 명을 공개 모집했으나, 응시 인원은 단 1 명에 불과했다.\\', \\'당시 장애인을 대상으로 모집하는 자격 요건의 기준이 다소 높다는 일부 의견이 제기됐다.\\', \\'이에 따라 재단은 10 월에 진행한 2 차 공개 모집에서는 과제 범위를 축소하는 등 지원 요건을 완화해 진행했다.\\', \\'용인 장애인오케스트라 창단이 무산된 데는 시 집행부와 재단의 책임이 크다.\\', \\'상황이 이렇다 보니 결국 재단은 장애인오케스트라 창단을 포기하게 됐다.\\', \\'하지만 또다시 응시인원이 1 명에 그쳤다.\\']\\n',\n",
       " '[\"범죄피해자를 보호하고 지원하기 위해 설치된 \\'범죄피해자보호기금\\'이 정작 피해 당사자들에게 돌아가는 몫은 미미하다고 한다.\", \\'그러나 기금 집행이 이렇다 보니 정작 범죄피해자와 가장 가까이 있는 일선 경찰에는 기금의 1%대만 배정돼 효율적인 보호·지원이 이뤄지지 않고 있는 것이다.\\', \\'기금이 실질적인 피해자 보호·지원보다는 지원법인·기관에 대한 보조금이나 운영비, 기금의 조성·관리·운용을 위한 경비지출 등에 치우쳐 있다는 게 관계 전문가들의 지적이다.\\', \\'그 나머지 범죄에 대한 피해자들은 직접적인 지원 대상에서 사실상 배제돼 있는 게 현실이다.\\', \\'또 절반이 넘는 590 억원이 성폭행 및 아동학대 피해자들에게 쓰였다고 한다.\\', \\'전체 950 억원 중 70%가 법무부의 스마일센터, 검찰청의 범죄피해자센터, 여성가족부의 성폭력피해자 통합지원센터 등 각종 기관 운영비에 쓰였다.\\', \\'여기서도 범죄피해자보호기금이 본래의 목적에서 벗어나 사용되거나 절차상 문제로 매우 비효율적인 측면을 드러내고 있다는 지적이 나왔다.\\', \\'2017 년의 경우 이 기금은 모두 842 억9500 만원이었다.\\', \\'이 중 법무부 42.7%, 여성가족부 34.4%, 보건복지부 21.7% 등으로 배정됐다.\\', \"지난달 30 일 인천경찰청에서는 \\'국민 인권 보호 강화를 위한 바람직한 경찰 개혁 방안\\'을 주제로 학술세미나가 열렸다.\", \\'올해 범죄피해자보호기금의 집행 현황도 마찬가지다.\\', \\'그러나 경찰청에 배정된 예산은 10 억7100 만원(1.2%)에 불과했다.\\', \\'범죄피해자 보호·지원 조치는 피해 발생 초기에 제공되어야 함에도 정작 치안 최일선에는 재원이 내려오지 않는 것이다.\\', \\'중앙부처에 배정된 예산은 대부분은 직접적인 피해 지원보다는 지원·상담기관 운영비로 쓰이는 실정이다.\\', \\'법무부나 여성가족부, 검찰청 등 중앙부처 간 나눠먹기식으로 집행돼 관련 기구의 운영 비용 등에 더 쓰이기 때문이다.\\', \\'이 기금은 범죄피해자보호기금법 제3 조에 따라 범죄피해자를 보호 및 지원하기 위한 자금으로 조성되며, 형사소송법에 따른 전체 벌금의 6%가 이 기금으로 적립된다.\\']\\n',\n",
       " '[\\'환경부의 월권행위와 황당한 제안으로 인한 최대 피해자는 강원도다.\\', \\'21 세기에는 환경보전과 경제발전의 균형을 이뤄 사회 통합과 지속가능성을 확립해 나가야 한다.\\', \\'지금은 우리나라 환경정책이 다시 한번 도약하고 발전해야 하는 매우 중요한 시기다.\\', \\'때문에 환경부는 항상 국민의 입장에서 국민의 참여를 통해 더 많은 환경 혜택을 누릴 수 있도록 하는 역할을 해야 한다.\\', \\'이로 인한 논란이 일고 있다.\\', \\'그 역할을 충분히 해야 할 환경부가 월권으로 국민을 분열시키고 있다면 본말이 전도된 행정행위를 하고 있다고 봐야 한다.\\', \\'올 1 월 환경부는 동서고속철도 전략환경영향평가 보완 결정을 내리면서 동해북부선(강릉~제진) 추진계획과 연계한 우회노선 필요성, 서울~양양고속도로 등 대체 교통수단이 이미 설치된 점, 철도 운영 시 미시령터널 통행량 감소로 인한 터널 운영업체 영업 손실 우려 등을 제기했다.\\', \"둘째, 환경부는 또 올 초 춘천~속초 동서고속철도의 전략환경영향평가에서도 환경과 무관한 \\'통행량\\'을 문제 삼은 바 있다.\", \\'다시 말해 시범사업을 통해 성과의 문제점을 발견한다는 것인데 이마저도 시작하지 말라는 것이 말이 되나.\\', \"시범사업이란 \\'어떤 사업을 본격적으로 추진하기에 앞서 그 결과를 예측하기 위해 시험 삼아 실시하는 사업\\'으로 정의된다.\", \\'몇 가지 사례가 있다.\\', \"우선, 강원도는 오색케이블카 환경영향평가 과정에서 환경부가 본연의 업무와는 전혀 관련이 없는 \\'안전\\' 문제를 지적하며 부동의 결정을 내렸다면서 이는 명백한 \\'월권\\'에 해당한다고 주장하고 있다.\", \\'오색케이블카는 시범사업이다.\\', \\'\"시설 안전대책 보완은 환경영향평가 대상이 아니기 때문에 환경영향평가에서 검토될 사항이 아니다\"라는 것이다.\\', \\'이는 환경부의 자의적 판단이라는 비난이 일고 있기 때문이다.\\', \"이는 설비의 안전을 승인하는 \\'설계안전도 검사\\' 및 \\'특별건설 승인\\' 절차에서 다뤄야 할 사항으로 양양군은 이미 한국교통안전공단의 설계안전도 검사를 승인받았다는 것이 도의 입장이다.\", \\'환경부는 이에 대한 분명한 입장을 내놔야 한다.\\']\\n',\n",
       " '[\\'의견 수렴 없이 박찬주 전 대장 영입하려다 불발… 국민 정서 반하는 잇단 행동으로 당 지지율 도로 제자리 자유한국당이 31 일 내년 4·15 총선에 대비해 외부 영입인사 8 명의 명단을 발표했다.\\', \"청년단체 \\'청사진\\' 백경훈 공동대표, 양금희 여성유권자연맹회장 등 나름 한국당의 약점으로 지적되는 여성과 청년을 배려한 흔적이 엿보이나 참신하거나 중량감 있는 인사가 별로 눈에 띄지 않는다는 게 중론이다.\", \\'특히 황교안 대표가 영입 1 호로 낙점했던 박찬주 전 육군 대장 영입이 당내 반발로 보류됨으로써 모양을 구겼다.\\', \\'초선의 신보라 의원은 \"최근 1~2 주 사이 우리 당이 취한 행동과 결정들이 우리와 함께 일하고 있는 사람들로부터도 공감대를 얻지 못하고 있어 안타깝다\"고 했다.\\', \\'4 선의 신상진 의원은 라디오 방송에 출현해 \"논란 소지가 있는 인물을 굳이 첫 인재영입 명단에 넣었어야 하는가에 아쉬움이 있다. 가랑비에 옷 젖는다고 황 대표의 리더십에 흠이 가지 않을까 (생각한다)\"라고 우려했다.\\', \"패스트트랙 문제만 해도 수사 대상 의원들에게 공천 가산점을 주겠다고 했다가 당 안팎에서 비판여론이 거세자 \\'해당행위\\'라고 말을 바꿨다.\", \\'이번 건을 계기로 황교안 리더십에 의문을 제기하는 당내 목소리가 더 커지고 있다.\\', \\'박 전 대장은 공관병 갑질 혐의로 군복을 벗은 논란의 당사자다.\\', \\'또한 당내 충분한 의견 수렴 절차 없이 박 전 대장 영입을 추진했다 당 이미지를 훼손시킨 역효과를 자초했다.\\', \\'박 전 대장이 꼭 필요한 인재이고, 문재인정부 적폐 청산의 희생양이라면 사법 절차가 모두 끝난 뒤에 영입해도 늦지 않다.\\', \\'대표가 당내 의견을 제대로 수렴하지 않는 것은 물론 중심을 못 잡고 왔다갔다한다는 지적이다.\\', \\'그것이 국민 눈높이에도 맞고 보수의 가치에도 부합한다.\\', \\'비록 갑질 혐의에 대해서는 검찰의 불기소 처분이 내려졌지만 뇌물수수, 부정청탁금지법 위반 혐의에 대한 재판은 현재진행형이다.\\']\\n',\n",
       " '[\\'삼성전자가 1 일 창립 50 주년을 맞았다.\\', \\'한국 경제를 이끌 미래의 성장 동력을 발굴하는 게 급선무다.\\', \\'인공지능(ai) 등 4 차 산업혁명 시대에 요구되는 혁신 역량으로 무장하지 않으면 안 된다.\\', \\'1969 년 흑백tv를 만드는 삼성전자공업으로 출발한 삼성전자는 80 년대부터 반도체 역사를 새로 쓰기 시작한 뒤 90 년대에 d램 신화, 애니콜 신화를 탄생시키며 대한민국 최대 기업으로 변모했다.\\', \\'세계적 기업들과의 치열한 경쟁에서 이기려면 위기의식을 갖고 좀 더 분발해야 한다.\\', \\'이들의 창의적 발상과 끝없는 도전정신, 결단력이 있었기에 가능했다.\\', \\'우선 이재용 부회장이 최순실 국정농단 사건의 파기환송심을 받고 있는데다 삼성바이오로직스 분식회계 사건 등으로 경영 리더십의 불확실성이 크다.\\', \\'31 일 공시한 3 분기 실적도 전체적으로 선방한 측면이 있지만 반도체 사업 부진으로 썩 만족스럽지 못하다.\\', \\'삼성전자 앞에 놓인 과제는 만만치 않다.\\', \\'그리고 그 바탕에는 반백 년의 세월 동안 수고를 아끼지 않은 삼성전자 근로자들의 헌신이 있었다.\\', \\'반도체 사업 진출을 발표한 창업주 이병철 선대회장의 \\\\\\'도쿄 선언\\\\\\'(83 년)과 \"마누라와 자식만 빼고 다 바꾸라\"며 신경영을 외친 이건희 회장의 \\\\\\'프랑크푸르트 선언\\\\\\'(93 년)은 삼성전자의 세계적 도약에 초석이 됐다.\\', \\'삼성전자가 처한 환경이 녹록지 않기 때문이다.\\', \\'3 분기 영업이익은 7 조7800 억원으로 전분기에 비해 반등했으나 전년 동기 대비로는 55.7%나 감소했다.\\', \\'글로벌 경기 침체로 정보기술(it) 업황도 좋지 못해 떠들썩한 잔치를 할 상황이 아니다.\\', \\'창립 첫해 종업원 36 명, 매출액 3700 만원에서 2018 년 기준 임직원 10 만여명, 매출액 244 조원으로 괄목할 만한 성장을 일궜다.\\', \\'현재 시가총액 300 조원, 브랜드 가치 611 억 달러(약 71 조원)를 자랑하는 글로벌 초일류 기업으로 자리매김했다.\\']\\n',\n",
       " '[\"법무부가 30 일 \\'형사사건 공개금지 등에 관한 규정\\'을 제정해 12 월 1 일부터 시행하겠다고 밝혔다.\", \\'훈령은 인권보호에 초점을 맞춘 나머지 국민의 알권리는 소홀히 취급된 측면이 있다.\\', \\'정치인, 고위 공직자, 주요 경제인 등 국민적 관심이 큰 공적 인물에 대한 수사 정보 공개까지 엄격히 제한하는 것에 대해서는 논란이 있을 수 있다.\\', \\'대검찰청은 부정적인 의견을 제시했는데도 무시됐다.\\', \"\\'사건 관계인이나 검사 또는 수사 업무 종사자의 명예, 사생활 등 인권을 침해하는 오보를 한 기자는 검찰청 출입을 제한할 수 있다\\'는 내용이 특히 문제다.\", \\'기존 수사공보준칙을 대체하게 될 이 훈령은 기소 전에는 혐의사실, 수사상황, 피의자 실명 등의 공개를 원칙적으로 금지하고 있다.\\', \\'자칫 법무부나 검찰이 자의적 해석을 통해 특정 언론이나 기자의 취재를 원천 차단하는 데 악용할 가능성이 있다.\\', \\'피의자에 대한 예단을 유도하고 망신을 주거나 수사에 유리한 환경을 조성하기 위해 피의사실을 흘리는 수사 방식은 개선해야 마땅하다.\\', \"한국기자협회는 \\'언론 통제 시도를 즉각 중단하라\\'는 내용의 성명을 내는 등 언론도 강력 반발하고 있다.\", \\'민감한 사안을 충분한 의견 수렴을 거치지 않고 밀어붙이는 것이 더 큰 문제다.\\', \\'피의자나 사건 관계인 등의 인권을 침해한다는 지적을 받아온 피의사실 공표를 통제하기 위한 장치를 마련한 것은 바람직한 방향이다.\\', \\'훈령에는 오보나 인권 침해의 기준이 무엇인지 명확하게 적시돼 있지 않다.\\', \\'하지만 새 훈령에는 언론의 자유와 국민의 알권리를 지나치게 제한하는 내용들이 포함돼 있어 유감이다.\\', \\'법무부는 관계 기관의 의견을 수렴했다고 했지만 대한변호사협회는 \"법무부에 의견을 보낸 적이 없다\"고 부인했다.\\', \\'언론중재위원회를 통한 기사 정정 등의 구제 절차가 있는데도 이런 규정을 둔 것은 과도한 언론통제다.\\', \"\\'오보가 실제로 존재하거나 발생할 것이 명백한 경우\\'나 민간위원이 과반인 공개심의위원회 심의를 거쳐 예외적으로 수사상황을 공개할 수 있는 길을 열어뒀지만 대체로 피의사실 공표를 엄격히 제한하는 내용이다.\"]\\n',\n",
       " '[\\'북한이 31 일 오후 동해상으로 탄도미사일 추정 발사체 2 발을 발사했다.\\', \\'그러나 이 같은 도발로 북한이 얻을 수 있는 것은 없다.\\', \\'북한은 한미 양국에 체제안전 보장을 거듭 촉구하려는 의도이겠지만, 무력시위를 포함한 도발로는 아무 것도 얻을 수 없음을 분명히 알아야 한다.\\', \\'김 위원장이 연말 시한을 언급했던 만큼 북한으로서도 조급해질 수 있는 상황이다.\\', \\'최근 2 인자 김영철 노동당 부위원장까지 나서서 미국에 체제 안전보장을 거듭 촉구했지만, 도널드 트럼프 대통령에 대한 탄핵 논란이 가열되고 있는 미국이 만족할 만한 답을 주지 않고 있기 때문이다.\\', \\'하지만 북한은 친서 형식의 조의문을 보낸 바로 다음날 무력시위를 감행함으로써 당분간은 남북 간 경색을 풀 뜻이 없음을 분명히 했다.\\', \\'일본 방위성은 이들 발사체를 탄도미사일로 추정했다.\\', \\'사실 어제 오전까지만 해도 남북관계 개선에 대한 기대감이 조금은 살아나는 듯했다.\\', \\'김정은 북한 국무위원장이 문재인 대통령의 모친상에 조의문을 보내온 이튿날이자 올해 들어 12 번째 무력시위다.\\', \\'북한의 이번 도발은 우리 뿐만 아니라 미국에 보내는 메시지의 성격도 커 보인다.\\', \"북한의 무력시위는 스톡홀름 북미 실무협상을 목전에 두고 동해상에서 잠수함발사탄도미사일(slbm) \\'북극성-3 형\\'을 발사한 지 29 일만이다.\", \\'한미 군 당국은 북한의 발사체가 육상에서 해상으로 발사된 점으로 미뤄 신형 전술지대지미사일일 가능성을 염두에 두고 있다.\\', \\'북미 스톡홀름 실무협상이 빈 손으로 끝나고 미국 내 탄핵 논란이 커지면서 북한의 추가 도발이 점쳐지긴 했다.\\']\\n',\n",
       " '[\\'자유한국당이 31 일 내년 총선을 겨냥한 1 차 영입 인사 8 명을 선보였다.\\', \"자유한국당 황교안 대표와 나경원 원내대표가 31 일 국회에서 열린 \\'제1 차 영입 인재 환영식\\'에서 박수를 치고 있다.\", \\'여당은 초선 의원 2 명이 불출마를 선언하고 자체 평가 하위 20% 현역 의원을 배제키로 하는 등 물갈이에 나서고 있다.\\', \\'이날 영입된 인사들은 한국당을 지지해 온 반문(反文) 성향이 대부분이다.\\', \\'하지만 이번 인재 영입만 해도 소수 측근과 상의해 독단적으로 결정하는 바람에 최고위원들의 심한 반발을 샀다.\\', \"\\'공관병 갑질\\' 이력과 지방선거 출마 배우자 지지 문자메시지 발송 사건이 문제가 됐다.\", \\'황 대표는 입버릇처럼 \"저를 내려놓겠다. 죽기를 각오하고 앞장서겠다\"는 말을 반복해 왔다.\\', \"전북대 총학생회장 출신인 백경훈 \\'청년이 여는 미래\\' 공동대표는 조국 전 법무부 장관 임명에 반대하는 한국당 집회에 연사로 참여했고, 이진숙 전 대전mbc 사장은 기자 해직 등 노조 탄압에 앞장섰던 김재철 전 mbc 사장의 최측근이다.\", \\'윤창현 서울시립대 교수는 한국당이 워크숍 때마다 초청하는 단골 강사이고, 김성원 전 두산중공업 부사장은 문재인 정부의 탈원전 정책을 강하게 비판해 왔다.\\', \\'한국당 내부에서도 \"인재 영입 기준을 당 지도부가 아닌 국민 눈높이에 맞춰야 한다\"는 지적이 나온다.\\', \\'이번 인재 영입은 황교안 대표의 첫 작품이다.\\', \\'다양한 분야의 인물을 아우르려는 노력은 엿보이나 구태와 단절하고 변화와 혁신을 선도할 참신성이나 세대교체 의지는 약해 보인다는 게 대체적인 평가다.\\', \\'결국 현 정부에 비판적인 한국당 지지자 위주로 영입이 이뤄져 당의 외연 확장 및 인적 쇄신과는 거리가 멀어졌다.\\', \\'당초 영입 리스트에는 이국종 아주대병원 교수, 메이저리그 출신 박찬호 선수 등이 올랐으나 모두 고사했다고 한다.\\', \\'당초 영입 대상으로 거론됐던 박찬주 전 육군대장과 안병길 전 부산일보 사장은 제외됐다.\\']\\n',\n",
       " '[\\'법무부는 전날 \\\\\\'사건관계인, 검사, 수사업무 종사자의 명예, 사생활 등 인권을 침해하는 오보를 한 기자 등 언론 종사자에 대해서는 검찰청 출입제한 조치를 취할 수 있다\\\\\\'는 내용의 새 공보기준을 발표했다가 논란이 커지자 31 일 기자들에게 문자메시지를 통해 \"의무사항이 아니라 재량사항\"이라고 해명했다.\\', \"법무부가 12 월 1 일부터 시행키로 한 \\'형사사건 공개금지 등에 관한 규정\\'이 논란이다.\", \"특히 \\'오보\\'를 한 기자에 대해 검찰청 출입을 제한하겠다는 규정은 검찰이 언론을 통제하는 빌미가 될 수 있다.\", \\'무분별한 피의사실 공표를 막기 위해 마련된 이 훈령에 따르면 사건 피의자 공개소환과 포토라인이 폐지된다.\\', \\'31 일 오후 서울 서초구 대검찰청 기자실에서 출입기자들이 기사를 작성하고 있다.\\', \\'검찰에 대한 취재를 극도로 제한하면 권력형 비리 등 국민적 관심이 큰 수사가 제대로 진행되는지, 수사 과정에 인권 침해 행위는 없는지, 검찰이 내부 비리를 유야무야한건 아닌지 언론이 감시할 기회가 크게 제약받게 된다.\\', \\'공인에게도 공개소환 금지를 적용하는 것이 타당한지에 대해서는 시비가 엇갈린다.\\', \\'기소 전 수사정보 공개는 오보가 있거나 동종 범죄 발생 가능성이 있을 경우에 한해 형사사건공개심의위원회를 거쳐야 가능하다.\\', \\'기소된 사건도 관계인의 사생활과 진술, 수사 방법 등은 공개하지 않는다.\\', \\'수사 과정의 피의사실 공표는 법정에서 유무죄를 다투고 법원의 판단이 내려지기도 전에 피의자에게 범죄자 낙인을 찍어 인권을 침해한다는 지적이 계속 제기돼왔다.\\', \\'검찰이 자신들에게 유리한 수사 정보를 언론에 흘려 여론재판 분위기를 주도하는 행태를 막으려면 정보 공개도 제한할 필요가 있다.\\', \\'사건 관련 구두 브리핑도 공보자료가 나올 때 자료 범위 내에서만 허용된다.\\', \\'문제는 이런 규제를 통한 피의자 인권 보호가 언론 자유나 국민의 알권리와 동전의 양면이라는 점이다.\\', \\'기존 검찰 공보준칙에 공개소환, 포토라인 금지 규정이 있었지만 유야무야했던 게 사실이어서 공인까지 포함해 엄격히 적용하려는 취지를 납득 못할 건 아니다.\\']\\n',\n",
       " '[\"법무부가 그제 \\'형사사건 공개금지 등에 관한 규정\\' 훈령을 내놓았다.\", \\'사건 관계인의 인권보호를 위해 검찰 수사 상황을 전면 비공개하고, 오보 언론에 대한 처벌적 수단을 마련하겠다는 게 그 골자다.\\', \"그러나 새 훈령이 \\'국민의 알 권리\\'를 현저하게 침해할 것이라는 게 문제다.\", \\'그중에서 비효율적이거나 비민주적인 요소는 없는지 되새겨봐야 한다.\\', \"법무부와 검찰은 그동안 \\'조국 사태\\' 수사가 진행되는 과정에서 여러 혁신안을 내놓았다.\", \\'어째서 이처럼 조 전 장관 일가족 수사와 맞물려 계속 비슷한 일들이 벌어지는지 납득할 수 없다.\\', \\'법무부는 정씨의 소환 직전에도 공보규칙을 바꿔 비공개 출석이 이뤄지도록 했다.\\', \\'이 훈령대로라면 취재기자는 검사·수사관 등 검찰 관계자와 일절 접촉할 수 없다.\\', \"이를테면, 취재를 봉쇄해 놓고 \\'불러주는 대로 받아쓰기\\'나 하라는 식이다.\", \\'그러고도 오보를 내면 해당 기자들에 대해 검찰청 출입을 금지시키겠다는 발상 자체가 독선적이다.\\', \\'조 전 장관의 부인 정경심씨는 현재 구속수감 상태이며, 조 전 장관도 조만간 소환을 앞두고 있다.\\', \\'더구나 오보인지 여부를 누가 판단하는지, 오보의 기준이 무엇인지 구체적인 기준도 없다.\\', \"정부에 불리한 기사에 있어 내용 일부가 부정확한 경우 그것을 빌미 삼아 \\'오보\\' 딱지를 붙이겠다는 심산이다.\", \\'검찰 개혁과 인권 존중을 명분으로 내세운 이 훈령의 주요 수혜자가 조국 전 법무장관 일가족이 될 것이라는 점에서부터 해명이 필요하다.\\', \\'규정을 시행하는 방법도 자의적이라는 비판에서 비켜가기 어렵다.\\', \\'훈령이기 때문에 입법예고 절차 없이 당장 오늘부터 예비적으로 적용되고 12 월부터는 본격 시행된다.\\', \\'과거 독재정권이 언론에 재갈을 물리던 수법이나 마찬가지다.\\', \"5 공화국 시절 악명 높았던 \\'보도지침\\'을 떠올리게 되는 이유다.\", \"그동안 검찰이 비난을 받았던 \\'피의사실 흘리기\\'나 \\'망신주기식 수사\\'를 근절하려는 개혁 조치라는 법무부 설명은 군색하다.\"]\\n',\n",
       " '[\\'중국의 사드 보복 논란이 여전하다.\\', \\'오히려 해외거주 한국인들에게도 조치가 적용되고 있다니 중국의 집요한 일면을 확인하게 된다.\\', \\'하지만 아직 중국 방문객들이 기대에 미치지 못해 중소·중견 면세점들이 문을 닫아야 하는 지경에 이르렀으며, 우리 게임산업은 중국에서 차별대우를 면치 못하고 있다.\\', \\'더구나 이번 이스트먼 음대 오케스트라의 경우 미·중 간의 무역갈등이 꼬투리로 추가됐을 가능성도 없지는 않다.\\', \\'중국 당국이 현지에 진출한 우리 일부 기업에 대해 유화적인 손짓을 보여주는 것도 사실이다.\\', \\'이 음대의 자말 로시 학장이 \"중국 측 파트너가 \\\\\\'한국인 단원은 비자를 받을 수 없다\\\\\\'고 알려왔다\"면서 \"미국이 한국에 배치한 사드와 관련이 있다\"고 밝힌 데서도 그대로 드러난다.\\', \\'하지만 대행사를 중심으로 돌아가는 분위기만큼은 충분히 짐작된다.\\', \\'최근 들어 유커(遊客)들의 한국 방문이 점차 늘어나면서 한한령이 완화됐다는 관측도 없지는 않다.\\', \\'이런 사태가 사드와 관련이 있다는 것은 단순한 추측이 아니다.\\', \\'중국이 대중문화와 클래식을 포함한 공연 분야에서도 거대 시장으로 자리 잡으면서 사드 배치를 핑계 삼아 우리 예술·문화인들의 활동을 노골적으로 단속하고 있는 것이다.\\', \"한국인 단원 3 명이 포함된 미국 로체스터대 이스트먼 음대 오케스트라가 중국 공연을 계획했다가 \\'한한령\\'(限韓令)으로 인해 공연을 포기한 경우가 그것이다.\", \\'물론 공연 관계자들에 대한 비자발급 신청이 정식으로 이뤄지지 않은 상황에서 논란이 야기됐다는 점에서 중국 정부의 의도를 넘겨짚기는 어렵다.\\', \\'2016 년 사드 배치와 관련한 보복조치가 계속 유지되고 있기 때문이다.\\', \\'실제로 중국 내에서 우리 예술·문화계 인사들의 활동은 거의 막혀 버린 상태다.\\', \\'이 오케스트라는 오는 12 월 30 일부터 열흘 동안 상하이·항저우·선양 등 중국 8 개 도시에서 순회공연을 할 계획이었으나 한국인 단원에 대한 비자 문제가 대두되면서 공연을 철회키로 결정했다.\\']\\n',\n",
       " '[\\'삼성전자가 11 월 1 일 창립 50 주년을 맞았다.\\', \\'1969 년 종업원 36 명으로 출범해 겨우 3700 만 원의 매출을 올렸던 삼성전자의 현재 국내 본사 인력만 10 만여 명, 글로벌 고용은 30 만 명을 넘는다.\\', \\'한국 경제의 가장 큰 자산이자 버팀목이다.\\', \\'전체 법인세수 54 조 원의 18%에 달한다.\\', \\'주식시장 시가총액 비중도 20%를 넘나든다.\\', \\'그러나 삼성은 지금 어느 때보다 큰 시련과 위기에 직면해 있다.\\', \\'올 상반기 법인세만 9 조5449 억 원을 냈다.\\', \"도약의 첫 계기는 이병철 선대 회장의 1983 년 \\'도쿄 선언\\'을 통한 반도체사업 진출이었다.\", \\'제조업 전체 매출의 10% 이상을 떠맡고, 수출의 20%를 차지한다.\\', \"이후 이건희 회장이 1993 년 \\'프랑크푸르트 선언\\'으로 \\'신경영\\' 시대를 열었다.\", \\'미국과 일본에 이은 세 번째 반도체 생산국에의 도전이 오늘날 초(超)격차 기술로 글로벌시장에서 독보적 위상을 굳힌 출발점이었다.\\', \\'삼성이 우리나라 수출과 투자, 고용, 부가가치 생산 등에서 차지하는 비중은 절대적이다.\\', \\'삼성전자를 빼놓고 한국 경제를 말할 수 없다.\\', \\'지금 삼성이 메모리반도체와 스마트폰, 디스플레이, tv 등 가전에서 세계 1 위의 종합전자업체로 우뚝 선 것이 그 성과다.\\', \\'양(量)에서 질(質)로의 혁신이었다.\\', \\'강력한 오너십의 빠른 의사결정, 과감하고 지속적인 투자, 제품과 서비스의 세계화 전략으로 다각화와 전문화를 동시에 달성하는 시너지를 창출했다.\\', \\'삼성경영의 모델인 혁신dna다.\\', \\'삼성의 성공을 일군 원동력은 항상 절박한 위기의식으로 무장한 끊임없는 혁신이었다.\\', \\'국내 최대 기업을 넘어 세계 최고의 제조업체다.\\', \\'매출은 234 조7700 억 원(2018 년)으로 635 만 배 늘었다.\\', \\'삼성의 반세기 성장사는 신화(神話)다.\\', \\'처음 일본의 3 류 전자업체 산요(三洋電氣)로부터 어렵게 기술을 배워와 싸구려 흑백tv를 만들어 수출했다.\\']\\n',\n",
       " '[\\'영주시와 코레일 경북본부는 풍기인삼시장과 풍기역 등지에 홍보센터와 문화광장, 홍보조형물, 객차 휴게실 조성 등 문화관광형 전통시장 육성사업을 추진해왔다.\\', \\'그중에서 6 억7 천만원을 투입해 풍기역 내에 조성한 학생 체험학습용 객차 등을 오랫동안 관리하지 않고 방치하는 바람에 흉물로 전락했다고 한다.\\', \\'더구나 이곳이 청소년들의 탈선 장소가 되고 있다니 기가 막힐 일이다.\\', \\'그런 측면에서 보더라도 영주시와 코레일의 무턱댄 추진과 무개념 사후 관리 문화관광사업은 납득이 가지 않는다.\\', \\'농촌 공동화로 본래의 역할을 내려놓고 있는 간이역조차 정서적·문화적 공간으로 부활하며 많은 도시민들의 발길을 이끌고 있는 사례가 많다.\\', \\'본지 기자가 확인한 결과, 객차를 조성한 이래 5 년에 이르는 기간 동안 이용한 관광객이 1 천800 명에 불과했다.\\', \\'우리 기간 산업과 생활문화 변천의 출입구였던 기차역은 경제적 가치로만 재단할 수 없다.\\', \\'풍기역 객차 조성도 그런 배경에서 시작되었을 것이다.\\', \\'인근에 풍기인삼전통시장이 있고 소백산과 부석사 등이 머잖아 관광 수요가 제법 있는 역이다.\\', \\'페인트가 벗겨지고 녹이 슬어 흉물스럽기까지 한 상태라고 한다.\\', \\'더구나 2016 년 7 월 이후에는 국토교통부가 화재 등 안전 및 용도 적법성에 문제가 있다며 운영 중단 조치를 내린 상태였다.\\', \\'문화관광사업이란 면밀한 타당성 조사와 수요 예측에 따른 선택과 집중 전략이 필요하다.\\', \\'그렇게 방치된 숙박 체험용 게스트하우스(선비객차)와 증기기관차, 쉼터 등 시설물은 몰골이 말이 아니다.\\', \\'주민들도 \"많은 예산을 들여 만든 관광체험용 시설을 내버려 둔 것은 이해할 수 없다\"며 \"수리해서 제대로 사용하든지 다른 장소로 옮기든지 해야 한다\"고 목소리를 높이고 있다.\\', \\'중앙선 기차역인 풍기역은 일제강점기에 비롯된 오래된 역으로 인삼의 고장 풍기를 상징한다.\\']\\n',\n",
       " '[\\'내년 4 월 국회의원 선거를 겨냥한 정부와 더불어민주당, 여당 소속 단체장의 선심성 선물 보따리 공세가 기승을 부리고 있다.\\', \\'현금을 나눠주는 식의 예산 집행, 지역 민원 해결을 빙자한 사업 추진으로 나라 곳간이 비고 국가 채무 증가로 미래 세대에 부담을 지우는 등 폐해가 우려된다.\\', \\'정부 예산안 심의와 사업 심사 과정에서 면밀한 검증 작업이 이뤄져 국민 혈세가 낭비되는 것을 원천 차단해야 한다.\\', \\'정권은 유한하지만 국가는 무한한 존재이기 때문이다.\\', \\'정부와 민주당은 확장재정이 필수적이라고 강변하고 있지만 야당에선 일자리·복지예산 등을 들어 총선을 염두에 둔 선심성 예산으로 규정하고 있다.\\', \\'조국 사태와 경제 위기 등으로 민주당 지지율이 급락함에 따라 총선을 겨냥한 선심성 예산 집행 및 사업 추진이 더 심해질 개연성이 크다.\\', \\'사업 추진을 위한 첫 관문인 예비타당성 조사를 통과하지 못한 사업이 부지기수인 데다 지역 민원이 대거 포함돼 총선을 겨냥한 선물 보따리가 아니냐는 것이다.\\', \\'사상 처음으로 500 조원을 넘은 513 조5 천억원 규모의 내년 정부 예산안이 총선용이란 비판부터 나온다.\\', \\'지지 기반을 확보하기 위한 목적으로 세금을 허투루 쓰고 효과를 기대하기 어려운 사업을 무리하게 추진하면 나라 살림이 거덜날 수밖에 없다.\\', \\'총선이 있는 내년엔 기초연금과 아동수당 대상이 확대되고 국민취업지원과 청년저축계좌지원, 고령자계속고용장려금제도 등이 새로 도입돼 현금을 나눠주는 복지가 더 확산할 것으로 예측되고 있다.\\', \\'민주당 소속인 박원순 서울시장은 미취업 청년에게 6 개월간 50 만원씩 주는 청년수당 지급 대상을 올해 6 천600 여 명에서 내년에는 3 만 명으로 늘려 3 년간 모두 10 만 명에게 주겠다고 밝혔다.\\', \"수도권을 비롯한 5 개 대도시 접근성을 개선하기 위해 철도·도로망을 확충하는 국토교통부의 \\'광역교통비전 2030\\' 역시 총선용이란 의심을 사고 있다.\", \\'정부가 현금으로 지급한 선심성 복지 예산이 2017 년 22 조원에서 지난해 28 조2 천억원, 올해 40 조5 천600 억원으로 급증했다.\\']\\n',\n",
       " '[\"법무부가 지난달 30 일 발표한 \\'형사사건 공개 금지 등에 관한 규정\\'이란 훈령은 시대착오적 독재 회귀라고 해도 지나치지 않다.\", \\'뭐가 두려워 이렇게 언론의 입을 틀어막으려는지 참으로 궁금하다.\\', \\'이런 의심은 그렇게 하지 않으면 안 될 만큼 조 전 장관, 나아가 현 정권 핵심부의 치부가 심각할 것이란 또 다른 의심을 낳는다.\\', \\'과거 권위주의 정권도 시도하지 못했던 언론 통제가 목적이니 그렇다.\\', \\'조국 전 법무부 장관의 검찰 소환이 임박한 것을 감안하면 시행 시기를 이렇게 잡은 것은 조 전 장관을 첫 수혜자로 만들려는 계산이란 의심을 떨칠 수 없다.\\', \\'훈령은 이달을 준비 기간으로 해 다음 달 1 일부터 시행된다.\\', \"\\'훈령\\'은 처음부터 끝까지 독소조항으로 채워져 있다.\", \\'북한 기자들이나 그렇게 한다.\\', \\'심각한 오보(誤報)를 낸 기자의 검찰청 출입 제한부터 그렇다.\\', \\'언론을 정부 홍보기구로 격하시키는 반민주적 발상이다.\\', \"법무부가 \\'심각한 오보\\'라고 찍으면 그만이란 얘기다.\", \"\\'심각한\\'이 어떤 정도인지, 오보의 기준은 무엇인지, 그리고 오보 여부를 누가 판단하는지가 전혀 제시되지 않았다.\", \\'국내외 독재정권들이 연명(延命)을 위해 몸부림칠 때 보여준 말기적 증상을 보는 듯하다.\\', \\'이 나라에서 그 누구도, 심지어 대통령도 이런 절차를 거치지 않고 언론 보도의 당사자가 오보 판정을 내릴 권한이 없다.\\', \\'오보인지 아닌지는 언론중재위원회나 명예훼손 소송 등 제도적·법적 절차를 거쳐야 확정된다.\\', \\'기자가 검사·수사관 등을 일체 만날 수 없고 공보 담당자를 통해 공보자료만 보도록 한 것도 마찬가지다. 한마디로 취재하는 기자가 아니라 적어준 대로 옮기는 필경사가 되라는 것이다.\\', \"민주화로 가는 데 큰 이정표를 세운 \\'박종철 고문치사 사건\\' 보도가 바로 그렇지 않았나.\", \\'누가 그런 권한을 줬나?\\', \"\\'훈령\\'은 그렇게 하겠다는 소리다.\", \"오보 딱지를 붙였지만, 나중에 \\'진실 보도\\'로 드러나면 어떻게 하나?\"]\\n',\n",
       " '[\"법무부가 지난달 30 일 자체 훈령으로 \\'형사사건 공개금지 등에 관한 규정\\'을 제정해 12 월1 일부터 시행한다고 발표했다.\", \\'게다가 법무부는 언론 의견 수렴 과정에서는 해당 조항을 제대로 알리지 않아 일방적 추진이라는 지적도 제기되고 있다.\\', \\'오보라고 판단하는 주체, 오보로 볼 수 있는 근거, 오보의 의도성 여부에 대한 판단 등에서 매우 복잡한 문제가 얽혀있다.\\', \\'이 규정은 인권보호 수사규칙과 함께 문재인 대통령이 10 월 중으로 제정하겠다고 공언한 검찰개혁 방안이다.\\', \\'언론학회 한 전문가는 \"오보는 정보 접근이 어려운 상황, 한정된 취재원, 시간적 제약으로 생기곤 한다. 저널리즘의 역사에서 피할 수 없는 현상이었다\"며 \"국가 기관이 스스로 가이드라인을 정하는 것은 말이 안 된다\"고 말했다.\\', \\'오보로 인해 사건관계인이나 검사, 수사업무 종사자의 명예, 사생활 등 인권을 침해할 경우 출입을 막겠다는 것이다.\\', \\'특히 더 큰 문제는 훈령의 절차와 내용 측면에서 수사 기관에 대한 언론의 감시 기능 무력화에 대한 우려이다.\\', \\'오보에 대한 명확한 기준이 없는 데다 이를 규정하기도 쉽지 않다는 점도 문제이다.\\', \\'이때문에 검찰에 불편한 기사를 쓸 경우 자의적인 해석을 내릴 가능성도 배제할 수 없다.\\', \\'그런데 이 훈령은 언론사가 오보가 아니라는 점을 궁극적으로 수사기관에 밝히도록 강요하고 있다.\\', \\'오보를 의도적으로 하는 기자는 사실상 없다.\\', \\'문제는 훈령에는 오보 언론에 대한 처벌적 수단을 마련하겠다는 내용이 포함됐다는 점이다.\\', \\'그러나 이 훈령은 조국 전 법무부 장관 일가 수사에 대한 언론 보도에 여당이 불만을 강하게 표출하면서 나온 것이어서 진정성을 의심하는 목소리도 작지 않다.\\', \\'법무부 훈령에 따르면 오보 여부 판단의 주체를 기자단이 참여하는 위원회 등도 아닌 검찰총장과 검찰청의 장으로 규정하고 있다.\\', \"언론은 \\'취재원 보호\\'가 생명이다.\", \\'이는 권력감시가 주 업무인 언론에 재갈을 물리는 것에 다름없다.\\', \\'대통령령인 인권보호 수사규칙과 달리 법무부 훈령이어서 별도 입법절차가 필요 없다.\\']\\n',\n",
       " \"['과거 농어촌지역 교육·문화의 산실역할을 했던 초·중·고교들이 하나 둘씩 통폐합되거나 문을 닫으면서 폐교문제가 현안이 된 지 오래다.', '장기간 사용하지 않고 버려진 폐교는 미관상 나쁜 인상을 줄 뿐 아니라, 마냥 버려둘 수도 없어 교육청의 유지관리비만 축내고 있다.', '지자체가 폐교 부지를 구입해서 공동주택을 만들고 출향인에게 실비로 분양을 하면 농어촌 인구소멸을 막는데 큰 기여를 할 것이다.', '출향인사들을 만나보면 상당수가 귀향을 하고 싶지만 주거문제 때문에 포기하는 경우가 많다.', '전국적인 현상이긴 하지만 과거 웅도였던 경북지역은 유독 폐교가 많아 교육당국이 애를 먹고 있다.', '지방자치단체가 폐교를 이용한 귀농·귀촌정책을 추진할 때 초점을 출향인사에게 맞출 것을 권하고 싶다.', '정부도 2012 년부터 폐교가 있는 지역주민이 공동으로 폐교를 사용하려면 무상으로 빌릴 수 있도록 해 농촌지역의 공동화를 막고 적극적으로 폐교를 활용할 수 있는 길을 열어 두었다.', '경북도교육청 발표에 의하면, 학교 통폐합이 시작된 1987 년 이후 현재까지 경북지역 전체 폐교 수는 726 곳에 이른다.', '교육계에서는 폐교재산의 활용과 관련한 법률이 특별법으로 정해져 있지만 오히려 폐교방치를 초래하고 있는 원인이 되는 것으로 판단하고 있다.', '영천·김천·경주·의성 등에 있는 65 곳은 활용방안을 찾지 못해 10 년 이상 장기 방치되고 있어 국회 국정감사에서도 지적을 받았다.', '그래서 대부분 농어촌지역 폐교는 문화시설, 체험학습장, 수련원, 캠핑장, 박물관 등으로 조성돼 있지만 근본적으로 찾는 사람이 없어 성공사례는 찾아보기 힘들다.', '전국 17 개 시·도교육청 가운데 가장 많은 수치다.', '교육당국은 경북도내 대부분 지방자치단체가 인구유입을 위해 귀농·귀촌 정책을 활발하게 추진하고 있는 점을 감안해서 앞으로 지자체를 상대로 폐교 매각을 활발히 추진해 나가겠다고 밝히고 있는데 좋은 방향이라고 생각한다.', '특별법에 의해 폐교는 교육용 시설, 사회복지시설, 문화시설, 공공체육시설로만 활용하도록 제한돼 있다.', '이 중 475 곳은 민간이나 공공기관에 팔렸지만, 나머지 251 곳은 도교육청이 보유 중이다.']\\n\",\n",
       " '[\\'정부가 오는 2030 년까지 서울∼경기도 등 대도시 광역거점 간 통행시간을 30 분대로 단축한다는 청사진을 선포했다.\\', \\'기존에 수립된 철도나 도로기본계획 등에 포함된 사업들의 착공시기가 무한정 미뤄졌다는 점을 감안하면 이번 대도시권 광역교통대책 사업들에 대해서는 재원 확보와 사업추진 절차를 앞당겨 속도를 높여야 한다.\\', \"국토교통부 대도시권광역교통위원회는 어제 이 같은 내용의 \\'광역교통 2030\\' 비전을 발표했다.\", \\'교통시설이 지역발전과 가장 관련이 크다 보니 상대적으로 교통시설이 열악한 지역 간 갈등은 심화될 수 있어 이에 대한 해소책도 해결 과제다.\\', \\'가장 중요한 건 실행력 확보다.\\', \\'이를 위해 수도권 서부지역에 광역급행철도(gtx)를 추가하는 등 대도시권 광역철도망을 2 배로 확충하고, 서울 강변북로나 올림픽대로 등에는 대심도 지하도로를 뚫는 방안이 본격 검토된다.\\', \\'수도권 광역교통망 체계 개선이 시너지 효과를 내기 위해서는 지역광역도시들의 교통난 해소 대책을 같이 마련할 필요가 있다.\\', \\'gtx-d 노선을 제외하고는 그동안에 정부가 발표한 교통 대책과 지자체가 건의했던 내용들을 집대성한 것에 불과하다는 지적도 있다.\\', \\'대부분 지역 숙원사업으로 내년 총선에서 핵심 이슈가 될 사업들이다.\\', \\'수도권 광역교통체계 개선을 철도 중심으로 잡은 방향은 맞다고 본다.\\', \\'또한 이번에 수혜 대상에서 벗어난 지역의 경우도 신설되는 철도나 도로, 신교통체계에의 접근성 강화 대책을 조속히 마련해야 한다.\\', \\'특히 교통사업 가운데는 사업추진 첫 관문인 예비타당성조사를 통과하지 못한 사업들이 많다.\\', \\'아울러 천문학적인 비용이 소요될 것으로 예상되지만 사업방식이 결정되지 않은 데다 검토 중인 사업들도 포함돼 있어 이번 발표에서는 비용추계조차 이뤄지지 않았다.\\', \\'하지만 문제는 교통대책이 총선을 앞두고 표를 위한 선심성 정책에 그칠 수 있다는 점이다.\\', \\'비전에는 통행비용을 최대 30% 절감하며 환승시간은 30% 줄이는 3 대 목표가 제시됐다.\\']\\n',\n",
       " '[\\'자유한국당이 좌충우돌 갈피를 잡지 못하고 있다.\\', \"조국 전 법무부 장관 사퇴로 \\'조국 정국\\'이 일단락되자 지향점을 찾지 못하고 급속히 흔들리고 있는 듯한 모습이다.\", \\'조국 정국을 거치면서 오름세를 보이던 한국당 지지율이 확연히 떨어지고 있는 것은 당연한 결과다.\\', \\'정치권에서 \"문 대통령이 야당 복은 천복을 타고났다\"는 말이 나올만 하다.\\', \"문재인 대통령을 비하하는 \\'벌거벗은 임금님\\' 동영상은 제작발표회에 참석해 격려까지 해 놓고선 슬그머니 비공개로 전환했다.\", \\'한국당을 지지하는 보수층에서조차 변함없는 구태스러움에 \"이젠 질렸다\"는 소리가 나오고 있다.\\', \"인적 쇄신을 기치로 내걸고 영입한 \\'새 피\\'는 반문(文) 인사 위주여서 감동과 참신성은 찾아보기 어렵다.\", \\'무엇보다 안타까운 것은 황교안 대표의 리더십 부재다.\\', \"보름 가량 지나는 동안 패스트트랙(신속처리안건 지정) 수사 대상자에 대한 가산점 소동, 조국 태스크포스 표창 논란, 박찬주 전 육군대장 영입 철회, \\'벌거벗은 임금님\\' 동영상 제작물 파동 등 하루가 멀다하고 갈지자 행보를 하고 있다.\", \\'한국당의 난맥상에 지지자마저 등을 돌리고 있는 것이다.\\', \\'하지만 범죄 혐의자를 옹호한다는 지적에 하루 뒤 \"공천 가산점에 대해 생각해본 바 없다\"고 말을 바꿨다.\\', \"박 대장은 황 대표가 삼고초려해 \\'영입인사 1 호\\'로 명단에 올렸다.\", \\'지난 24 일만 하더라도 기자들에게 \"당에 기여한 부분이 반영되도록 하겠다\"고 분명히 밝혔다.\\', \\'박찬주 육군 대장의 영입 철회 헤프닝이 그 단면을 잘 보여주고 있다.\\', \\'사전에 충분한 소통이 이뤄지지 않았다는 얘기다.\\', \\'하지만 적절치 않다는 당내 여론에 밀려 서둘러 제외한 것이다.\\', \\'결국 황 대표 스스로 초래한 일이다.\\', \\'패스트트랙 수사 대상 의원들에 대한 공천 가산점 말바꾸기는 듣는 사람의 얼굴이 화끈거릴 정도다.\\', \\'그렇지 않아도 위태로운 황 대표의 리더십에 치명상이 됐다.\\']\\n',\n",
       " '[\\'11 월의 첫날 발표된 수출지표는 우울하다.\\', \\'산업통상자원부가 1 일 발표한 10 월 수출은 467 억8000 만달러로 지난해 같은달보다 14.7%나 줄어들었다.\\', \\'전망의 근거도 미중 무역분쟁의 1 단계 협상 타결 가능성 및 브렉시트 시한 연기,반도체 가격 회복, 수주 선박의 인도 본격화 등 희망사항의 나열 뿐이다.\\', \\'지난해 11 월 수출이 520 억 달러에 육박하는 호실적임을 감안하면 가능성은 높아보이지 않는다.\\', \\'그럼에도 지난해 12 월부터 시작된 수출 감소 추세는 줄어들기는 커녕 오히려 점점 더 심화됐다.\\', \\'지난 1 월 -6.2 에서 7 월 -11.1%를 거쳐 급기야 -14.7%까지 확대된 것이다.\\', \\'93 개월 연속 흑자 기조를 유지하고 있으며 특히 10 월 무역수지 흑자(53 억9000 만 달러)는 올해 2 번째 기록이란 점도 빼놓지 않았다.\\', \\'정부는 \"세계 경기를 이끄는 미국 중국 독일의 경기 부진으로 우리뿐 아니라 세계 10 대 수출국 모두가 감소 추세\"라면서도 더 이상 대외요인으로 원인을 돌리면서도 그 와중에 긍정적 내용을 강조하고 있다.\\', \\'분수령은 그 다음이다.\\', \\'지난해 10 월 수출액이 548.6 억달러로 무역통계를 기록(1956 년)한 이래 역대 수출 실적 2 위에 달했기 때문에 올 10 월은 상대적으로 큰 감소폭으로 나타났다는 것이다.\\', \\'정부는 지난 3 월 수출활력제고 대책에 이어 6 월 소비재수출 활성화 방안,9 월 수출시장구조 혁신 방안을 내놓았고 지난달에는 디지털무역 촉진방안까지 발표했다.\\', \\'그야말로 백약이 무효다.\\', \\'또 다시 전가의 보도인 기저효과의 영향이 동원됨은 물론이다.\\', \\'여기에다 올들어 10 월까지 누적 수출물량은 증가세이고 하루평균 수출액도 20 억 달러를 넘기고 있으며 7 월 이후 상승세라는 점도 강조했다.\\', \\'지난 2016 년 1 월(-19.6%) 이후 3 년 9 개월만에 최대 하락폭이다.\\']\\n',\n",
       " '[\\'네이버의 금융전문 자회사인 네이버파이낸셜이 1 일 출범했다.\\', \\'비제도권 전략을 선택한 만큼 현행 법과 제도라는 장벽을 넘어서야 한다.\\', \\'그 힘은 네이버페이를 통해 이미 시장에서 입증됐다.\\', \"창업주의 이런 성향에 비춰볼 때 \\'네이버은행\\'은 애당초 네이버의 체질과 맞질 않는다.\", \\'네이버가 비은행 전략을 택한 배경은 두가지로 풀이된다.\\', \\'네이버파이낸셜은 네이버 고객 수천만명이라는 엄청난 자산이 있다.\\', \\'네이버파이낸셜이 이를 바탕으로 금융시장을 파고들 때 라이선스, 곧 기득권을 가진 은행·증권·보험·자산운용·신용카드사들이 어떤 반응을 보일지 궁금하다.\\', \\'네이버파이낸셜의 앞날이 순탄한 것만은 아니다.\\', \\'총수로 지정되는 순간 온갖 규제가 따르기 때문이다.\\', \\'기존 네이버페이를 확대 개편했다.\\', \\'당연히 엄격한 은행법의 적용을 받는다.\\', \\'창업주인 이해진 글로벌투자책임자(gio)의 비제도권 성향도 영향을 미쳤을 것으로 보인다.\\', \\'이 gio는 총수 지정을 피하려 사내이사직을 내놓고 지분도 일부 팔았으나 끝내 공정위의 과녁에서 벗어나지 못했다.\\', \\'종래 시장에선 네이버가 인터넷전문은행에 도전할 것으로 봤다.\\', \"애써 은행 라이선스를 따도 전국은행연합회 회원이 되는 순간 \\'인터넷\\'보다는 \\'은행\\' 역할에 충실할 수밖에 없는 게 현실이다.\", \\'먼저 1·2 호 인터넷은행들이 기대만큼 큰 성과를 내지 못하고 있다.\\', \\'이는 카카오뱅크를 통해 금융 제도권으로 진입한 경쟁사 카카오와 대비된다.\\', \\'일부 지분상의 특례에도 불구하고 인터넷은행은 어디까지나 은행이다.\\', \\'이 gio는 공정거래위원회가 자신을 기업집단, 곧 재벌 네이버의 총수(동일인)로 지정하는 걸 지독히 싫어했다.\\', \\'하지만 네이버는 독자적인 금융서비스 전략을 택했다.\\', \\'금융위원회, 금융감독원처럼 엄한 시어머니들 눈치도 살펴야 한다.\\', \\'제3 호 인터넷은행 예비인가 신청이 시들한 데는 다 이유가 있다.\\', \\'국내 최대 증권사인 미래에셋대우가 5000 억원 이상을 투자할 예정이다.\\']\\n',\n",
       " '[\\'피아트크라이슬러(fca)와 푸조시트로엥(psa)이 합병에 전격 합의했다.\\', \\'양사는 지난달 31 일 내놓은 공동성명을 통해 \"합병기업은 새로운 모빌리티 시대의 도전과제에 효과적으로 응전할 규모와 능력, 자원을 갖춰 자동차산업의 새로운 리더가 될 것\"이라고 밝혔다.\\', \\'기업은 기술혁신에 총력을 기울이고, 정부는 규제혁신으로 화답해야 한다.\\', \\'이번 합병으로 양사는 폭스바겐그룹, 르노·닛산·미쓰비시 연합, 도요타에 이은 글로벌 4 위 업체로 도약하게 됐다.\\', \\'기업의 노력에도 불구하고 이중삼중으로 쳐진 각종 규제가 미래로 향하는 발목을 잡을 수 있기 때문이다.\\', \\'현대차의 변화와 혁신이 가능케 하기 위해선 정부의 과감한 규제개혁과 정책적 지원이 뒤따라야 한다는 지적이다.\\', \\'급변하는 글로벌 자동차 시장의 상황과 현실을 고려하면 올바른 방향 설정이다.\\', \\'각각 8 위, 9 위 업체였던 양사가 합병으로 덩치를 키워 gm과 현대자동차를 앞지르게 된 셈이다.\\', \\'또 \"미래에는 자동차 50%, 나머지 30%는 플라잉카, 20%는 로보틱스를 만드는 회사로 변모하게 될 것\"이라고도 했다.\\', \\'게다가 자동차산업의 패러다임이 전기·자율주행차로 전환되면서 내연기관 자동차 수요는 필연적으로 줄어들 수밖에 없다.\\', \"올해 초 하나금융경영연구소가 내놓은 \\'구조조정이 진행 중인 글로벌 자동차 업계\\' 보고서에 따르면 2018 년 현재 세계 자동차 판매대수는 9200 만여대로 3 년 연속 정체 상태다.\", \\'문제는 저성장 구조에도 불구하고 공격적 투자가 지속되면서 연간 공급과잉 규모가 2800 만대 수준에 달했다는 점이다.\\', \\'망하는 회사가 나올 수밖에 없다는 얘기다.\\', \\'지난달 말 타운홀미팅에서 현대자동차 정의선 수석부회장은 \"앞으로 차만 잘 만들어선 살아남기 어렵다\"고 말했다.\\', \\'그러면서 \"hmg를 \\\\\\'현대자동차그룹\\\\\\'이 아니라 \\\\\\'현대모빌리티그룹\\\\\\'으로 불러야 할 날이 올 것\"이라고 했다.\\', \"지금 세계 자동차 업계는 \\'카마겟돈(자동차+아마겟돈)\\'이라는 말이 나돌 정도로 심각한 위기상황에 내몰려 있다.\"]\\n',\n",
       " '[\"지난달 세계 32 개국이 공조해 2 년간 벌인 \\'웰컴투비디오\\' 수사 발표는 한국이 아동·청소년 성착취 영상에 얼마나 \\'관대한\\' 사회인지 적나라하게 드러냈다.\", \\'이런 현실이 수사기관의 느린 대응, 사법부의 무른 처벌과 무관한 것인지 묻지 않을 수 없다.\\', \\'아동·청소년 성착취 영상의 제작·보유는 매우 중대한 반인권 범죄다.\\', \"하지만 성착취 영상 소지자는 물론 누리집 운영자에게까지 \\'무른\\' 처벌이 반복되는 사회에선 \\'걸리는 이만 재수 없는 놈\\'이라는 잘못된 인식만 강화할 뿐이다.\", \\'초범 등에 대해 양형 이유가 있는 것은 죄를 뉘우치고 사람이 달라질 수 있다는 믿음이 있기 때문이다.\\', \\'나아가 요즘엔 누구나 쉽게 접근하는 랜덤채팅 앱을 통해서도 10 대 성착취 영상의 거래가 확산되고 있다.\\', \"웰컴투비디오 수사 발표 이후 온라인 커뮤니티의 관련 게시판에선 \\'최대한 가벼운 처벌을 받기 위한\\' 요령이 공유되는가 하면, 응원과 위로의 글이 범람했다고 한다.\", \\'미국·영국 등에선 이 누리집의 성착취 영상을 소지하는 것만으로도 중대한 범죄로 처벌받는 것에 비하면 터무니없이 낮은 수위다.\\', \\'관련 시민단체가 경찰과 방송통신심의위원회에 모니터링 신고해도 별 반응이 없어 직접 구매자를 가장해 구체적 혐의를 잡아 신고했다는 1 일치 기사는 공권력에 대한 깊은 절망감이 들게 한다.\\', \"적발된 337 명 중 223 명이 한국인으로 드러난 다크웹의 최대 아동·청소년 성착취 누리집 \\'웰컴투비디오\\'의 한국인 운영자는 지난해 1 년6 개월의 실형을 받았다.\", \"이 분야 누리집의 \\'원조\\'인 소라넷의 공동운영자에게 추징금 없이 징역 4 년 원심을 확정한 최근 대법원의 판결에도 비판의 목소리가 나오는 이유다.\", \\'외국에선 회원이 영상을 올리면 누리집 운영자에게 공모 혐의를 적용하는 데 비해 한국에선 운영자에게 유리하게 작용한다.\\', \\'다크웹처럼 여러차례 암호 입력도 필요없다.\\', \"누구나 익명으로 대화할 수 있는 어느 랜덤채팅 앱에선 \\'중딩·고딩들 영상\\'이란 제목 아래 1 개에 150 원에도 거래되고 있다고 한다.\", \"아동·청소년 성착취 동영상은 플랫폼의 \\'혁신\\' 속에 나날이 확산되고 있다.\"]\\n',\n",
       " '[\\'민간 택지에 건설되는 아파트에 대한 분양가 상한제가 우여곡절 끝에 다음주에 지정된다.\\', \\'국토교통부는 6 일 주거정책심의위원회를 열어 민간아파트 분양가 상한제 적용 지역을 결정한다고 1 일 발표했다.\\', \\'집값 급등의 시발점이 됐다.\\', \\'정부가 물렁한 태도를 보이면 투기세력이 고개를 들고 집값이 불안해진다.\\', \\'부동산 시장은 심리적 성격이 강하다.\\', \\'평당 1 억원대 아파트까지 등장했다.\\', \"그러는 사이 강남 4 구(강남·강동·서초·송파구)와 \\'마용성\\'(마포·용산·성동구)을 중심으로 집값이 급등했다.\", \\'김현미 국토부 장관은 7 월8 일 국회 국토교통위원회에서 \"민간아파트에도 분양가 상한제 시행을 검토할 때가 됐다\"고 밝혔다.\\', \"고강도 주택시장 안정대책인 \\'9·13 대책\\' 이후 한동안 진정세를 보인 서울 아파트값이 다시 오르기 시작했기 때문이다.\", \\'관리처분계획인가를 받은 재건축·재개발 단지는 6 개월 유예기간을 줬고 시·군·구가 아니라 동별로 지정하기로 하는 등 내용도 애초 방침에서 많이 후퇴했다.\\', \\'지난해 11 월 둘째 주부터 32 주 연속 하락한 서울 아파트값이 7 월 첫째주에 상승세로 돌아선 것이다.\\', \\'국토부는 강남 재건축 아파트의 고분양가가 기존 아파트 값을 올리고 이게 다시 분양가를 끌어올리는 악순환이 이어지고 있다고 판단했다.\\', \\'그러면서 4 개월이 흘렀다.\\', \\'정부 안에서도 기획재정부가 경제사정 악화를 이유로 제동을 걸었다.\\', \\'그러나 이후 국토부는 갈팡질팡했다.\\', \\'정확한 진단이고 적절한 처방이었다.\\', \\'집 부자들이 \"재산권 침해\"라고 반발하고 보수 언론이 \\\\\\'공급 위축론\\\\\\'을 들어 비판하자 주춤하는 모습을 보였다.\\']\\n',\n",
       " '[\\'북한의 조선중앙통신이 어제 국방과학원이 초대형 방사포의 연속시험사격을 성공적으로 진행했다고 보도했다.\\', \\'북한은 도발을 멈추고 대화와 협상의 장으로 나와야 한다.\\', \\'북한은 남한과 미국과의 관계에서 긴장을 고조한다고 해결될 일이 아니라는 점을 새삼 깨달아야 한다.\\', \\'우리 정부의 인내심에도 한계가 있는 법이다.\\', \\'야당과 국민 여론에서 대북 피로감이 높아져 정부의 대북 정책의 의지와 동력이 약화한다면 이는 북한에도 상당한 손실이 된다.\\', \\'비핵화 협상에서 더 진전된 방안을 제시할 것을 미국에 요구하고 압박하는 게 목적이다.\\', \\'김 위원장의 조의는 인간적 예의차원에서 이뤄진 일이고, 북한은 앞으로 \"내 갈 길을 가겠다\"는 뜻을 드러낸 것으로 해석된다.\\', \\'탄핵 조사를 받아야 하는 도널드 트럼프 대통령이 행정부 입장에서 뾰족한 해법이 보이지 않고 미국 조야의 대북 피로감이 커지면 트럼프 대통령이 대북 강경 자세로 돌아설 가능성도 있다.\\', \\'북한은 하노이 북미정상회담 결렬 이후 김 위원장이 자위적 국방력을 강화하겠다고 선언한 뒤 새 전술무기 개발에 주력하고 있다.\\', \\'이번 발사는 김 위원장이 문재인 대통령의 모친상에 조의문을 보내왔다고 청와대가 발표한 지 불과 3 시간여 만에 일어났다.\\', \\'북한은 남한과의 민간 교류까지 피하고 금강산의 남측 시설을 일방적으로 철거하려고 실무회담도 거부하고 있다.\\', \\'북한의 잇단 미사일 발사는 북미 협상에서 체제 안전 보장 요구가 먹히지 않고 유엔 대북 제재도 지속하는 국면에서 미국에 대한 강한 불만의 표시하는 것으로 분석된다.\\', \\'북한은 이런 도발로는 아무 것도 얻을 수 없음을 명심해야 한다.\\', \\'북한은 지난 9 월 10 일에도 초대형 방사포 2 발을 발사했으나 한 발이 내륙에 떨어져 실패한 것으로 분석됐다.\\', \\'당시 현장에 갔던 김정은 국무위원장이 \"연발 사격시험만 진행하면 될 것\"이라고 평가했던 만큼 이번에 그 연장선에서 시험을 마무리하고 실전 배치를 앞둔 것으로 보인다.\\']\\n',\n",
       " '[\\'한·일 두 나라의 국회의원 모임인 한일의원연맹이 1 일 일본 도쿄에서 합동총회를 열고 공동성명을 채택했다.\\', \\'누카가 후쿠시로 일본 쪽 회장이 \"한국 대법원의 판결과 정부 대응은 (1965 년의) 청구권협정에 저촉되는 내용으로 일-한 관계의 법적 기반을 무너뜨렸다\"고 말했고, 가와무라 다케오 간사장은 \"징용 배상 문제는 청구권협정으로 해결된 것이기 때문에 한국 내정을 통해 해결해야 한다\"고 강변했다.\\', \\'두 나라 의원들은 공동성명에서 \"1998 년 \\\\\\'김대중-오부치 21 세기 한-일 파트너십 공동선언\\\\\\'의 정신을 되살려 양국 관계를 조속히 정상화하는 데 인식을 함께했다\"고 밝혔다.\\', \\'그러나 이번에 한-일 간 시각 차를 다시 확인한 건 안타깝다.\\', \\'연말까지 아세안+3(한·중·일) 등 한·일 정상이 참여하는 국제회의가 열리는 만큼, 두 나라 정부는 이런 기회를 활용해 자연스럽게 정상회담을 하는 방안을 추진하길 바란다.\\', \\'이제 두 나라 정부가 나서 관계 복원을 위한 대화를 시작할 때다.\\', \\'특히 정상회담 개최를 권고한 것은 의미가 크다.\\', \\'이번 총회는 한-일 관계 악화로 두달 남짓 연기된 끝에 열렸다.\\', \\'또 과거사 문제와 관련해선 \"피해자의 명예와 존엄이 회복될 수 있도록 \\\\\\'한-일 파트너십 선언\\\\\\'의 취지에 따라 상호 호혜의 정신으로 공동 노력하기로 했다\"고 밝혔다.\\', \\'얼마 전 이낙연 총리와 아베 신조 일본 총리가 일왕 즉위식을 계기로 만나 \"양국 관계를 이대로 방치하면 안 된다\"며 대화 재개의 물꼬를 튼 데 이어, 이번엔 두 나라 국회가 함께 나선 것은 바람직하다.\\']\\n',\n",
       " '[\\'북한이 그제 초대형 방사포의 연속 시험사격을 성공적으로 진행했다고 북한 매체가 보도했다.\\', \\'북한의 무기 성능이 갈수록 고도화되는 것은 우리 안보에 심각한 위협이 아닐 수 없다.\\', \\'정경두 국방장관은 최근 국회 답변에서 북한 미사일 발사에 대해 \"직접적 도발이라고 표현할 수 없다\"고 했다.\\', \\'더 한심한 것은 국방부의 태도다.\\', \\'일본이 즉각 외교 경로를 통해 북한에 엄중히 항의한 것과 대비된다.\\', \"북한은 이로써 지난 6 개월여 사이에 \\'북한판 이스칸데르\\'로 불리는 kn-23 신형 단거리 탄도미사일, 대구경 조종방사포, 에이테킴스급 신형 전술지대지미사일과 초대형 방사포 등 신형 전술무기 4 종을 성공적으로 발사했다.\", \\'변변한 항의 한 번 못하는 청와대의 대북 저자세가 또다시 연출된 것이다.\\', \\'우리의 미사일방어체계로 요격하기가 그만큼 더 어려워진다.\\', \\'문재인 대통령 상중에 도발한 게 아니냐는 의원 질의엔 \"장례 절차를 마치고 청와대로 사실상 복귀하고 난 다음에 발사됐다\"고 두둔했다.\\', \\'모두 고체 연료를 사용해 신속 발사가 가능하며, 이동식 발사차량(tel)에 탑재돼 기동성과 은밀성이 한층 강화됐다.\\', \\'사정이 이렇다면 우리의 대응이 달라져야 하지만 정부와 군의 안보태세는 되레 뒷걸음질한다.\\', \\'여기에 지난달 발사한 잠수함발사탄도미사일(slbm) 북극성-3 형이 앞으로 잠수함에 탑재되면 국제사회에 가공할 위협이 될 것이다.\\', \\'정의용 청와대 국가안보실장은 어제 국회 운영위원회 국정감사에서 \"지금 북한이 개발하고 있는 미사일 능력은 우리 안보에 아주 위중한 위협이 된다고 보지는 않는다\"면서 \"우리도 북한 못지않게, 북한보다 적지 않게 미사일 발사 시험을 하고 있다\"고 했다.\\', \\'올 들어 12 번째 발사체 발사다.\\', \\'북한이 지난 8 월과 9 월 초대형 방사포를 연속 발사했을 때 발사 간격이 17~19 분이나 됐지만 이번에는 3 분으로 크게 좁혀졌다.\\', \\'비행성능과 연속발사 안전성이 대폭 향상돼 실전배치를 앞두고 있다는 얘기다.\\']\\n',\n",
       " '[\\'주식시장 폐장 시간을 다시 오후 3 시로 앞당기자는 주장이 증권업계에서 나오고 있다.\\', \\'안타까운 일이다.\\', \"2016 년 8 월부터 오후 3 시30 분으로 거래시간을 늘렸음에도 거래량은 줄었고 현재 마감시간 아래에서는 \\'주 52 시간 근무\\'를 지키기 어렵다는 게 주장의 근거다.\", \\'지금 무엇보다도 시급한 것은 떠나는 투자자들을 붙잡을 방법과 여건을 마련하는 것이다.\\', \\'그런 중대한 고민을 함께해야 할 금융당국과 증권업계가 지엽적인 거래시간에 매달리고 있다.\\', \\'양측의 주장 모두 어느 정도 일리가 있다.\\', \\'올 들어 10 월까지는 177 억4061 만달러로 연말까지 200 억달러를 넘어설 전망이다.\\', \\'하지만 안타까운 것은 찬반 논의에서 정작 중요한 부분이 간과되고 있다는 점이다.\\', \\'그런데도 오히려 줄었다면 당국과 업계는 거래량을 늘리는 방안부터 머리를 맞대고 논의하는 게 순서다.\\', \\'반(反)시장·반기업 정책으로 기업 수익이 날로 악화되고 있는 데다, 각종 증시 관련 규제가 강화되면서 국내외 투자자들이 모두 등을 돌리고 있는 것이다.\\', \\'거래시간 연장 후 1 년간 거래량은 3 억5964 만 주로 17.5%나 줄었다.\\', \\'내국인도 해외로 눈을 돌리고 있다.\\', \\'거래시간을 30 분 연장한 가장 큰 이유는 거래량을 늘리자는 것이었다.\\', \\'여러 이유가 있겠지만 한국 증시의 매력이 떨어진 탓이 크다.\\', \\'금융위원회는 난색을 표하고 있다.\\', \\'거래시간 연장 직전 1 년간 유가증권시장의 하루 평균 거래량은 4 억3616 만 주였다.\\', \\'해외주식 직접투자 규모가 2015 년 72 억6000 만달러에서 지난해 170 억7000 만달러로 두 배 이상 늘었다.\\', \\'거래시간을 늘린 데는 중국 증시 마감시간과 맞추기 위한 목적도 있었던 데다, 마감을 다시 앞당기려면 적지 않은 전산 재구축 비용이 들어가기 때문이다.\\', \\'거래대금도 감소했다.\\', \\'외국인의 국내 상장주식 순매수액은 2016 년 12 조1090 억원에서 2017 년 10 조1800 억원으로 줄더니 2018 년에는 6 조6780 억원 순매도로 돌아섰다.\\']\\n',\n",
       " '[\\'21 대 국회의원 총선거가 다가오면서 굵직한 정부·여당발(發) 정책들이 쏟아져 나오고 있다.\\', \\'시행 시기가 앞당겨진 고등학교 무상교육, 내년 초까지 마무리된다는 122 개 수도권 공공기관 지방 이전, 과속으로 진행돼 온 공공기관 비정규직의 정규직화, 전기료 누진제 완화 같은 것들이 그렇다.\\', \"\\'안 되면 말고\\' \\'부작용이야 어떻든\\' \\'뒷감당은 누가 하든\\' 식의 선거용 정책은 이것만이 아니다.\", \\'국토교통부가 여당인 더불어민주당과 협의를 거쳤다는 이 구상은 수도권에 gtx를 중심으로 급행 철도망을 구축하겠다는 게 핵심 내용이다.\\', \"5 년 임기의 특정 정부가 단시일 내에 쉽게 끝낼 사업이 아닌데도 재원계획도 없이 발표되니 \\'선거용\\'이라는 비판이 뒤따를 수밖에 없다.\", \\'땅값이 비싸고, 민원은 복잡다기한 데다, 막대한 비용도 필요한 수도권 광역교통 개선사업은 그만큼 어렵다.\\', \"경제적 타당성 조사를 거치지 않은 것도 많고, 재원대책은 없어 \\'희망고문\\' 수준의 장밋빛 청사진도 적지 않다.\", \\'하지만 첫 노선(a)의 착공이 지난달에야 겨우 가능했다.\\', \"gtx b·c노선은 경제성이 부족해 노선 연장 등 \\'묘수\\' 끝에 최근에야 예비타당성 조사를 겨우 마쳤을 뿐이다.\", \\'의아한 것은 100 조원을 넘어설 것으로 추정되는 재원 조달에 대한 계획도 없이 발표됐다는 사실이다.\\', \"수도권 광역급행철도(gtx) d노선을 추가한다는 정부의 \\'광역교통 비전 2030\\' 정책도 그런 것이다.\", \\'해당 노선이 지나는 지역은 gtx 건설에 지구단위의 개별 도시 명운을 걸 정도이지만 각각 2022 년, 2021 년인 착공 일정이 계획대로 될지 장담할 수 없는 형편이다.\\', \\'gtx 구상이 처음 나온 것이 2007 년이다.\\', \\'무수한 논란 끝에 12 년 만에, 그것도 정부예산이 부족해 민간투자사업으로 첫삽을 뜬 것이다.\\', \\'이대로만 순조롭게 건설되면 수도권 교통은 크게 개선될 것이다.\\']\\n',\n",
       " '[\\'북한이 문재인 대통령에게 조의문을 보낸 이튿날 무력시위에 나섰다.\\', \\'합동참모본부는 지난달 31 일 \"북한이 오늘 오후 평안남도 일대에서 동해상으로 미상 발사체 2 발을 발사했다\"고 밝혔다.\\', \\'이런 우격다짐이 해법이 될 수는 없다는 것을 정확하게 알려야 한다.\\', \\'무력시위에 굴복할 리도 없겠지만 군사적 대립과 갈등 심화는 한반도 정세만 더 불안정하게 할 뿐이다.\\', \\'정부는 현 상황을 냉철하게 바라보고 대응해 나가야 한다.\\', \\'이런 상황에서 발사체 두 발을 쏘는 군사적 위력시위는 가볍게 볼 일이 아니다.\\', \\'우리 정부는 무시하고 미국과 담판을 지으려고 한다.\\', \\'또 만나서 협의하자는 통일부 제의에 북한은 \"문서로 하면 된다\"고 일축했다.\\', \\'오히려 예측하기 어려운 북한의 본 모습을 보는 것 같다.\\', \\'남북관계가 개선될 여지가 있다는 기대도 잠깐이었다.\\', \\'이 때문에 발사체 사격 전까지는 조의문이 남북관계에 물꼬를 트는 계기가 될 수 있을지 관심이 쏠렸다.\\', \\'김정은은 금강산관광지구 내 우리 기업 시설을 \"너절하다\"며 철거하라고 했다.\\', \\'사실 북측이 최근 남북관계 경색 국면에서 조의를 표할 것이라 생각한 이들은 많지 않았다.\\', \\'오히려 남북관계를 무력도발에 의존해 일방적으로 끌고 가려는 북한의 의도에 불신만 커지고 있다.\\', \\'게다가 통일부가 조문이나 조화를 받지 않고 가족상으로 조용히 치르겠다는 문 대통령의 의사를 존중해 북측에 모친상 소식을 전하지 않았는데도 북측이 알아서 조의문을 보내 왔다.\\', \\'그러나 북한이 바로 다음 날 발사체를 쏘면서 이런 기대는 무색해졌다.\\', \\'김정은은 전날 문재인 대통령에게 모친상에 대한 조의문을 전달했다.\\', \\'북한의 발사체 도발은 올해 들어 벌써 12 번째다.\\', \\'그로부터 24 시간이 채 지나기 전에 도발을 감행한 것이다.\\', \\'한 손에는 조의문을, 다른 손에는 미사일을 든 북한을 납득하기 어렵다.\\']\\n',\n",
       " '[\\'중국발 황사 등의 영향으로 미세먼지의 공습이 다시 시작됐다.\\', \\'대기오염 대책을 치밀하게 챙길 일이다.\\', \\'그럼에도 도내 주요 도시의 미세먼지 측정망이 가동되지 않는다는 보도가 나와 질색하게 한다.\\', \\'황사와 미세먼지가 기승을 부리는 계절에 접어든 시점에 시설·장비 신축·보수는 뒤늦은 것이다.\\', \\'건강에 직결되는 사안이어서 심각성을 더한다.\\', \\'자연현상이 일정한 패턴을 갖고 있고 최근에는 미세먼지 해소가 국가적 과제로 대두됐기에 대처가 적합하다고 볼 수 없다.\\', \\'홍천은 측정 장비에 이상이 생겨 보수 상황을 지켜봐야 하는 형편이라니 한심하다.\\', \\'대통령 직속 국가기후환경회의가 지난달 30 일 미세먼지 문제 해결을 위한 1 차 국민정책제안을 내놨을 정도다.\\', \\'국가 에너지 확보에서 석탄발전을 대폭 줄이고 산업계의 감시망도 가일층 촘촘히 짜야 한다는 것이 요지다.\\', \"지난달 31 일 도내 대부분 지역의 미세먼지 농도가 \\'나쁨\\' 수준을 기록했지만 강릉·홍천지역의 측정망이 작동하지 않아 주민들이 혼란스러워했다는 소식이다.\", \\'그 원인이 불가항력적인 것도 아니고 주먹구구식 행정에서 비롯됐음을 부인할 수 없다.\\', \\'미세먼지는 국가적 재앙 수준이다.\\', \\'공론화 과정을 충분히 거친 합의인 만큼 정치권과 정부가 더 이상 차질이 빚어지지 않도록 충실한 입법과 정책 수립·집행에 나서야 한다는 사실상의 강요다.\\', \\'이제껏 나온 미세먼지 대책 중 가장 강력한 대책이라는 평이다.\\', \\'강릉시 옥천동에 소재한 도시대기측정소는 신축공사에 들어간 탓이고, 원주의 경우는 4 일부터 측정소 이전 작업이 진행되기 때문이라고 한다.\\', \\'북서풍이 밀려드는 계절에 접어들어 여간 걱정되는 게 아니다.\\', \\'최근 들어 \"외출을 자제하라\"는 기상예보가 다반사다.\\', \\'이를 600 여명에 이르는 전문가·국민정책참여단이 무려 5 개월간의 토론과 숙의를 거쳐 마련했다는 설명이다.\\', \\'이런 형국에 도내에서는 황사와 미세먼지 농도를 측정할 수 있는 시설을 가동할 수 없는 처지여서 딱하다.\\']\\n',\n",
       " '[\\'비정규직이 급증했다는 통계청의 통계를 둘러싼 논란이 증폭되고 있다.\\', \\'통계청이 8 월 비정규직 규모가 역대 최대 규모라고 발표하자 청와대는 통계가 부정확하다며 공개 비판하고 이에 맞서 통계청이 재반박에 나서는 등 볼썽사나운 공방을 벌이고 있다.\\', \\'좋은 일자리에 목말라하는 국민들로서는 누구 말이 맞는지 헷갈릴 수밖에 없다.\\', \\'정부가 비정규직 감소를 국정의 핵심과제로 내걸었다면 투자를 활성화해 좋은 일자리를 많이 만들면 될 일이다.\\', \\'황덕순 청와대 일자리수석은 한 라디오 방송에 출연해 올해 조사에서 비정규직이 전년보다 86 만7,000 명 증가한 것과 관련해 \"과거 (조사의) 질문이라면 정규직으로 조사됐을 사람들이 비정규직으로 조사됐다\"고 밝혔다.\\', \\'그런데도 통계를 제멋대로 이용해 엉뚱한 처방을 유발한다면 피해는 궁극적으로 국민에게 돌아갈 수밖에 없다.\\', \\'국가통계란 사회·경제적 변화를 진단하고 올바른 정책을 수립하는 데 필수적인 공공재다.\\', \\'여권은 불리한 통계가 나올 때마다 이런저런 핑계를 들어 엄호하거나 입맛대로 골라 쓰기를 주저하지 않는다.\\', \\'여기에 김상조 청와대 정책실장까지 거들고 나섰다.\\', \\'하지만 통계청은 오히려 \"청와대의 주장에 무리가 많다\"며 반박하고 나섰다.\\', \\'통계당국의 느닷없는 조사방식 변경으로 평지풍파를 일으켰다는 것이다.\\', \\'더 큰 문제는 국가통계에 대한 청와대와 정부의 왜곡된 인식이다.\\', \\'김 실장은 통계청의 조사와 관련해 \"(비정규직을) 정확히 발라내지 못한 통계\"라며 조사방법 변경은 물론 표본조사의 한계 등 문제투성이라고 비판했다.\\', \\'이번 비정규직 통계는 발표 당시부터 논란에 휩싸였다.\\', \\'정부 당국에서도 정책의 기본인 통계 소통조차 제대로 이뤄지지 않는다는 점에서 여간 심각한 문제가 아니다.\\', \\'게다가 통계청은 비정규직 숫자가 기준 변경으로 과대 추계됐다며 군색한 해명을 내놓았다.\\', \\'통상적인 브리핑에 실무 책임자가 아닌 통계청장이 직접 등장한 것부터 이례적이라는 얘기가 많았다.\\', \\'가뜩이나 현 정부 들어 통계의 공정성을 놓고 말들이 많은 와중에 불신을 자초한 셈이다.\\']\\n',\n",
       " '[\"우리 정부 대북정책의 성격을 둘러싼 논란이 계속되는 가운데 외교안보 당국자가 스스로 \\'친북(親北)\\' 얘기가 나온다고 소개했다.\", \\'북한이 핵 폐기 의지를 보여주지 않는 상황에서 평화경제 등 남북관계 개선을 강조하는 문재인 정부에 대한 미국의 부정적 기류를 전한 것이다.\\', \\'실제로 우리 정부는 북한의 비핵화 이행보다 대북 제재 완화와 남북경협·긴장완화 등에 초점을 맞춰왔다.\\', \\'궁극적으로 북한의 눈치를 보는 대북정책 기조를 바꿔 완전한 북핵 폐기에 주력해야 한다.\\', \"우리 정부가 더 이상 \\'친북\\' 소리를 듣지 않으려면 문 대통령이 직접 nsc 회의를 주재하고 북한에 싫은 소리도 분명히 해야 한다.\", \\'이수혁 신임 주미대사는 지난달 30 일 워싱턴 특파원 간담회에서 \"대북정책 같은 것을 너무 우리 중심적으로만 보니 친북정책이니 뭐니 하는 말도 (미국에서) 나온다\"고 말했다.\\', \\'오히려 문 대통령은 9 월 유엔 연설에서 \"북한은 9·19 군사합의 이후 단 한 건의 위반이 없었다\"면서 북한을 옹호했다.\\', \\'우리 정부가 서둘러 남북철도 연결을 추진하는 과정에서 한때 미국과 유엔사령부는 과속에 제동을 걸었다.\\', \\'김정은 북한 국무위원장이 문 대통령에게 모친상 조의문을 전달한 지 하루 만이었다.\\', \\'북한이 미사일 발사 도발을 계속하는데도 문재인 대통령이 직접 경고하지 않는 것도 심각한 문제다.\\', \\'지난해에는 남북철도 연결 이벤트에 매달리다 보니 미국의 불만을 초래했다.\\', \\'북한의 방사포 발사 당시 정의용 국가안보실장 주재로 국가안전보장회의(nsc) 상임위 정례회의를 진행한 청와대는 북한 도발에 대해 \"강한 우려를 표한다\"며 의례적인 입장만 밝혔다.\\', \\'북한의 비핵화 진전이 없어 대북제재 해제가 이뤄지지 않은 상황이었기 때문이다.\\', \"남북은 지난해 평양 남북정상회담의 \\'연내 착공식\\' 합의에 따라 12 월에 경의선·동해선 철도·도로 연결 착공식을 열었지만 별다른 진전이 없다.\", \"북한은 31 일 오후 동해상으로 \\'초대형 방사포\\' 2 발을 발사했다.\"]\\n',\n",
       " '[\\'우리나라 10 월 수출이 1 년 전에 비해 14.7% 줄어들어 3 년9 개월 만에 가장 큰 폭으로 감소했다.\\', \\'미·중 무역분쟁, 세계 경기 둔화, 반도체 가격과 국제유가 하락, 그리고 일본과의 무역갈등에 따른 결과인데 우리 경제 전반에 미칠 후폭풍이 걱정이다.\\', \\'그럼에도 글로벌 무역 환경이 실로 변화무쌍한 점을 감안할 때 낙관론에 안주해서는 안 될 일이다.\\', \\'정부는 그동안 수출활력제고 대책과 소재·부품·장비산업 경쟁력 강화 대책을 연달아 내놓았는데, 이들 대책이 효과적으로 작동하고 있는지 재점검하고 보완 대책을 서둘러야 할 것이다.\\', \\'무역통계를 작성하기 시작한 이래 지난해 10 월 수출액은 역대 두 번째로 많았다.\\', \\'그야말로 사면초가에 처한 상황이다.\\', \\'이는 2016 년 7 월까지 19 개월 연속 마이너스 성장을 기록한 이후 최장 기간이다.\\', \\'지역별로는 우리나라 수출의 약 26%를 차지하는 중국에 대한 수출이 16.9% 감소했다.\\', \\'그 때문에 수출 감소율이 커지기는 했지만 실제로는 10 월 수출액이 올 들어 세 번째로 많았다는 점도 긍정적 신호로 받아들이고 있다.\\', \\'이에 비해 정부는 반도체 가격 회복, 미·중 무역분쟁 1 단계 협상 타결 등을 앞세우며 우리나라 수출이 내년 1 분기부터는 플러스로 전환될 것이라고 보고 있다.\\', \\'올해 7 월 이후 무역갈등을 빚고 있는 일본에 대한 수출도 13.8% 줄어들었으며 유럽연합, 중남미, 인도에 대한 수출도 두 자릿수 감소세를 보였다.\\', \\'세계무역기구(wto) 자료를 보면 한국의 수출 감소율은 중국, 독일, 일본, 네덜란드 등에 비해 월등히 높은 수준이다.\\', \"산업통상자원부 \\'10 월 수출입동향\\'에 따르면 우리나라 수출 주력 제품은 여전히 고전을 면치 못하고 있다.\", \\'d램 가격이 60%가량 하락한 탓에 반도체 수출액은 1 년 전보다 32.1% 감소했고, 석유화학과 석유제품 수출도 국제유가 하락 영향 등으로 각각 22.6%, 26.2% 감소했다.\\']\\n',\n",
       " '[\\'제21 대 국회의원 총선을 6 개월 앞두고 여야 정치권이 볼썽사나운 행태로 빈축을 사고 있다.\\', \\'경제 활력과 민생 안정에 시급한 법안 처리와 당 쇄신은 뒷전으로 미룬 채 내년 총선 공천과 이해득실에만 혈안이 돼 있으니 정말 한심하다.\\', \\'이런 구태를 바로잡으려면 유권자들이 맹목적인 지지에서 벗어나 냉철한 심판을 내리는 것이 중요하다.\\', \\'여야가 텃밭인 호남과 영남 지지층만 바라보는 정치에 안주하다 보니 쇄신과 외연 확장은 외면한 채 내부 공천 투쟁에만 골몰하는 것이다.\\', \\'여야가 새로운 정치를 바라는 국민 기대에 부응하지 못하는 데는 지역주의 탓이 크다.\\', \"정책 대안도 경제의 \\'민부론\\', 외교안보의 \\'민평론\\' 등이 과거 정책 노선을 정리한 수준에 불과하다는 평이다.\", \\'코미디가 따로 없다.\\', \\'평가 결과 하위 20%에 해당하면 내년 총선 공천심사와 경선에서 20% 감점을 받는다.\\', \\'조국 사태에 따른 반짝 지지율에 취해 실책만 거듭하며 혁신과 비전 제시는 소홀히 하고 있다.\\', \"더구나 당내 리더십 부재로 \\'맹물 야당\\'이라는 지적마저 나온다.\", \\'이러다 보니 법안들이 조항 몇 개만 바꾸거나 의원들이 서로 도장을 찍어주면서 품앗이한 졸속 법안투성이다.\\', \\'자유한국당도 다를 바 없다.\\', \"여당 의원들이 \\'막판 몰아치기 발의\\'에 나선 것은 4 일부터 시작되는 의원 평가에 \\'발의 법안 실적\\'이 반영되기 때문이다.\", \"박찬주 전 제2 작전사령관을 두고 오락가락한 인재 영입과 대통령 비하 논란을 빚은 \\'벌거벗은 임금님\\' 동영상, 패스트트랙 충돌 의원의 공천 가점 부여 논란, 조 전 장관 의혹 tf에 대한 표창장 수여 논란 등 민심과 동떨어진 헛발질의 연속이다.\", \\'국정감사 종료 다음날인 지난달 22 일부터 31 일까지 발의한 법안이 모두 440 개로, 야당 발의 법안의 7 배다.\\', \\'더불어민주당 의원들은 지난달 31 일 하루에만 182 개 법안을 발의했다.\\']\\n']"
      ]
     },
     "execution_count": 66,
     "metadata": {},
     "output_type": "execute_result"
    }
   ],
   "source": [
    "with open(r\"task11/ext/results/result_0804_0720_step_5000.silver\", \"r\", encoding='utf-8') as f:\n",
    "    contents = f.readlines()\n",
    "\n",
    "contents"
   ]
  },
  {
   "cell_type": "code",
   "execution_count": 67,
   "id": "41ab9263-4243-4769-bd2a-fbac6e3d0a4a",
   "metadata": {},
   "outputs": [
    {
     "data": {
      "text/plain": [
       "'[\\'더불어민주당 이해찬 대표가 30 일 오후 국회에서 기자간담회를 열고 조국 전 법무부 장관 사태와 관련해 \"국민 여러분께 매우 송구하다\"고 밝혔다.\\', \\'민생을 외면하며 낡은 이념과 진영 싸움에 매몰된 구시대 인물들을 과감히 물갈이하라는 게 국민의 요구다.\\', \\'이 대표는 \"검찰 개혁이란 대의에 집중하다 보니, 국민 특히 청년이 느꼈을 불공정에 대한 상대적 박탈감, 좌절감을 깊이 있게 헤아리지 못했다\"며 \"여당 대표로서 무거운 책임감을 느낀다\"고 머리를 숙였다.\\', \\'무조건 물러나는 게 능사는 아니지만 국정 혼선을 초래한 데 대해 당 지도부가 겸허하게 책임지는 모습을 보이는 게 쇄신의 출발점이 돼야 한다는 지적도 있다.\\', \\'이 대표는 \"민주당의 가치를 공유하는 참신한 인물을 영입해 준비된 정책과 인물로 승부하겠다\"고 다짐했다.\\', \\'뒤늦게나마 이 대표가 자성의 목소리를 내긴 했으나 당 안팎의 쇄신 요구에 어떻게 응할지 구체적 플랜을 제시하지 못해 여전히 안이하다는 지적도 나온다.\\', \"청와대와 여당은 \\'조국 정국\\'을 거치며 분출된 \\'공정\\'과 \\'정의\\'의 민심을 받들어 검찰 개혁에 매진하겠다면서도 두 달간 극심한 분열과 갈등을 초래한데 대해선 진지하게 성찰하는 모습을 보이지 않았다.\", \\'선거는 대중의 이해와 요구를 잘 대표하는 정치인을 뽑는 행위다.\\', \\'하지만 당 일각에선 \"총선기획단장을 비롯한 당직 인선부터 쇄신 의지를 보여야 한다\"는 비판의 목소리가 나온다.\\', \\'이 대표는 28 일 윤호중 사무총장을 단장으로 하는 총선기획단을 발족했고 조만간 인재영입위원회도 출범시킬 계획이라고 밝혔다.\\', \\'그나마 초선인 이철희 의원이 \"당이 대통령 뒤에 비겁하게 숨어 있었다\"고 비판했고, 표창원 의원은 \"책임을 느끼는 분들이 각자 형태로 그 책임감을 행동으로 옮겨야 할 때\"라고 지적했다.\\']\\n'"
      ]
     },
     "execution_count": 67,
     "metadata": {},
     "output_type": "execute_result"
    }
   ],
   "source": [
    "contents[0]"
   ]
  },
  {
   "cell_type": "code",
   "execution_count": 68,
   "id": "687646e9-7dc5-4df4-afb6-7704268566aa",
   "metadata": {},
   "outputs": [
    {
     "data": {
      "text/plain": [
       "'['"
      ]
     },
     "execution_count": 68,
     "metadata": {},
     "output_type": "execute_result"
    }
   ],
   "source": [
    "contents[0][0]"
   ]
  },
  {
   "cell_type": "code",
   "execution_count": 8,
   "id": "a4c04a20-11c3-43d8-af42-d5be5e3928a4",
   "metadata": {},
   "outputs": [
    {
     "name": "stdout",
     "output_type": "stream",
     "text": [
      "/data/intern_task5/task11\n"
     ]
    }
   ],
   "source": [
    "!pwd"
   ]
  },
  {
   "cell_type": "code",
   "execution_count": 20,
   "id": "826b9e1b-b1b1-4a5a-9d4c-f23eab131841",
   "metadata": {},
   "outputs": [
    {
     "ename": "ValueError",
     "evalue": "unsupported pickle protocol: 5",
     "output_type": "error",
     "traceback": [
      "\u001b[0;31m---------------------------------------------------------------------------\u001b[0m",
      "\u001b[0;31mValueError\u001b[0m                                Traceback (most recent call last)",
      "\u001b[0;32m<ipython-input-20-64553669352d>\u001b[0m in \u001b[0;36m<module>\u001b[0;34m\u001b[0m\n\u001b[1;32m      8\u001b[0m \u001b[0;32mwith\u001b[0m \u001b[0mopen\u001b[0m\u001b[0;34m(\u001b[0m\u001b[0mpickle_file_path\u001b[0m\u001b[0;34m,\u001b[0m \u001b[0;34m\"rb\"\u001b[0m\u001b[0;34m)\u001b[0m \u001b[0;32mas\u001b[0m \u001b[0mpickle_file\u001b[0m\u001b[0;34m:\u001b[0m\u001b[0;34m\u001b[0m\u001b[0;34m\u001b[0m\u001b[0m\n\u001b[1;32m      9\u001b[0m     \u001b[0;31m# pickle 파일에서 데이터 읽어오기\u001b[0m\u001b[0;34m\u001b[0m\u001b[0;34m\u001b[0m\u001b[0;34m\u001b[0m\u001b[0m\n\u001b[0;32m---> 10\u001b[0;31m     \u001b[0mdata\u001b[0m \u001b[0;34m=\u001b[0m \u001b[0mpickle\u001b[0m\u001b[0;34m.\u001b[0m\u001b[0mload\u001b[0m\u001b[0;34m(\u001b[0m\u001b[0mpickle_file\u001b[0m\u001b[0;34m)\u001b[0m\u001b[0;34m\u001b[0m\u001b[0;34m\u001b[0m\u001b[0m\n\u001b[0m\u001b[1;32m     11\u001b[0m \u001b[0;34m\u001b[0m\u001b[0m\n\u001b[1;32m     12\u001b[0m \u001b[0;31m# 데이터 출력\u001b[0m\u001b[0;34m\u001b[0m\u001b[0;34m\u001b[0m\u001b[0;34m\u001b[0m\u001b[0m\n",
      "\u001b[0;31mValueError\u001b[0m: unsupported pickle protocol: 5"
     ]
    }
   ],
   "source": [
    "import pickle\n",
    "\n",
    "# pickle 파일 경로 설정\n",
    "#intern_task5/task11/ext/data/raw/valid_df.pickle\n",
    "pickle_file_path = \"ext/data/raw/valid_df.pickle\"\n",
    "\n",
    "# pickle 파일 열기 (읽기 모드)\n",
    "with open(pickle_file_path, \"rb\") as pickle_file:\n",
    "    # pickle 파일에서 데이터 읽어오기\n",
    "    data = pickle.load(pickle_file)\n",
    "\n",
    "# 데이터 출력\n",
    "print(data)"
   ]
  },
  {
   "cell_type": "code",
   "execution_count": 18,
   "id": "90de7c71-ceb4-4f79-9eb5-561d141bfa41",
   "metadata": {},
   "outputs": [
    {
     "ename": "EOFError",
     "evalue": "Ran out of input",
     "output_type": "error",
     "traceback": [
      "\u001b[0;31m---------------------------------------------------------------------------\u001b[0m",
      "\u001b[0;31mEOFError\u001b[0m                                  Traceback (most recent call last)",
      "\u001b[0;32m<ipython-input-18-70543840b0d2>\u001b[0m in \u001b[0;36m<module>\u001b[0;34m\u001b[0m\n\u001b[1;32m      3\u001b[0m \u001b[0;31m## Load pickle\u001b[0m\u001b[0;34m\u001b[0m\u001b[0;34m\u001b[0m\u001b[0;34m\u001b[0m\u001b[0m\n\u001b[1;32m      4\u001b[0m \u001b[0;32mwith\u001b[0m \u001b[0mopen\u001b[0m\u001b[0;34m(\u001b[0m\u001b[0;34m\"ext/data/raw/test_df.pickle\"\u001b[0m\u001b[0;34m,\u001b[0m\u001b[0;34m\"rb\"\u001b[0m\u001b[0;34m)\u001b[0m \u001b[0;32mas\u001b[0m \u001b[0mfr\u001b[0m\u001b[0;34m:\u001b[0m\u001b[0;34m\u001b[0m\u001b[0;34m\u001b[0m\u001b[0m\n\u001b[0;32m----> 5\u001b[0;31m     \u001b[0mdata\u001b[0m \u001b[0;34m=\u001b[0m \u001b[0mpickle\u001b[0m\u001b[0;34m.\u001b[0m\u001b[0mload\u001b[0m\u001b[0;34m(\u001b[0m\u001b[0mfr\u001b[0m\u001b[0;34m)\u001b[0m\u001b[0;34m\u001b[0m\u001b[0;34m\u001b[0m\u001b[0m\n\u001b[0m\u001b[1;32m      6\u001b[0m \u001b[0mprint\u001b[0m\u001b[0;34m(\u001b[0m\u001b[0mdata\u001b[0m\u001b[0;34m)\u001b[0m\u001b[0;34m\u001b[0m\u001b[0;34m\u001b[0m\u001b[0m\n",
      "\u001b[0;31mEOFError\u001b[0m: Ran out of input"
     ]
    }
   ],
   "source": [
    "import pickle\n",
    "\n",
    "## Load pickle\n",
    "with open(\"ext/data/raw/test_df.pickle\",\"rb\") as fr:\n",
    "    data = pickle.load(fr)\n",
    "print(data)"
   ]
  },
  {
   "cell_type": "code",
   "execution_count": null,
   "id": "5419ba45-69aa-4254-87a2-9068914a74df",
   "metadata": {},
   "outputs": [],
   "source": [
    "# 백업하기"
   ]
  },
  {
   "cell_type": "code",
   "execution_count": 22,
   "id": "c8ba8db3-b930-423a-bcb2-61efa37319df",
   "metadata": {},
   "outputs": [
    {
     "name": "stdout",
     "output_type": "stream",
     "text": [
      "/data/intern_task5/task11\n"
     ]
    }
   ],
   "source": [
    "!pwd"
   ]
  },
  {
   "cell_type": "code",
   "execution_count": 23,
   "id": "fcb7218f-24a9-4809-9393-32cde701499c",
   "metadata": {},
   "outputs": [
    {
     "name": "stdout",
     "output_type": "stream",
     "text": [
      "/data/intern_task5\n"
     ]
    }
   ],
   "source": [
    "cd .."
   ]
  },
  {
   "cell_type": "code",
   "execution_count": 25,
   "id": "25221101-530b-48fd-9d33-2d9c06a76ddd",
   "metadata": {},
   "outputs": [
    {
     "data": {
      "text/plain": [
       "'/data/intern_task5/backup.zip'"
      ]
     },
     "execution_count": 25,
     "metadata": {},
     "output_type": "execute_result"
    }
   ],
   "source": [
    "import shutil\n",
    "shutil.make_archive('backup', 'zip', './task11')"
   ]
  }
 ],
 "metadata": {
  "kernelspec": {
   "display_name": "Python 3",
   "language": "python",
   "name": "python3"
  },
  "language_info": {
   "codemirror_mode": {
    "name": "ipython",
    "version": 3
   },
   "file_extension": ".py",
   "mimetype": "text/x-python",
   "name": "python",
   "nbconvert_exporter": "python",
   "pygments_lexer": "ipython3",
   "version": "3.6.9"
  }
 },
 "nbformat": 4,
 "nbformat_minor": 5
}
