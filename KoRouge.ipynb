{
 "cells": [
  {
   "cell_type": "code",
   "execution_count": 1,
   "id": "c0ae065f-54f1-4fad-b48a-74d9982d9789",
   "metadata": {},
   "outputs": [
    {
     "name": "stdout",
     "output_type": "stream",
     "text": [
      "Looking in indexes: https://pypi.tuna.tsinghua.edu.cn/simple\n",
      "Collecting git+https://github.com/pltrdy/pyrouge\n",
      "  Cloning https://github.com/pltrdy/pyrouge to /tmp/pip-req-build-jiqd1qwu\n",
      "  Running command git clone --filter=blob:none --quiet https://github.com/pltrdy/pyrouge /tmp/pip-req-build-jiqd1qwu\n",
      "  Resolved https://github.com/pltrdy/pyrouge to commit dfdff03cff1b69bfb18d42dadfb79c79f1caaa18\n",
      "  Preparing metadata (setup.py) ... \u001b[?25ldone\n",
      "\u001b[33mWARNING: Running pip as the 'root' user can result in broken permissions and conflicting behaviour with the system package manager. It is recommended to use a virtual environment instead: https://pip.pypa.io/warnings/venv\u001b[0m\u001b[33m\n",
      "\u001b[0m\u001b[?25h"
     ]
    }
   ],
   "source": [
    "!pip install -U git+https://github.com/pltrdy/pyrouge"
   ]
  },
  {
   "cell_type": "code",
   "execution_count": 2,
   "id": "0c94aabe-892e-40d0-9170-1988e6ca8abc",
   "metadata": {},
   "outputs": [
    {
     "name": "stdout",
     "output_type": "stream",
     "text": [
      "Cloning into 'files2rouge'...\n",
      "remote: Enumerating objects: 278, done.\u001b[K\n",
      "remote: Counting objects: 100% (20/20), done.\u001b[K\n",
      "remote: Compressing objects: 100% (14/14), done.\u001b[K\n",
      "remote: Total 278 (delta 9), reused 11 (delta 6), pack-reused 258\u001b[K\n",
      "Receiving objects: 100% (278/278), 212.16 KiB | 11.79 MiB/s, done.\n",
      "Resolving deltas: 100% (133/133), done.\n"
     ]
    }
   ],
   "source": [
    "!git clone https://github.com/pltrdy/files2rouge.git   "
   ]
  },
  {
   "cell_type": "code",
   "execution_count": 16,
   "id": "88dd1043-786d-4fe3-bc93-aa517fd4a305",
   "metadata": {},
   "outputs": [
    {
     "name": "stdout",
     "output_type": "stream",
     "text": [
      "/data/intern_task5/task11/files2rouge/KoROUGE\n"
     ]
    }
   ],
   "source": [
    "!pwd"
   ]
  },
  {
   "cell_type": "code",
   "execution_count": 15,
   "id": "77d3f0c7-aba3-4314-ba61-339e87ce093c",
   "metadata": {},
   "outputs": [
    {
     "name": "stdout",
     "output_type": "stream",
     "text": [
      "[Errno 2] No such file or directory: 'files2rouge'\n",
      "/data/intern_task5/task11/files2rouge/KoROUGE\n"
     ]
    }
   ],
   "source": [
    "cd files2rouge"
   ]
  },
  {
   "cell_type": "code",
   "execution_count": 14,
   "id": "afc82d44-beeb-48c6-9320-2f91aa8e7c24",
   "metadata": {},
   "outputs": [
    {
     "name": "stdout",
     "output_type": "stream",
     "text": [
      "python: can't open file '/data/intern_task5/task11/files2rouge/KoROUGE/setup_rouge.py': [Errno 2] No such file or directory\n"
     ]
    }
   ],
   "source": [
    "!python setup_rouge.py"
   ]
  },
  {
   "cell_type": "code",
   "execution_count": null,
   "id": "dedbe0dc-79e6-41f4-b54c-63c1a63016be",
   "metadata": {},
   "outputs": [],
   "source": [
    "!python setup.py install"
   ]
  },
  {
   "cell_type": "code",
   "execution_count": null,
   "id": "c50962c3-cae1-45c2-81cc-cc80c095c59b",
   "metadata": {},
   "outputs": [],
   "source": []
  },
  {
   "cell_type": "code",
   "execution_count": null,
   "id": "fd6d915c-0864-4d77-90ae-58a94dd59852",
   "metadata": {},
   "outputs": [],
   "source": []
  },
  {
   "cell_type": "code",
   "execution_count": null,
   "id": "b8735670-a215-43f8-a02e-284e2e153ea2",
   "metadata": {},
   "outputs": [],
   "source": []
  },
  {
   "cell_type": "code",
   "execution_count": null,
   "id": "2374ea7a-71f3-4ab8-b9f2-d357e4ce0dde",
   "metadata": {},
   "outputs": [],
   "source": []
  }
 ],
 "metadata": {
  "kernelspec": {
   "display_name": "Python 3",
   "language": "python",
   "name": "python3"
  },
  "language_info": {
   "codemirror_mode": {
    "name": "ipython",
    "version": 3
   },
   "file_extension": ".py",
   "mimetype": "text/x-python",
   "name": "python",
   "nbconvert_exporter": "python",
   "pygments_lexer": "ipython3",
   "version": "3.6.9"
  }
 },
 "nbformat": 4,
 "nbformat_minor": 5
}
